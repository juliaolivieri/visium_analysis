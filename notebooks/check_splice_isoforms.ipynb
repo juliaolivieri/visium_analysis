{
 "cells": [
  {
   "cell_type": "code",
   "execution_count": 1,
   "id": "2161ecb2",
   "metadata": {
    "ExecuteTime": {
     "end_time": "2023-02-13T15:13:10.398255Z",
     "start_time": "2023-02-13T15:12:45.811686Z"
    }
   },
   "outputs": [],
   "source": [
    "import pandas as pd\n",
    "import matplotlib.pyplot as plt"
   ]
  },
  {
   "cell_type": "code",
   "execution_count": 2,
   "id": "7d9b98b0",
   "metadata": {
    "ExecuteTime": {
     "end_time": "2023-02-13T15:13:28.596046Z",
     "start_time": "2023-02-13T15:13:13.686425Z"
    }
   },
   "outputs": [],
   "source": [
    "# dataname = \"V1_Mouse_Kidney\"\n",
    "dataname = \"V1_Mouse_Brain_Sagittal_Posterior\"\n",
    "# dataname = \"V1_Mouse_Brain_Sagittal_Anterior\"\n",
    "\n",
    "samples = pd.read_csv(\"output/make_samplesheet/spatial.csv\",index_col = 0)\n",
    "row = samples.loc[dataname]\n",
    "ci = pd.read_parquet(row[\"class_input\"])\n",
    "meta = pd.read_csv(row[\"metadata\"],sep=\"\\t\")\n",
    "merged = ci.merge(meta[[\"barcode\",\"quadrant\",\"circle\"]],on=\"barcode\")"
   ]
  },
  {
   "cell_type": "code",
   "execution_count": 59,
   "id": "fe05c919",
   "metadata": {
    "ExecuteTime": {
     "end_time": "2023-02-10T22:19:57.436347Z",
     "start_time": "2023-02-10T22:19:57.433788Z"
    }
   },
   "outputs": [],
   "source": [
    "gene = \"Myl6\"\n",
    "side1 = \"juncPosR1A\"\n",
    "side2 = \"juncPosR1B\"\n",
    "val = 128491033\n",
    "exon_skip = 128492059\n",
    "exon_inc = 128491720"
   ]
  },
  {
   "cell_type": "code",
   "execution_count": 10,
   "id": "ef3be259",
   "metadata": {
    "ExecuteTime": {
     "end_time": "2023-02-10T22:23:49.354752Z",
     "start_time": "2023-02-10T22:23:49.352499Z"
    }
   },
   "outputs": [],
   "source": [
    "gene = \"Gng13\"\n",
    "side1 = \"juncPosR1B\"\n",
    "side2 = \"juncPosR1A\"\n",
    "val = 25718667\n",
    "exon_skip = 25717277\n",
    "exon_inc = 25717581"
   ]
  },
  {
   "cell_type": "code",
   "execution_count": 3,
   "id": "8515983a",
   "metadata": {
    "ExecuteTime": {
     "end_time": "2023-02-13T15:13:30.993139Z",
     "start_time": "2023-02-13T15:13:30.990373Z"
    }
   },
   "outputs": [],
   "source": [
    "gene = \"Rps24\"\n",
    "side1 = \"juncPosR1A\"\n",
    "side2 = \"juncPosR1B\"\n",
    "val = 24493493\n",
    "# exon_skip = 24495430\n",
    "# exon_inc = 24493617\n",
    "\n",
    "exon_inc1 = 24495430\n",
    "exon_inc2 = 24493617\n",
    "exon_skip = 24495775"
   ]
  },
  {
   "cell_type": "code",
   "execution_count": 4,
   "id": "32ab7d6d",
   "metadata": {
    "ExecuteTime": {
     "end_time": "2023-02-13T15:13:34.522370Z",
     "start_time": "2023-02-13T15:13:33.371562Z"
    }
   },
   "outputs": [],
   "source": [
    "gene_df = merged[(merged[\"geneR1A_uniq\"] == gene) & (merged[side1] == val)]"
   ]
  },
  {
   "cell_type": "code",
   "execution_count": 5,
   "id": "450336b5",
   "metadata": {
    "ExecuteTime": {
     "end_time": "2023-02-13T15:13:37.452944Z",
     "start_time": "2023-02-13T15:13:37.446256Z"
    }
   },
   "outputs": [
    {
     "data": {
      "text/plain": [
       "24495430    3298\n",
       "24493617    2493\n",
       "24494052    2264\n",
       "24495775    1577\n",
       "24495434       3\n",
       "24495405       2\n",
       "24552336       1\n",
       "24561850       1\n",
       "24495427       1\n",
       "24557896       1\n",
       "24577845       1\n",
       "24530248       1\n",
       "24495781       1\n",
       "24519659       1\n",
       "24495347       1\n",
       "Name: juncPosR1B, dtype: int64"
      ]
     },
     "execution_count": 5,
     "metadata": {},
     "output_type": "execute_result"
    }
   ],
   "source": [
    "gene_df[side2].value_counts()"
   ]
  },
  {
   "cell_type": "code",
   "execution_count": 6,
   "id": "feb583a9",
   "metadata": {
    "ExecuteTime": {
     "end_time": "2023-02-13T15:13:40.408500Z",
     "start_time": "2023-02-13T15:13:40.400823Z"
    }
   },
   "outputs": [
    {
     "name": "stdout",
     "output_type": "stream",
     "text": [
      "two included\n"
     ]
    },
    {
     "data": {
      "text/plain": [
       "0.7879614475359156"
      ]
     },
     "metadata": {},
     "output_type": "display_data"
    }
   ],
   "source": [
    "# outer circle has less exon inclusion\n",
    "vc = gene_df[gene_df[\"circle\"] == 1][side2].value_counts()\n",
    "try:\n",
    "  display(vc[exon_inc]/(vc[exon_inc] + vc[exon_skip]))\n",
    "except:\n",
    "  print('two included')\n",
    "  display((vc[exon_inc1] + vc[exon_inc2])/(vc[exon_inc1] + vc[exon_inc2] + vc[exon_skip]))"
   ]
  },
  {
   "cell_type": "code",
   "execution_count": 7,
   "id": "e7cdd138",
   "metadata": {
    "ExecuteTime": {
     "end_time": "2023-02-13T15:13:43.352215Z",
     "start_time": "2023-02-13T15:13:43.345410Z"
    }
   },
   "outputs": [
    {
     "name": "stdout",
     "output_type": "stream",
     "text": [
      "two included\n"
     ]
    },
    {
     "data": {
      "text/plain": [
       "0.7800963081861958"
      ]
     },
     "metadata": {},
     "output_type": "display_data"
    }
   ],
   "source": [
    "# inner circle contains higher exon inclusion\n",
    "vc = gene_df[gene_df[\"circle\"] == 2][side2].value_counts()\n",
    "try:\n",
    "  display(vc[exon_inc]/(vc[exon_inc] + vc[exon_skip]))\n",
    "except:\n",
    "  print('two included')\n",
    "  \n",
    "  display((vc[exon_inc1] + vc[exon_inc2])/(vc[exon_inc1] + vc[exon_inc2] + vc[exon_skip]))"
   ]
  },
  {
   "cell_type": "code",
   "execution_count": 25,
   "id": "9b926568",
   "metadata": {
    "ExecuteTime": {
     "end_time": "2023-02-10T22:34:57.742293Z",
     "start_time": "2023-02-10T22:34:57.714097Z"
    }
   },
   "outputs": [
    {
     "data": {
      "text/html": [
       "<div>\n",
       "<style scoped>\n",
       "    .dataframe tbody tr th:only-of-type {\n",
       "        vertical-align: middle;\n",
       "    }\n",
       "\n",
       "    .dataframe tbody tr th {\n",
       "        vertical-align: top;\n",
       "    }\n",
       "\n",
       "    .dataframe thead th {\n",
       "        text-align: right;\n",
       "    }\n",
       "</style>\n",
       "<table border=\"1\" class=\"dataframe\">\n",
       "  <thead>\n",
       "    <tr style=\"text-align: right;\">\n",
       "      <th></th>\n",
       "      <th>refName_newR1</th>\n",
       "      <th>geneR1A_uniq</th>\n",
       "      <th>geneR1B_uniq</th>\n",
       "      <th>juncPosR1A</th>\n",
       "      <th>juncPosR1B</th>\n",
       "      <th>chrR1A</th>\n",
       "      <th>chrR1B</th>\n",
       "      <th>numReads</th>\n",
       "      <th>cell</th>\n",
       "      <th>barcode</th>\n",
       "      <th>...</th>\n",
       "      <th>array_row</th>\n",
       "      <th>array_col</th>\n",
       "      <th>xcoord</th>\n",
       "      <th>ycoord</th>\n",
       "      <th>plot_xcoord</th>\n",
       "      <th>plot_ycoord</th>\n",
       "      <th>pixval</th>\n",
       "      <th>pixquant</th>\n",
       "      <th>quadrant</th>\n",
       "      <th>circle</th>\n",
       "    </tr>\n",
       "  </thead>\n",
       "  <tbody>\n",
       "    <tr>\n",
       "      <th>187</th>\n",
       "      <td>chr14:Rps24:24493493:+|chr14:Rps24:24495430:+|lin</td>\n",
       "      <td>Rps24</td>\n",
       "      <td>Rps24</td>\n",
       "      <td>24493493</td>\n",
       "      <td>24495430</td>\n",
       "      <td>chr14</td>\n",
       "      <td>chr14</td>\n",
       "      <td>5</td>\n",
       "      <td>V1_Mouse_Brain_Sagittal_Posterior_ATCAGGTAGCTG...</td>\n",
       "      <td>ATCAGGTAGCTGACAG-1</td>\n",
       "      <td>...</td>\n",
       "      <td>33.0</td>\n",
       "      <td>127.0</td>\n",
       "      <td>5372.0</td>\n",
       "      <td>10177.0</td>\n",
       "      <td>10177.0</td>\n",
       "      <td>-5372.0</td>\n",
       "      <td>77.0</td>\n",
       "      <td>0.0</td>\n",
       "      <td>1</td>\n",
       "      <td>1</td>\n",
       "    </tr>\n",
       "    <tr>\n",
       "      <th>1394</th>\n",
       "      <td>chr14:Rps24:24493493:+|chr14:Rps24:24495430:+|lin</td>\n",
       "      <td>Rps24</td>\n",
       "      <td>Rps24</td>\n",
       "      <td>24493493</td>\n",
       "      <td>24495430</td>\n",
       "      <td>chr14</td>\n",
       "      <td>chr14</td>\n",
       "      <td>29</td>\n",
       "      <td>V1_Mouse_Brain_Sagittal_Posterior_CTGCCTTTAATA...</td>\n",
       "      <td>CTGCCTTTAATACCTT-1</td>\n",
       "      <td>...</td>\n",
       "      <td>64.0</td>\n",
       "      <td>28.0</td>\n",
       "      <td>9086.0</td>\n",
       "      <td>3360.0</td>\n",
       "      <td>3360.0</td>\n",
       "      <td>-9086.0</td>\n",
       "      <td>139.0</td>\n",
       "      <td>7.0</td>\n",
       "      <td>3</td>\n",
       "      <td>1</td>\n",
       "    </tr>\n",
       "    <tr>\n",
       "      <th>1395</th>\n",
       "      <td>chr14:Rps24:24493493:+|chr14:Rps24:24495775:+|lin</td>\n",
       "      <td>Rps24</td>\n",
       "      <td>Rps24</td>\n",
       "      <td>24493493</td>\n",
       "      <td>24495775</td>\n",
       "      <td>chr14</td>\n",
       "      <td>chr14</td>\n",
       "      <td>2</td>\n",
       "      <td>V1_Mouse_Brain_Sagittal_Posterior_CTGCCTTTAATA...</td>\n",
       "      <td>CTGCCTTTAATACCTT-1</td>\n",
       "      <td>...</td>\n",
       "      <td>64.0</td>\n",
       "      <td>28.0</td>\n",
       "      <td>9086.0</td>\n",
       "      <td>3360.0</td>\n",
       "      <td>3360.0</td>\n",
       "      <td>-9086.0</td>\n",
       "      <td>139.0</td>\n",
       "      <td>7.0</td>\n",
       "      <td>3</td>\n",
       "      <td>1</td>\n",
       "    </tr>\n",
       "    <tr>\n",
       "      <th>4138</th>\n",
       "      <td>chr14:Rps24:24493493:+|chr14:Rps24:24495430:+|lin</td>\n",
       "      <td>Rps24</td>\n",
       "      <td>Rps24</td>\n",
       "      <td>24493493</td>\n",
       "      <td>24495430</td>\n",
       "      <td>chr14</td>\n",
       "      <td>chr14</td>\n",
       "      <td>45</td>\n",
       "      <td>V1_Mouse_Brain_Sagittal_Posterior_CTTAGGTATAGA...</td>\n",
       "      <td>CTTAGGTATAGACCAG-1</td>\n",
       "      <td>...</td>\n",
       "      <td>63.0</td>\n",
       "      <td>15.0</td>\n",
       "      <td>8967.0</td>\n",
       "      <td>2465.0</td>\n",
       "      <td>2465.0</td>\n",
       "      <td>-8967.0</td>\n",
       "      <td>137.0</td>\n",
       "      <td>6.0</td>\n",
       "      <td>3</td>\n",
       "      <td>1</td>\n",
       "    </tr>\n",
       "    <tr>\n",
       "      <th>4139</th>\n",
       "      <td>chr14:Rps24:24493493:+|chr14:Rps24:24495775:+|lin</td>\n",
       "      <td>Rps24</td>\n",
       "      <td>Rps24</td>\n",
       "      <td>24493493</td>\n",
       "      <td>24495775</td>\n",
       "      <td>chr14</td>\n",
       "      <td>chr14</td>\n",
       "      <td>2</td>\n",
       "      <td>V1_Mouse_Brain_Sagittal_Posterior_CTTAGGTATAGA...</td>\n",
       "      <td>CTTAGGTATAGACCAG-1</td>\n",
       "      <td>...</td>\n",
       "      <td>63.0</td>\n",
       "      <td>15.0</td>\n",
       "      <td>8967.0</td>\n",
       "      <td>2465.0</td>\n",
       "      <td>2465.0</td>\n",
       "      <td>-8967.0</td>\n",
       "      <td>137.0</td>\n",
       "      <td>6.0</td>\n",
       "      <td>3</td>\n",
       "      <td>1</td>\n",
       "    </tr>\n",
       "    <tr>\n",
       "      <th>...</th>\n",
       "      <td>...</td>\n",
       "      <td>...</td>\n",
       "      <td>...</td>\n",
       "      <td>...</td>\n",
       "      <td>...</td>\n",
       "      <td>...</td>\n",
       "      <td>...</td>\n",
       "      <td>...</td>\n",
       "      <td>...</td>\n",
       "      <td>...</td>\n",
       "      <td>...</td>\n",
       "      <td>...</td>\n",
       "      <td>...</td>\n",
       "      <td>...</td>\n",
       "      <td>...</td>\n",
       "      <td>...</td>\n",
       "      <td>...</td>\n",
       "      <td>...</td>\n",
       "      <td>...</td>\n",
       "      <td>...</td>\n",
       "      <td>...</td>\n",
       "    </tr>\n",
       "    <tr>\n",
       "      <th>4834889</th>\n",
       "      <td>chr14:Rps24:24493493:+|chr14:Rps24:24495430:+|lin</td>\n",
       "      <td>Rps24</td>\n",
       "      <td>Rps24</td>\n",
       "      <td>24493493</td>\n",
       "      <td>24495430</td>\n",
       "      <td>chr14</td>\n",
       "      <td>chr14</td>\n",
       "      <td>1</td>\n",
       "      <td>V1_Mouse_Brain_Sagittal_Posterior_GGTGCGGATAAG...</td>\n",
       "      <td>GGTGCGGATAAGTGGC-1</td>\n",
       "      <td>...</td>\n",
       "      <td>16.0</td>\n",
       "      <td>46.0</td>\n",
       "      <td>3336.0</td>\n",
       "      <td>4599.0</td>\n",
       "      <td>4599.0</td>\n",
       "      <td>-3336.0</td>\n",
       "      <td>131.0</td>\n",
       "      <td>3.0</td>\n",
       "      <td>2</td>\n",
       "      <td>1</td>\n",
       "    </tr>\n",
       "    <tr>\n",
       "      <th>4835319</th>\n",
       "      <td>chr14:Rps24:24493493:+|chr14:Rps24:24495430:+|lin</td>\n",
       "      <td>Rps24</td>\n",
       "      <td>Rps24</td>\n",
       "      <td>24493493</td>\n",
       "      <td>24495430</td>\n",
       "      <td>chr14</td>\n",
       "      <td>chr14</td>\n",
       "      <td>2</td>\n",
       "      <td>V1_Mouse_Brain_Sagittal_Posterior_GCATCGGCCGTG...</td>\n",
       "      <td>GCATCGGCCGTGTAGG-1</td>\n",
       "      <td>...</td>\n",
       "      <td>49.0</td>\n",
       "      <td>103.0</td>\n",
       "      <td>7289.0</td>\n",
       "      <td>8524.0</td>\n",
       "      <td>8524.0</td>\n",
       "      <td>-7289.0</td>\n",
       "      <td>127.0</td>\n",
       "      <td>1.0</td>\n",
       "      <td>4</td>\n",
       "      <td>1</td>\n",
       "    </tr>\n",
       "    <tr>\n",
       "      <th>4835450</th>\n",
       "      <td>chr14:Rps24:24493493:+|chr14:Rps24:24495430:+|lin</td>\n",
       "      <td>Rps24</td>\n",
       "      <td>Rps24</td>\n",
       "      <td>24493493</td>\n",
       "      <td>24495430</td>\n",
       "      <td>chr14</td>\n",
       "      <td>chr14</td>\n",
       "      <td>1</td>\n",
       "      <td>V1_Mouse_Brain_Sagittal_Posterior_GCCATTAGCCTC...</td>\n",
       "      <td>GCCATTAGCCTCAAAC-1</td>\n",
       "      <td>...</td>\n",
       "      <td>55.0</td>\n",
       "      <td>13.0</td>\n",
       "      <td>8008.0</td>\n",
       "      <td>2327.0</td>\n",
       "      <td>2327.0</td>\n",
       "      <td>-8008.0</td>\n",
       "      <td>133.0</td>\n",
       "      <td>4.0</td>\n",
       "      <td>3</td>\n",
       "      <td>1</td>\n",
       "    </tr>\n",
       "    <tr>\n",
       "      <th>4835521</th>\n",
       "      <td>chr14:Rps24:24493493:+|chr14:Rps24:24495430:+|lin</td>\n",
       "      <td>Rps24</td>\n",
       "      <td>Rps24</td>\n",
       "      <td>24493493</td>\n",
       "      <td>24495430</td>\n",
       "      <td>chr14</td>\n",
       "      <td>chr14</td>\n",
       "      <td>1</td>\n",
       "      <td>V1_Mouse_Brain_Sagittal_Posterior_GTCGTGTCTGGT...</td>\n",
       "      <td>GTCGTGTCTGGTCATC-1</td>\n",
       "      <td>...</td>\n",
       "      <td>28.0</td>\n",
       "      <td>110.0</td>\n",
       "      <td>4773.0</td>\n",
       "      <td>9006.0</td>\n",
       "      <td>9006.0</td>\n",
       "      <td>-4773.0</td>\n",
       "      <td>142.0</td>\n",
       "      <td>8.0</td>\n",
       "      <td>1</td>\n",
       "      <td>1</td>\n",
       "    </tr>\n",
       "    <tr>\n",
       "      <th>4835872</th>\n",
       "      <td>chr14:Rps24:24493493:+|chr14:Rps24:24495430:+|lin</td>\n",
       "      <td>Rps24</td>\n",
       "      <td>Rps24</td>\n",
       "      <td>24493493</td>\n",
       "      <td>24495430</td>\n",
       "      <td>chr14</td>\n",
       "      <td>chr14</td>\n",
       "      <td>1</td>\n",
       "      <td>V1_Mouse_Brain_Sagittal_Posterior_ACCATTAAGGGT...</td>\n",
       "      <td>ACCATTAAGGGTGTCA-1</td>\n",
       "      <td>...</td>\n",
       "      <td>13.0</td>\n",
       "      <td>5.0</td>\n",
       "      <td>2976.0</td>\n",
       "      <td>1776.0</td>\n",
       "      <td>1776.0</td>\n",
       "      <td>-2976.0</td>\n",
       "      <td>136.0</td>\n",
       "      <td>5.0</td>\n",
       "      <td>2</td>\n",
       "      <td>1</td>\n",
       "    </tr>\n",
       "  </tbody>\n",
       "</table>\n",
       "<p>9646 rows × 21 columns</p>\n",
       "</div>"
      ],
      "text/plain": [
       "                                             refName_newR1 geneR1A_uniq  \\\n",
       "187      chr14:Rps24:24493493:+|chr14:Rps24:24495430:+|lin        Rps24   \n",
       "1394     chr14:Rps24:24493493:+|chr14:Rps24:24495430:+|lin        Rps24   \n",
       "1395     chr14:Rps24:24493493:+|chr14:Rps24:24495775:+|lin        Rps24   \n",
       "4138     chr14:Rps24:24493493:+|chr14:Rps24:24495430:+|lin        Rps24   \n",
       "4139     chr14:Rps24:24493493:+|chr14:Rps24:24495775:+|lin        Rps24   \n",
       "...                                                    ...          ...   \n",
       "4834889  chr14:Rps24:24493493:+|chr14:Rps24:24495430:+|lin        Rps24   \n",
       "4835319  chr14:Rps24:24493493:+|chr14:Rps24:24495430:+|lin        Rps24   \n",
       "4835450  chr14:Rps24:24493493:+|chr14:Rps24:24495430:+|lin        Rps24   \n",
       "4835521  chr14:Rps24:24493493:+|chr14:Rps24:24495430:+|lin        Rps24   \n",
       "4835872  chr14:Rps24:24493493:+|chr14:Rps24:24495430:+|lin        Rps24   \n",
       "\n",
       "        geneR1B_uniq  juncPosR1A  juncPosR1B chrR1A chrR1B  numReads  \\\n",
       "187            Rps24    24493493    24495430  chr14  chr14         5   \n",
       "1394           Rps24    24493493    24495430  chr14  chr14        29   \n",
       "1395           Rps24    24493493    24495775  chr14  chr14         2   \n",
       "4138           Rps24    24493493    24495430  chr14  chr14        45   \n",
       "4139           Rps24    24493493    24495775  chr14  chr14         2   \n",
       "...              ...         ...         ...    ...    ...       ...   \n",
       "4834889        Rps24    24493493    24495430  chr14  chr14         1   \n",
       "4835319        Rps24    24493493    24495430  chr14  chr14         2   \n",
       "4835450        Rps24    24493493    24495430  chr14  chr14         1   \n",
       "4835521        Rps24    24493493    24495430  chr14  chr14         1   \n",
       "4835872        Rps24    24493493    24495430  chr14  chr14         1   \n",
       "\n",
       "                                                      cell  \\\n",
       "187      V1_Mouse_Brain_Sagittal_Posterior_ATCAGGTAGCTG...   \n",
       "1394     V1_Mouse_Brain_Sagittal_Posterior_CTGCCTTTAATA...   \n",
       "1395     V1_Mouse_Brain_Sagittal_Posterior_CTGCCTTTAATA...   \n",
       "4138     V1_Mouse_Brain_Sagittal_Posterior_CTTAGGTATAGA...   \n",
       "4139     V1_Mouse_Brain_Sagittal_Posterior_CTTAGGTATAGA...   \n",
       "...                                                    ...   \n",
       "4834889  V1_Mouse_Brain_Sagittal_Posterior_GGTGCGGATAAG...   \n",
       "4835319  V1_Mouse_Brain_Sagittal_Posterior_GCATCGGCCGTG...   \n",
       "4835450  V1_Mouse_Brain_Sagittal_Posterior_GCCATTAGCCTC...   \n",
       "4835521  V1_Mouse_Brain_Sagittal_Posterior_GTCGTGTCTGGT...   \n",
       "4835872  V1_Mouse_Brain_Sagittal_Posterior_ACCATTAAGGGT...   \n",
       "\n",
       "                    barcode  ...  array_row  array_col  xcoord   ycoord  \\\n",
       "187      ATCAGGTAGCTGACAG-1  ...       33.0      127.0  5372.0  10177.0   \n",
       "1394     CTGCCTTTAATACCTT-1  ...       64.0       28.0  9086.0   3360.0   \n",
       "1395     CTGCCTTTAATACCTT-1  ...       64.0       28.0  9086.0   3360.0   \n",
       "4138     CTTAGGTATAGACCAG-1  ...       63.0       15.0  8967.0   2465.0   \n",
       "4139     CTTAGGTATAGACCAG-1  ...       63.0       15.0  8967.0   2465.0   \n",
       "...                     ...  ...        ...        ...     ...      ...   \n",
       "4834889  GGTGCGGATAAGTGGC-1  ...       16.0       46.0  3336.0   4599.0   \n",
       "4835319  GCATCGGCCGTGTAGG-1  ...       49.0      103.0  7289.0   8524.0   \n",
       "4835450  GCCATTAGCCTCAAAC-1  ...       55.0       13.0  8008.0   2327.0   \n",
       "4835521  GTCGTGTCTGGTCATC-1  ...       28.0      110.0  4773.0   9006.0   \n",
       "4835872  ACCATTAAGGGTGTCA-1  ...       13.0        5.0  2976.0   1776.0   \n",
       "\n",
       "         plot_xcoord  plot_ycoord  pixval  pixquant  quadrant  circle  \n",
       "187          10177.0      -5372.0    77.0       0.0         1       1  \n",
       "1394          3360.0      -9086.0   139.0       7.0         3       1  \n",
       "1395          3360.0      -9086.0   139.0       7.0         3       1  \n",
       "4138          2465.0      -8967.0   137.0       6.0         3       1  \n",
       "4139          2465.0      -8967.0   137.0       6.0         3       1  \n",
       "...              ...          ...     ...       ...       ...     ...  \n",
       "4834889       4599.0      -3336.0   131.0       3.0         2       1  \n",
       "4835319       8524.0      -7289.0   127.0       1.0         4       1  \n",
       "4835450       2327.0      -8008.0   133.0       4.0         3       1  \n",
       "4835521       9006.0      -4773.0   142.0       8.0         1       1  \n",
       "4835872       1776.0      -2976.0   136.0       5.0         2       1  \n",
       "\n",
       "[9646 rows x 21 columns]"
      ]
     },
     "execution_count": 25,
     "metadata": {},
     "output_type": "execute_result"
    }
   ],
   "source": [
    "gene_df[\"frac_exon_inc\"] = "
   ]
  },
  {
   "cell_type": "code",
   "execution_count": null,
   "id": "50e26b57",
   "metadata": {},
   "outputs": [],
   "source": [
    "gene_df.groupb"
   ]
  },
  {
   "cell_type": "code",
   "execution_count": 8,
   "id": "9453f831",
   "metadata": {
    "ExecuteTime": {
     "end_time": "2023-02-13T15:13:48.701560Z",
     "start_time": "2023-02-13T15:13:48.685525Z"
    }
   },
   "outputs": [
    {
     "name": "stdout",
     "output_type": "stream",
     "text": [
      "quadrant 1\n",
      "two included\n"
     ]
    },
    {
     "data": {
      "text/plain": [
       "0.8273037542662116"
      ]
     },
     "metadata": {},
     "output_type": "display_data"
    },
    {
     "name": "stdout",
     "output_type": "stream",
     "text": [
      "quadrant 2\n",
      "two included\n"
     ]
    },
    {
     "data": {
      "text/plain": [
       "0.7636939791760978"
      ]
     },
     "metadata": {},
     "output_type": "display_data"
    },
    {
     "name": "stdout",
     "output_type": "stream",
     "text": [
      "quadrant 3\n",
      "two included\n"
     ]
    },
    {
     "data": {
      "text/plain": [
       "0.758109360518999"
      ]
     },
     "metadata": {},
     "output_type": "display_data"
    },
    {
     "name": "stdout",
     "output_type": "stream",
     "text": [
      "quadrant 4\n",
      "two included\n"
     ]
    },
    {
     "data": {
      "text/plain": [
       "0.8177083333333334"
      ]
     },
     "metadata": {},
     "output_type": "display_data"
    }
   ],
   "source": [
    "for i in range(1,5):\n",
    "  print(\"quadrant\",i)\n",
    "  vc = gene_df[gene_df[\"quadrant\"] == i][side2].value_counts()\n",
    "  try:\n",
    "    display(vc[exon_inc]/(vc[exon_inc] + vc[exon_skip]))\n",
    "  except:\n",
    "    print('two included')\n",
    "    display((vc[exon_inc1] + vc[exon_inc2])/(vc[exon_inc1] + vc[exon_inc2] + vc[exon_skip]))"
   ]
  },
  {
   "cell_type": "code",
   "execution_count": null,
   "id": "8650b62c",
   "metadata": {},
   "outputs": [],
   "source": []
  },
  {
   "cell_type": "code",
   "execution_count": 26,
   "id": "118695cc",
   "metadata": {
    "ExecuteTime": {
     "end_time": "2023-02-09T22:40:41.297051Z",
     "start_time": "2023-02-09T22:40:34.493178Z"
    }
   },
   "outputs": [
    {
     "data": {
      "image/png": "[encoded data removed]",
      "text/plain": [
       "<Figure size 432x288 with 1 Axes>"
      ]
     },
     "metadata": {
      "needs_background": "light"
     },
     "output_type": "display_data"
    }
   ],
   "source": [
    "plt.plot(merged[merged[\"circle\"] == 1][\"plot_xcoord\"],merged[merged[\"circle\"] == 1][\"plot_ycoord\"],label=\"1\",linestyle=\"\",marker=\"o\")\n",
    "plt.plot(merged[merged[\"circle\"] == 2][\"plot_xcoord\"],merged[merged[\"circle\"] == 2][\"plot_ycoord\"], label = \"2\", linestyle=\"\", marker=\"o\")\n",
    "plt.legend()\n",
    "plt.show()"
   ]
  },
  {
   "cell_type": "code",
   "execution_count": 30,
   "id": "739bd7ce",
   "metadata": {
    "ExecuteTime": {
     "end_time": "2023-02-09T22:42:18.560334Z",
     "start_time": "2023-02-09T22:42:10.190731Z"
    }
   },
   "outputs": [
    {
     "data": {
      "image/png": "[encoded data removed]",
      "text/plain": [
       "<Figure size 432x288 with 1 Axes>"
      ]
     },
     "metadata": {
      "needs_background": "light"
     },
     "output_type": "display_data"
    }
   ],
   "source": [
    "for i in range(1,5):\n",
    "  plt.plot(merged[merged[\"quadrant\"] == i][\"plot_xcoord\"],merged[merged[\"quadrant\"] == i][\"plot_ycoord\"],label=\"{}\".format(i),linestyle=\"\",marker=\"o\")\n",
    "#   plt.plot(merged[merged[\"quadrant\"] == 2][\"plot_xcoord\"],merged[merged[\"quadrant\"] == 2][\"plot_ycoord\"], label = \"2\", linestyle=\"\", marker=\"o\")\n",
    "plt.legend()\n",
    "plt.show()"
   ]
  },
  {
   "cell_type": "code",
   "execution_count": null,
   "id": "84d1f43e",
   "metadata": {},
   "outputs": [],
   "source": []
  }
 ],
 "metadata": {
  "kernelspec": {
   "display_name": "jup_env",
   "language": "python",
   "name": "jup_env"
  },
  "language_info": {
   "codemirror_mode": {
    "name": "ipython",
    "version": 3
   },
   "file_extension": ".py",
   "mimetype": "text/x-python",
   "name": "python",
   "nbconvert_exporter": "python",
   "pygments_lexer": "ipython3",
   "version": "3.9.6"
  },
  "varInspector": {
   "cols": {
    "lenName": 16,
    "lenType": 16,
    "lenVar": 40
   },
   "kernels_config": {
    "python": {
     "delete_cmd_postfix": "",
     "delete_cmd_prefix": "del ",
     "library": "var_list.py",
     "varRefreshCmd": "print(var_dic_list())"
    },
    "r": {
     "delete_cmd_postfix": ") ",
     "delete_cmd_prefix": "rm(",
     "library": "var_list.r",
     "varRefreshCmd": "cat(var_dic_list()) "
    }
   },
   "types_to_exclude": [
    "module",
    "function",
    "builtin_function_or_method",
    "instance",
    "_Feature"
   ],
   "window_display": false
  }
 },
 "nbformat": 4,
 "nbformat_minor": 5
}
