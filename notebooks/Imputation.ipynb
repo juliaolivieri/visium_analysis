{
 "cells": [
  {
   "cell_type": "code",
   "execution_count": 8,
   "id": "278097a6",
   "metadata": {
    "ExecuteTime": {
     "end_time": "2022-05-17T21:25:39.604775Z",
     "start_time": "2022-05-17T21:25:32.106115Z"
    }
   },
   "outputs": [],
   "source": [
    "import matplotlib.pyplot as plt\n",
    "import numpy as np\n",
    "import pandas as pd\n",
    "import seaborn as sns"
   ]
  },
  {
   "cell_type": "code",
   "execution_count": 75,
   "id": "0013cbd4",
   "metadata": {
    "ExecuteTime": {
     "end_time": "2022-05-17T22:03:07.907134Z",
     "start_time": "2022-05-17T22:03:07.892969Z"
    }
   },
   "outputs": [
    {
     "ename": "NameError",
     "evalue": "name 'pd' is not defined",
     "output_type": "error",
     "traceback": [
      "\u001b[0;31m---------------------------------------------------------------------------\u001b[0m",
      "\u001b[0;31mNameError\u001b[0m                                 Traceback (most recent call last)",
      "\u001b[0;32m/tmp/ipykernel_19677/2304909111.py\u001b[0m in \u001b[0;36m<module>\u001b[0;34m\u001b[0m\n\u001b[1;32m      2\u001b[0m \u001b[0;31m# dataname = \"V1_Mouse_Brain_Sagittal_Anterior_Section_2\"\u001b[0m\u001b[0;34m\u001b[0m\u001b[0;34m\u001b[0m\u001b[0;34m\u001b[0m\u001b[0m\n\u001b[1;32m      3\u001b[0m \u001b[0mdataname\u001b[0m \u001b[0;34m=\u001b[0m \u001b[0;34m\"V1_Mouse_Kidney\"\u001b[0m\u001b[0;34m\u001b[0m\u001b[0;34m\u001b[0m\u001b[0m\n\u001b[0;32m----> 4\u001b[0;31m \u001b[0msamples\u001b[0m \u001b[0;34m=\u001b[0m \u001b[0mpd\u001b[0m\u001b[0;34m.\u001b[0m\u001b[0mread_csv\u001b[0m\u001b[0;34m(\u001b[0m\u001b[0;34m\"output/make_samplesheet/spatial.csv\"\u001b[0m\u001b[0;34m,\u001b[0m\u001b[0mindex_col\u001b[0m \u001b[0;34m=\u001b[0m \u001b[0;36m0\u001b[0m\u001b[0;34m)\u001b[0m\u001b[0;34m\u001b[0m\u001b[0;34m\u001b[0m\u001b[0m\n\u001b[0m\u001b[1;32m      5\u001b[0m \u001b[0;31m# samples\u001b[0m\u001b[0;34m\u001b[0m\u001b[0;34m\u001b[0m\u001b[0;34m\u001b[0m\u001b[0m\n\u001b[1;32m      6\u001b[0m \u001b[0mrow\u001b[0m \u001b[0;34m=\u001b[0m \u001b[0msamples\u001b[0m\u001b[0;34m.\u001b[0m\u001b[0mloc\u001b[0m\u001b[0;34m[\u001b[0m\u001b[0mdataname\u001b[0m\u001b[0;34m]\u001b[0m\u001b[0;34m\u001b[0m\u001b[0;34m\u001b[0m\u001b[0m\n",
      "\u001b[0;31mNameError\u001b[0m: name 'pd' is not defined"
     ]
    }
   ],
   "source": [
    "# dataname = \"V1_Mouse_Brain_Sagittal_Posterior_Section_2\"\n",
    "# dataname = \"V1_Mouse_Brain_Sagittal_Anterior_Section_2\"\n",
    "dataname = \"V1_Mouse_Kidney\"\n",
    "samples = pd.read_csv(\"output/make_samplesheet/spatial.csv\",index_col = 0)\n",
    "# samples\n",
    "row = samples.loc[dataname]\n",
    "\n",
    "# score = \"ReadZS\"\n",
    "# score2 = \"ReadZS_ge\"\n",
    "# thresh = 1000\n",
    "\n",
    "score = \"SpliZ\"\n",
    "# score2 = \"ge\"\n",
    "thresh = 100\n",
    "\n",
    "scores = pd.read_csv(\"output/make_samplesheet/scores.csv\",index_col=0)\n",
    "srow = scores.loc[score]\n",
    "# srow2 = scores.loc[score2]"
   ]
  },
  {
   "cell_type": "code",
   "execution_count": 69,
   "id": "257e9f62",
   "metadata": {
    "ExecuteTime": {
     "end_time": "2022-05-17T22:01:56.107898Z",
     "start_time": "2022-05-17T22:01:56.103905Z"
    }
   },
   "outputs": [
    {
     "data": {
      "text/plain": [
       "array([[-1. , -1. ,  0. ,  1. ,  1. ,  1. ,  0.1,  0.3],\n",
       "       [-1. , -1. ,  0. ,  1. ,  1. ,  1. , -0.5,  0.7],\n",
       "       [ 1. ,  1. ,  1. ,  0. , -1. , -1. ,  0.2,  0.6],\n",
       "       [ 1. ,  1. ,  0. , -1. , -1. ,  0. , -0.6,  0.6]])"
      ]
     },
     "execution_count": 69,
     "metadata": {},
     "output_type": "execute_result"
    }
   ],
   "source": [
    "a = np.array([[-1,-1,0,1,1,1,.1,.3],[-1,-1,0,1,1,1,-.5,.7],[1,1,1,0,-1,-1,.2,.6],[1,1,0,-1,-1,0,-.6,.6]])\n",
    "a"
   ]
  },
  {
   "cell_type": "code",
   "execution_count": 70,
   "id": "09e12c8b",
   "metadata": {
    "ExecuteTime": {
     "end_time": "2022-05-17T22:01:56.988076Z",
     "start_time": "2022-05-17T22:01:56.986139Z"
    }
   },
   "outputs": [],
   "source": [
    "p = (np.count_nonzero(a))/(a.shape[0]*a.shape[1])"
   ]
  },
  {
   "cell_type": "code",
   "execution_count": 71,
   "id": "c541c54f",
   "metadata": {
    "ExecuteTime": {
     "end_time": "2022-05-17T22:01:57.353995Z",
     "start_time": "2022-05-17T22:01:57.351728Z"
    }
   },
   "outputs": [],
   "source": [
    "transpose = False\n",
    "if a.shape[0] > a.shape[1]:\n",
    "  transpose = True\n",
    "  a = a.T\n",
    "  \n",
    "m = a.shape[0]\n",
    "n = a.shape[1]"
   ]
  },
  {
   "cell_type": "code",
   "execution_count": 72,
   "id": "d155fc60",
   "metadata": {
    "ExecuteTime": {
     "end_time": "2022-05-17T22:01:57.728120Z",
     "start_time": "2022-05-17T22:01:57.725575Z"
    }
   },
   "outputs": [
    {
     "data": {
      "text/plain": [
       "5.222133184820165"
      ]
     },
     "execution_count": 72,
     "metadata": {},
     "output_type": "execute_result"
    }
   ],
   "source": [
    "2.01*np.sqrt(n*p)"
   ]
  },
  {
   "cell_type": "code",
   "execution_count": 73,
   "id": "6051495e",
   "metadata": {
    "ExecuteTime": {
     "end_time": "2022-05-17T22:01:58.733998Z",
     "start_time": "2022-05-17T22:01:58.731909Z"
    }
   },
   "outputs": [],
   "source": [
    "U, s, V = np.linalg.svd(a,full_matrices=False)"
   ]
  },
  {
   "cell_type": "code",
   "execution_count": 74,
   "id": "ffa3f9ea",
   "metadata": {
    "ExecuteTime": {
     "end_time": "2022-05-17T22:01:59.201841Z",
     "start_time": "2022-05-17T22:01:59.199165Z"
    }
   },
   "outputs": [
    {
     "data": {
      "text/plain": [
       "array([4.10561341, 1.47609433, 1.35284349, 0.30805607])"
      ]
     },
     "execution_count": 74,
     "metadata": {},
     "output_type": "execute_result"
    }
   ],
   "source": [
    "s"
   ]
  },
  {
   "cell_type": "code",
   "execution_count": 48,
   "id": "d7c01655",
   "metadata": {
    "ExecuteTime": {
     "end_time": "2022-05-17T21:54:11.607806Z",
     "start_time": "2022-05-17T21:54:11.498236Z"
    }
   },
   "outputs": [
    {
     "data": {
      "text/plain": [
       "<AxesSubplot:>"
      ]
     },
     "execution_count": 48,
     "metadata": {},
     "output_type": "execute_result"
    },
    {
     "data": {
      "image/png": "[encoded data removed]",
      "text/plain": [
       "<Figure size 432x288 with 2 Axes>"
      ]
     },
     "metadata": {
      "needs_background": "light"
     },
     "output_type": "display_data"
    }
   ],
   "source": [
    "rank = 2\n",
    "sns.heatmap(np.dot(U[:,:rank], np.dot(np.diag(s)[:rank,:rank], V[:rank,:])))"
   ]
  },
  {
   "cell_type": "code",
   "execution_count": 44,
   "id": "f152d91f",
   "metadata": {
    "ExecuteTime": {
     "end_time": "2022-05-17T21:53:36.090009Z",
     "start_time": "2022-05-17T21:53:36.087505Z"
    }
   },
   "outputs": [
    {
     "data": {
      "text/plain": [
       "array([[-0.44351958, -0.44351958,  0.12826494,  0.44351958,  0.44351958,\n",
       "         0.44351958],\n",
       "       [-0.05736182, -0.05736182, -0.99173994,  0.05736182,  0.05736182,\n",
       "         0.05736182]])"
      ]
     },
     "execution_count": 44,
     "metadata": {},
     "output_type": "execute_result"
    }
   ],
   "source": [
    "rank = 2\n",
    "V[:rank,:]"
   ]
  },
  {
   "cell_type": "code",
   "execution_count": 47,
   "id": "4a75f1bc",
   "metadata": {
    "ExecuteTime": {
     "end_time": "2022-05-17T21:53:57.556459Z",
     "start_time": "2022-05-17T21:53:57.554104Z"
    }
   },
   "outputs": [
    {
     "data": {
      "text/plain": [
       "array([[4.50435322, 0.        ],\n",
       "       [0.        , 1.64645136]])"
      ]
     },
     "execution_count": 47,
     "metadata": {},
     "output_type": "execute_result"
    }
   ],
   "source": [
    "np.diag(s)[:rank,:rank]"
   ]
  },
  {
   "cell_type": "code",
   "execution_count": 42,
   "id": "0151527d",
   "metadata": {
    "ExecuteTime": {
     "end_time": "2022-05-17T21:52:19.335675Z",
     "start_time": "2022-05-17T21:52:19.333516Z"
    }
   },
   "outputs": [
    {
     "data": {
      "text/plain": [
       "array([[ 0.52079905, -0.42815162],\n",
       "       [ 0.52079905, -0.42815162],\n",
       "       [-0.4638475 , -0.77654833],\n",
       "       [-0.49232327, -0.17419836]])"
      ]
     },
     "execution_count": 42,
     "metadata": {},
     "output_type": "execute_result"
    }
   ],
   "source": [
    "U[:,:2]"
   ]
  },
  {
   "cell_type": "code",
   "execution_count": 38,
   "id": "e579f78e",
   "metadata": {
    "ExecuteTime": {
     "end_time": "2022-05-17T21:50:27.729261Z",
     "start_time": "2022-05-17T21:50:27.619798Z"
    }
   },
   "outputs": [
    {
     "data": {
      "image/png": "[encoded data removed]",
      "text/plain": [
       "<Figure size 432x288 with 2 Axes>"
      ]
     },
     "metadata": {
      "needs_background": "light"
     },
     "output_type": "display_data"
    }
   ],
   "source": [
    "sns.heatmap(a)\n",
    "plt.show()"
   ]
  },
  {
   "cell_type": "code",
   "execution_count": 39,
   "id": "5c8429dc",
   "metadata": {
    "ExecuteTime": {
     "end_time": "2022-05-17T21:50:34.466050Z",
     "start_time": "2022-05-17T21:50:34.463317Z"
    }
   },
   "outputs": [
    {
     "data": {
      "text/plain": [
       "array([4.50435322e+00, 1.64645136e+00, 8.04627603e-16, 6.22224504e-17])"
      ]
     },
     "execution_count": 39,
     "metadata": {},
     "output_type": "execute_result"
    }
   ],
   "source": [
    "s"
   ]
  },
  {
   "cell_type": "code",
   "execution_count": 11,
   "id": "d8cf9526",
   "metadata": {
    "ExecuteTime": {
     "end_time": "2022-05-17T21:25:57.084010Z",
     "start_time": "2022-05-17T21:25:56.988382Z"
    }
   },
   "outputs": [
    {
     "data": {
      "image/png": "[encoded data removed]",
      "text/plain": [
       "<Figure size 432x288 with 2 Axes>"
      ]
     },
     "metadata": {
      "needs_background": "light"
     },
     "output_type": "display_data"
    }
   ],
   "source": [
    "sns.heatmap(U)\n",
    "plt.show()"
   ]
  },
  {
   "cell_type": "code",
   "execution_count": 12,
   "id": "d38de983",
   "metadata": {
    "ExecuteTime": {
     "end_time": "2022-05-17T21:26:04.757764Z",
     "start_time": "2022-05-17T21:26:04.648287Z"
    }
   },
   "outputs": [
    {
     "data": {
      "text/plain": [
       "<AxesSubplot:>"
      ]
     },
     "execution_count": 12,
     "metadata": {},
     "output_type": "execute_result"
    },
    {
     "data": {
      "image/png": "[encoded data removed]",
      "text/plain": [
       "<Figure size 432x288 with 2 Axes>"
      ]
     },
     "metadata": {
      "needs_background": "light"
     },
     "output_type": "display_data"
    }
   ],
   "source": [
    "sns.heatmap(V)"
   ]
  },
  {
   "cell_type": "code",
   "execution_count": 6,
   "id": "a5d211ad",
   "metadata": {
    "ExecuteTime": {
     "end_time": "2022-05-17T21:25:15.228862Z",
     "start_time": "2022-05-17T21:25:15.226792Z"
    }
   },
   "outputs": [
    {
     "data": {
      "text/plain": [
       "array([4.47213595e+00, 2.00000000e+00, 5.80959171e-16, 8.39629120e-32])"
      ]
     },
     "execution_count": 6,
     "metadata": {},
     "output_type": "execute_result"
    }
   ],
   "source": [
    "s"
   ]
  },
  {
   "cell_type": "code",
   "execution_count": 7,
   "id": "62741603",
   "metadata": {
    "ExecuteTime": {
     "end_time": "2022-05-17T21:25:15.759292Z",
     "start_time": "2022-05-17T21:25:15.757096Z"
    }
   },
   "outputs": [
    {
     "data": {
      "text/plain": [
       "array([[-4.47213595e-01, -4.47213595e-01,  3.33066907e-16,\n",
       "         4.47213595e-01,  4.47213595e-01,  4.47213595e-01],\n",
       "       [-6.66133815e-16,  8.32667268e-17, -1.00000000e+00,\n",
       "        -2.77555756e-17, -2.77555756e-17, -2.77555756e-17],\n",
       "       [-8.79144446e-01,  6.03779001e-02,  6.66133815e-16,\n",
       "        -2.72922182e-01, -2.72922182e-01, -2.72922182e-01],\n",
       "       [-1.64636093e-01,  8.92386973e-01,  9.02056208e-17,\n",
       "         2.42583627e-01,  2.42583627e-01,  2.42583627e-01],\n",
       "       [-9.77168548e-18, -1.24329477e-16,  4.73340062e-18,\n",
       "        -5.77350269e-01,  7.88675135e-01, -2.11324865e-01],\n",
       "       [-3.90867419e-17, -1.05393117e-16,  1.55322837e-17,\n",
       "        -5.77350269e-01, -2.11324865e-01,  7.88675135e-01]])"
      ]
     },
     "execution_count": 7,
     "metadata": {},
     "output_type": "execute_result"
    }
   ],
   "source": [
    "V"
   ]
  },
  {
   "cell_type": "code",
   "execution_count": null,
   "id": "69f137d4",
   "metadata": {},
   "outputs": [],
   "source": []
  }
 ],
 "metadata": {
  "kernelspec": {
   "display_name": "jup_env",
   "language": "python",
   "name": "jup_env"
  },
  "language_info": {
   "codemirror_mode": {
    "name": "ipython",
    "version": 3
   },
   "file_extension": ".py",
   "mimetype": "text/x-python",
   "name": "python",
   "nbconvert_exporter": "python",
   "pygments_lexer": "ipython3",
   "version": "3.9.6"
  },
  "varInspector": {
   "cols": {
    "lenName": 16,
    "lenType": 16,
    "lenVar": 40
   },
   "kernels_config": {
    "python": {
     "delete_cmd_postfix": "",
     "delete_cmd_prefix": "del ",
     "library": "var_list.py",
     "varRefreshCmd": "print(var_dic_list())"
    },
    "r": {
     "delete_cmd_postfix": ") ",
     "delete_cmd_prefix": "rm(",
     "library": "var_list.r",
     "varRefreshCmd": "cat(var_dic_list()) "
    }
   },
   "types_to_exclude": [
    "module",
    "function",
    "builtin_function_or_method",
    "instance",
    "_Feature"
   ],
   "window_display": false
  }
 },
 "nbformat": 4,
 "nbformat_minor": 5
}
