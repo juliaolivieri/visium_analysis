{
 "cells": [
  {
   "cell_type": "code",
   "execution_count": 1,
   "id": "0c7d392e",
   "metadata": {
    "ExecuteTime": {
     "end_time": "2022-07-26T15:25:11.768356Z",
     "start_time": "2022-07-26T15:25:08.277949Z"
    }
   },
   "outputs": [],
   "source": [
    "import pandas as pd\n",
    "import scanpy as sp\n",
    "from tqdm import tqdm"
   ]
  },
  {
   "cell_type": "code",
   "execution_count": 2,
   "id": "0fe591ea",
   "metadata": {
    "ExecuteTime": {
     "end_time": "2022-07-26T15:25:11.774005Z",
     "start_time": "2022-07-26T15:25:11.772060Z"
    }
   },
   "outputs": [],
   "source": [
    "outpath = \"output/make_overview_table/\""
   ]
  },
  {
   "cell_type": "code",
   "execution_count": 3,
   "id": "b5a83959",
   "metadata": {
    "ExecuteTime": {
     "end_time": "2022-07-26T15:25:12.514620Z",
     "start_time": "2022-07-26T15:25:12.505530Z"
    }
   },
   "outputs": [],
   "source": [
    "samples = pd.read_csv(\"/oak/stanford/groups/horence/JuliaO/visium_analysis/notebooks/output/make_samplesheet/spatial.csv\",index_col = 0)\n",
    "scores = pd.read_csv(\"output/make_samplesheet/scores.csv\",index_col=0)"
   ]
  },
  {
   "cell_type": "code",
   "execution_count": 7,
   "id": "0ee45490",
   "metadata": {
    "ExecuteTime": {
     "end_time": "2022-07-26T16:04:52.795446Z",
     "start_time": "2022-07-26T15:59:37.909994Z"
    }
   },
   "outputs": [
    {
     "name": "stderr",
     "output_type": "stream",
     "text": [
      "20it [05:14, 15.74s/it]\n"
     ]
    },
    {
     "data": {
      "text/html": [
       "<div>\n",
       "<style scoped>\n",
       "    .dataframe tbody tr th:only-of-type {\n",
       "        vertical-align: middle;\n",
       "    }\n",
       "\n",
       "    .dataframe tbody tr th {\n",
       "        vertical-align: top;\n",
       "    }\n",
       "\n",
       "    .dataframe thead th {\n",
       "        text-align: right;\n",
       "    }\n",
       "</style>\n",
       "<table border=\"1\" class=\"dataframe\">\n",
       "  <thead>\n",
       "    <tr style=\"text-align: right;\">\n",
       "      <th></th>\n",
       "      <th>dataname</th>\n",
       "      <th>num_spots</th>\n",
       "      <th>med_reads_per_spot</th>\n",
       "      <th>SpliZ_med_per_spot</th>\n",
       "      <th>ReadZS_med_per_spot</th>\n",
       "      <th>ge_med_per_spot</th>\n",
       "      <th>ReadZS_ge_med_per_spot</th>\n",
       "    </tr>\n",
       "  </thead>\n",
       "  <tbody>\n",
       "    <tr>\n",
       "      <th>0</th>\n",
       "      <td>V1_Mouse_Brain_Sagittal_Posterior</td>\n",
       "      <td>3355</td>\n",
       "      <td>15783.0</td>\n",
       "      <td>203.0</td>\n",
       "      <td>3178.0</td>\n",
       "      <td>6628.0</td>\n",
       "      <td>2812.0</td>\n",
       "    </tr>\n",
       "    <tr>\n",
       "      <th>1</th>\n",
       "      <td>V1_Mouse_Brain_Sagittal_Posterior_Section_2</td>\n",
       "      <td>3289</td>\n",
       "      <td>14262.0</td>\n",
       "      <td>163.0</td>\n",
       "      <td>2905.0</td>\n",
       "      <td>6196.0</td>\n",
       "      <td>2640.0</td>\n",
       "    </tr>\n",
       "    <tr>\n",
       "      <th>2</th>\n",
       "      <td>V1_Mouse_Brain_Sagittal_Anterior</td>\n",
       "      <td>2695</td>\n",
       "      <td>25888.0</td>\n",
       "      <td>182.0</td>\n",
       "      <td>3290.0</td>\n",
       "      <td>7062.0</td>\n",
       "      <td>4061.0</td>\n",
       "    </tr>\n",
       "    <tr>\n",
       "      <th>3</th>\n",
       "      <td>V1_Mouse_Brain_Sagittal_Anterior_Section_2</td>\n",
       "      <td>2825</td>\n",
       "      <td>20145.0</td>\n",
       "      <td>222.5</td>\n",
       "      <td>2954.0</td>\n",
       "      <td>6273.0</td>\n",
       "      <td>3173.0</td>\n",
       "    </tr>\n",
       "  </tbody>\n",
       "</table>\n",
       "</div>"
      ],
      "text/plain": [
       "                                      dataname  num_spots  med_reads_per_spot  \\\n",
       "0            V1_Mouse_Brain_Sagittal_Posterior       3355             15783.0   \n",
       "1  V1_Mouse_Brain_Sagittal_Posterior_Section_2       3289             14262.0   \n",
       "2             V1_Mouse_Brain_Sagittal_Anterior       2695             25888.0   \n",
       "3   V1_Mouse_Brain_Sagittal_Anterior_Section_2       2825             20145.0   \n",
       "\n",
       "   SpliZ_med_per_spot  ReadZS_med_per_spot  ge_med_per_spot  \\\n",
       "0               203.0               3178.0           6628.0   \n",
       "1               163.0               2905.0           6196.0   \n",
       "2               182.0               3290.0           7062.0   \n",
       "3               222.5               2954.0           6273.0   \n",
       "\n",
       "   ReadZS_ge_med_per_spot  \n",
       "0                  2812.0  \n",
       "1                  2640.0  \n",
       "2                  4061.0  \n",
       "3                  3173.0  "
      ]
     },
     "execution_count": 7,
     "metadata": {},
     "output_type": "execute_result"
    }
   ],
   "source": [
    "sub_scores = [\"SpliZ\", \"ReadZS\", \"ge\", \"ReadZS_ge\"]\n",
    "out = {\"dataname\" : [], \"num_spots\" : [], \"med_reads_per_spot\" : []}\n",
    "for score in sub_scores:\n",
    "  out[\"{}_med_per_spot\".format(score)] = []\n",
    "  \n",
    "datanames = ['V1_Mouse_Brain_Sagittal_Posterior',\n",
    "       'V1_Mouse_Brain_Sagittal_Posterior_Section_2',\n",
    "       'V1_Mouse_Brain_Sagittal_Anterior',\n",
    "       'V1_Mouse_Brain_Sagittal_Anterior_Section_2']\n",
    "# , 'V1_Mouse_Kidney',\n",
    "#        'Visium_FFPE_Human_Breast_Cancer', 'Visium_FFPE_Human_Normal_Prostate',\n",
    "#        'Visium_FFPE_Human_Prostate_Acinar_Cell_Carcinoma',\n",
    "#        'Visium_FFPE_Human_Prostate_Cancer', 'Visium_FFPE_Human_Prostate_IF',\n",
    "#        'Visium_FFPE_Mouse_Brain', 'Visium_FFPE_Mouse_Brain_IF',\n",
    "#        'Visium_FFPE_Mouse_Kidney',  'p20190_s003_3_BrainMetastasis',\n",
    "#        'p20190_s004_4_BrainMetastasis', 'p20218_s001_L1', 'p20218_s002_L2',\n",
    "#        'p20218_s003_L3', 'p20218_s004_L4']\n",
    "for dataname, row in tqdm(samples[samples[\"method\"] == \"visium\"].iterrows()):\n",
    "\n",
    "  if dataname in datanames:\n",
    "    out[\"dataname\"].append(dataname)\n",
    "    meta = pd.read_csv(row[\"metadata\"],sep=\"\\t\")\n",
    "    out[\"num_spots\"].append(meta[\"in_tissue\"].sum())\n",
    "    try:\n",
    "      data = sp.read_mtx(row[\"ge_mat\"] + \"matrix.mtx.gz\")\n",
    "      out[\"med_reads_per_spot\"].append(data.to_df().sum(axis=0).median())\n",
    "    except:\n",
    "      out[\"med_reads_per_spot\"].append(np.nan)\n",
    "    for score, srow in scores.iterrows():\n",
    "      if score in sub_scores:\n",
    "\n",
    "        try:\n",
    "          df = pd.read_csv(row[srow[\"valname\"]],sep=\"\\t\",usecols = [srow[\"cellid\"],srow[\"genecol\"]])\n",
    "          out[\"{}_med_per_spot\".format(score)].append(df.groupby(srow[\"cellid\"])[srow[\"genecol\"]].nunique().median())\n",
    "\n",
    "        except:\n",
    "          out[\"{}_med_per_spot\".format(score)].append(np.nan)\n",
    "out = pd.DataFrame.from_dict(out)\n",
    "out"
   ]
  },
  {
   "cell_type": "code",
   "execution_count": 6,
   "id": "03fcaadc",
   "metadata": {
    "ExecuteTime": {
     "end_time": "2022-07-26T15:57:50.696643Z",
     "start_time": "2022-07-26T15:57:50.471080Z"
    }
   },
   "outputs": [
    {
     "data": {
      "text/plain": [
       "20145.0"
      ]
     },
     "execution_count": 6,
     "metadata": {},
     "output_type": "execute_result"
    }
   ],
   "source": [
    "data.to_df().sum(axis=0).median()"
   ]
  },
  {
   "cell_type": "code",
   "execution_count": 29,
   "id": "0f77e287",
   "metadata": {
    "ExecuteTime": {
     "end_time": "2022-06-29T07:24:46.377109Z",
     "start_time": "2022-06-29T07:24:46.374658Z"
    }
   },
   "outputs": [],
   "source": [
    "out = pd.DataFrame.from_dict(out)"
   ]
  },
  {
   "cell_type": "code",
   "execution_count": 34,
   "id": "0c4b0083",
   "metadata": {
    "ExecuteTime": {
     "end_time": "2022-06-29T07:27:25.942115Z",
     "start_time": "2022-06-29T07:27:25.922472Z"
    }
   },
   "outputs": [],
   "source": [
    "out.to_csv(\"{}table.tsv\".format(outpath),sep=\"\\t\",index=False)"
   ]
  },
  {
   "cell_type": "code",
   "execution_count": 21,
   "id": "35f34692",
   "metadata": {
    "ExecuteTime": {
     "end_time": "2022-06-29T07:21:42.061745Z",
     "start_time": "2022-06-29T07:21:42.059018Z"
    }
   },
   "outputs": [
    {
     "data": {
      "text/plain": [
       "1684"
      ]
     },
     "execution_count": 21,
     "metadata": {},
     "output_type": "execute_result"
    }
   ],
   "source": [
    "meta[\"in_tissue\"].sum()"
   ]
  },
  {
   "cell_type": "code",
   "execution_count": 22,
   "id": "1a68a37e",
   "metadata": {
    "ExecuteTime": {
     "end_time": "2022-06-29T07:22:16.502902Z",
     "start_time": "2022-06-29T07:22:16.370877Z"
    }
   },
   "outputs": [
    {
     "data": {
      "text/plain": [
       "125.0"
      ]
     },
     "execution_count": 22,
     "metadata": {},
     "output_type": "execute_result"
    }
   ],
   "source": [
    "data.to_df().sum(axis=0).median()"
   ]
  },
  {
   "cell_type": "code",
   "execution_count": 5,
   "id": "c3cef71c",
   "metadata": {
    "ExecuteTime": {
     "end_time": "2022-07-26T15:57:29.240512Z",
     "start_time": "2022-07-26T15:57:29.237629Z"
    }
   },
   "outputs": [
    {
     "name": "stdout",
     "output_type": "stream",
     "text": [
      "dataname 4\n",
      "num_spots 4\n",
      "med_reads_per_spot 16\n",
      "SpliZ_med_per_spot 4\n",
      "ReadZS_med_per_spot 4\n",
      "ge_med_per_spot 4\n",
      "ReadZS_ge_med_per_spot 4\n"
     ]
    }
   ],
   "source": [
    "for k, v in out.items():\n",
    "  print(k,len(v))"
   ]
  },
  {
   "cell_type": "code",
   "execution_count": 33,
   "id": "ac079678",
   "metadata": {
    "ExecuteTime": {
     "end_time": "2022-06-28T00:31:09.118810Z",
     "start_time": "2022-06-28T00:31:09.098237Z"
    }
   },
   "outputs": [
    {
     "data": {
      "text/html": [
       "<div>\n",
       "<style scoped>\n",
       "    .dataframe tbody tr th:only-of-type {\n",
       "        vertical-align: middle;\n",
       "    }\n",
       "\n",
       "    .dataframe tbody tr th {\n",
       "        vertical-align: top;\n",
       "    }\n",
       "\n",
       "    .dataframe thead th {\n",
       "        text-align: right;\n",
       "    }\n",
       "</style>\n",
       "<table border=\"1\" class=\"dataframe\">\n",
       "  <thead>\n",
       "    <tr style=\"text-align: right;\">\n",
       "      <th></th>\n",
       "      <th>dataname</th>\n",
       "      <th>num_spots</th>\n",
       "      <th>SpliZ_med_per_spot</th>\n",
       "      <th>ReadZS_med_per_spot</th>\n",
       "      <th>ge_med_per_spot</th>\n",
       "      <th>ReadZS_ge_med_per_spot</th>\n",
       "    </tr>\n",
       "  </thead>\n",
       "  <tbody>\n",
       "    <tr>\n",
       "      <th>0</th>\n",
       "      <td>V1_Mouse_Kidney</td>\n",
       "      <td>1438</td>\n",
       "      <td>26.0</td>\n",
       "      <td>253.5</td>\n",
       "      <td>3516.0</td>\n",
       "      <td>1212.0</td>\n",
       "    </tr>\n",
       "  </tbody>\n",
       "</table>\n",
       "</div>"
      ],
      "text/plain": [
       "          dataname  num_spots  SpliZ_med_per_spot  ReadZS_med_per_spot  \\\n",
       "0  V1_Mouse_Kidney       1438                26.0                253.5   \n",
       "\n",
       "   ge_med_per_spot  ReadZS_ge_med_per_spot  \n",
       "0           3516.0                  1212.0  "
      ]
     },
     "execution_count": 33,
     "metadata": {},
     "output_type": "execute_result"
    }
   ],
   "source": [
    "out = pd.DataFrame.from_dict(out)\n",
    "out"
   ]
  },
  {
   "cell_type": "code",
   "execution_count": null,
   "id": "53dc79a8",
   "metadata": {},
   "outputs": [],
   "source": []
  }
 ],
 "metadata": {
  "kernelspec": {
   "display_name": "jup_env",
   "language": "python",
   "name": "jup_env"
  },
  "language_info": {
   "codemirror_mode": {
    "name": "ipython",
    "version": 3
   },
   "file_extension": ".py",
   "mimetype": "text/x-python",
   "name": "python",
   "nbconvert_exporter": "python",
   "pygments_lexer": "ipython3",
   "version": "3.9.6"
  },
  "varInspector": {
   "cols": {
    "lenName": 16,
    "lenType": 16,
    "lenVar": 40
   },
   "kernels_config": {
    "python": {
     "delete_cmd_postfix": "",
     "delete_cmd_prefix": "del ",
     "library": "var_list.py",
     "varRefreshCmd": "print(var_dic_list())"
    },
    "r": {
     "delete_cmd_postfix": ") ",
     "delete_cmd_prefix": "rm(",
     "library": "var_list.r",
     "varRefreshCmd": "cat(var_dic_list()) "
    }
   },
   "types_to_exclude": [
    "module",
    "function",
    "builtin_function_or_method",
    "instance",
    "_Feature"
   ],
   "window_display": false
  }
 },
 "nbformat": 4,
 "nbformat_minor": 5
}
