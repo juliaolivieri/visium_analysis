{
 "cells": [
  {
   "cell_type": "code",
   "execution_count": 1,
   "id": "0c7d392e",
   "metadata": {
    "ExecuteTime": {
     "end_time": "2022-09-22T12:52:21.501861Z",
     "start_time": "2022-09-22T12:52:01.753903Z"
    }
   },
   "outputs": [],
   "source": [
    "import pandas as pd\n",
    "import scanpy as sp\n",
    "from tqdm import tqdm"
   ]
  },
  {
   "cell_type": "code",
   "execution_count": 2,
   "id": "0fe591ea",
   "metadata": {
    "ExecuteTime": {
     "end_time": "2022-09-22T12:52:21.507889Z",
     "start_time": "2022-09-22T12:52:21.504691Z"
    }
   },
   "outputs": [],
   "source": [
    "outpath = \"output/make_overview_table/\""
   ]
  },
  {
   "cell_type": "code",
   "execution_count": 3,
   "id": "b5a83959",
   "metadata": {
    "ExecuteTime": {
     "end_time": "2022-09-22T12:52:21.533285Z",
     "start_time": "2022-09-22T12:52:21.510153Z"
    }
   },
   "outputs": [],
   "source": [
    "samples = pd.read_csv(\"/oak/stanford/groups/horence/JuliaO/visium_analysis/notebooks/output/make_samplesheet/spatial.csv\",index_col = 0)\n",
    "scores = pd.read_csv(\"output/make_samplesheet/scores.csv\",index_col=0)"
   ]
  },
  {
   "cell_type": "code",
   "execution_count": 6,
   "id": "0ee45490",
   "metadata": {
    "ExecuteTime": {
     "end_time": "2022-09-21T14:09:52.560469Z",
     "start_time": "2022-09-21T13:56:51.164592Z"
    }
   },
   "outputs": [
    {
     "name": "stderr",
     "output_type": "stream",
     "text": [
      "20it [13:01, 39.07s/it]\n"
     ]
    },
    {
     "data": {
      "text/html": [
       "<div>\n",
       "<style scoped>\n",
       "    .dataframe tbody tr th:only-of-type {\n",
       "        vertical-align: middle;\n",
       "    }\n",
       "\n",
       "    .dataframe tbody tr th {\n",
       "        vertical-align: top;\n",
       "    }\n",
       "\n",
       "    .dataframe thead th {\n",
       "        text-align: right;\n",
       "    }\n",
       "</style>\n",
       "<table border=\"1\" class=\"dataframe\">\n",
       "  <thead>\n",
       "    <tr style=\"text-align: right;\">\n",
       "      <th></th>\n",
       "      <th>dataname</th>\n",
       "      <th>num_spots</th>\n",
       "      <th>med_reads_per_spot</th>\n",
       "      <th>SpliZ_med_per_spot</th>\n",
       "      <th>ReadZS_med_per_spot</th>\n",
       "      <th>ge_med_per_spot</th>\n",
       "      <th>ReadZS_ge_med_per_spot</th>\n",
       "    </tr>\n",
       "  </thead>\n",
       "  <tbody>\n",
       "    <tr>\n",
       "      <th>0</th>\n",
       "      <td>V1_Mouse_Brain_Sagittal_Posterior</td>\n",
       "      <td>3355</td>\n",
       "      <td>15783.0</td>\n",
       "      <td>203.0</td>\n",
       "      <td>3178.0</td>\n",
       "      <td>6628.0</td>\n",
       "      <td>2812.0</td>\n",
       "    </tr>\n",
       "    <tr>\n",
       "      <th>1</th>\n",
       "      <td>V1_Mouse_Brain_Sagittal_Posterior_Section_2</td>\n",
       "      <td>3289</td>\n",
       "      <td>14262.0</td>\n",
       "      <td>163.0</td>\n",
       "      <td>2905.0</td>\n",
       "      <td>6196.0</td>\n",
       "      <td>2640.0</td>\n",
       "    </tr>\n",
       "    <tr>\n",
       "      <th>2</th>\n",
       "      <td>V1_Mouse_Brain_Sagittal_Anterior</td>\n",
       "      <td>2695</td>\n",
       "      <td>25888.0</td>\n",
       "      <td>182.0</td>\n",
       "      <td>3290.0</td>\n",
       "      <td>7062.0</td>\n",
       "      <td>4061.0</td>\n",
       "    </tr>\n",
       "    <tr>\n",
       "      <th>3</th>\n",
       "      <td>V1_Mouse_Brain_Sagittal_Anterior_Section_2</td>\n",
       "      <td>2825</td>\n",
       "      <td>20145.0</td>\n",
       "      <td>222.5</td>\n",
       "      <td>2954.0</td>\n",
       "      <td>6273.0</td>\n",
       "      <td>3173.0</td>\n",
       "    </tr>\n",
       "    <tr>\n",
       "      <th>4</th>\n",
       "      <td>V1_Mouse_Kidney</td>\n",
       "      <td>1436</td>\n",
       "      <td>38308.0</td>\n",
       "      <td>56.0</td>\n",
       "      <td>253.5</td>\n",
       "      <td>3516.0</td>\n",
       "      <td>1212.0</td>\n",
       "    </tr>\n",
       "    <tr>\n",
       "      <th>5</th>\n",
       "      <td>Visium_FFPE_Human_Breast_Cancer</td>\n",
       "      <td>2518</td>\n",
       "      <td>11727.0</td>\n",
       "      <td>3.0</td>\n",
       "      <td>81.0</td>\n",
       "      <td>5348.0</td>\n",
       "      <td>102.0</td>\n",
       "    </tr>\n",
       "    <tr>\n",
       "      <th>6</th>\n",
       "      <td>Visium_FFPE_Human_Normal_Prostate</td>\n",
       "      <td>2543</td>\n",
       "      <td>4446.0</td>\n",
       "      <td>1.0</td>\n",
       "      <td>56.0</td>\n",
       "      <td>2069.0</td>\n",
       "      <td>51.0</td>\n",
       "    </tr>\n",
       "    <tr>\n",
       "      <th>7</th>\n",
       "      <td>Visium_FFPE_Human_Prostate_Acinar_Cell_Carcinoma</td>\n",
       "      <td>3043</td>\n",
       "      <td>16648.0</td>\n",
       "      <td>NaN</td>\n",
       "      <td>149.0</td>\n",
       "      <td>8279.0</td>\n",
       "      <td>150.0</td>\n",
       "    </tr>\n",
       "    <tr>\n",
       "      <th>8</th>\n",
       "      <td>Visium_FFPE_Human_Prostate_Cancer</td>\n",
       "      <td>4371</td>\n",
       "      <td>10704.0</td>\n",
       "      <td>1.0</td>\n",
       "      <td>129.0</td>\n",
       "      <td>8241.0</td>\n",
       "      <td>117.0</td>\n",
       "    </tr>\n",
       "    <tr>\n",
       "      <th>9</th>\n",
       "      <td>Visium_FFPE_Human_Prostate_IF</td>\n",
       "      <td>3460</td>\n",
       "      <td>9586.5</td>\n",
       "      <td>NaN</td>\n",
       "      <td>105.0</td>\n",
       "      <td>7180.0</td>\n",
       "      <td>96.0</td>\n",
       "    </tr>\n",
       "    <tr>\n",
       "      <th>10</th>\n",
       "      <td>Visium_FFPE_Mouse_Brain</td>\n",
       "      <td>2264</td>\n",
       "      <td>16595.0</td>\n",
       "      <td>NaN</td>\n",
       "      <td>54.0</td>\n",
       "      <td>6139.0</td>\n",
       "      <td>77.0</td>\n",
       "    </tr>\n",
       "    <tr>\n",
       "      <th>11</th>\n",
       "      <td>Visium_FFPE_Mouse_Brain_IF</td>\n",
       "      <td>2438</td>\n",
       "      <td>16123.0</td>\n",
       "      <td>1.0</td>\n",
       "      <td>56.0</td>\n",
       "      <td>6324.0</td>\n",
       "      <td>69.0</td>\n",
       "    </tr>\n",
       "    <tr>\n",
       "      <th>12</th>\n",
       "      <td>Visium_FFPE_Mouse_Kidney</td>\n",
       "      <td>3124</td>\n",
       "      <td>30379.0</td>\n",
       "      <td>6.0</td>\n",
       "      <td>158.0</td>\n",
       "      <td>8878.0</td>\n",
       "      <td>160.0</td>\n",
       "    </tr>\n",
       "    <tr>\n",
       "      <th>13</th>\n",
       "      <td>p20190_s003_3_BrainMetastasis</td>\n",
       "      <td>2059</td>\n",
       "      <td>447.0</td>\n",
       "      <td>7.0</td>\n",
       "      <td>50.0</td>\n",
       "      <td>62.0</td>\n",
       "      <td>10.0</td>\n",
       "    </tr>\n",
       "    <tr>\n",
       "      <th>14</th>\n",
       "      <td>p20190_s004_4_BrainMetastasis</td>\n",
       "      <td>992</td>\n",
       "      <td>572.5</td>\n",
       "      <td>8.0</td>\n",
       "      <td>44.0</td>\n",
       "      <td>NaN</td>\n",
       "      <td>NaN</td>\n",
       "    </tr>\n",
       "    <tr>\n",
       "      <th>15</th>\n",
       "      <td>p20218_s001_L1</td>\n",
       "      <td>4392</td>\n",
       "      <td>3656.5</td>\n",
       "      <td>274.0</td>\n",
       "      <td>812.0</td>\n",
       "      <td>1863.0</td>\n",
       "      <td>307.0</td>\n",
       "    </tr>\n",
       "    <tr>\n",
       "      <th>16</th>\n",
       "      <td>p20218_s002_L2</td>\n",
       "      <td>2215</td>\n",
       "      <td>844.0</td>\n",
       "      <td>199.0</td>\n",
       "      <td>475.0</td>\n",
       "      <td>176.0</td>\n",
       "      <td>76.0</td>\n",
       "    </tr>\n",
       "    <tr>\n",
       "      <th>17</th>\n",
       "      <td>p20218_s003_L3</td>\n",
       "      <td>1327</td>\n",
       "      <td>849.0</td>\n",
       "      <td>64.0</td>\n",
       "      <td>202.0</td>\n",
       "      <td>38.0</td>\n",
       "      <td>17.0</td>\n",
       "    </tr>\n",
       "    <tr>\n",
       "      <th>18</th>\n",
       "      <td>p20218_s004_L4</td>\n",
       "      <td>1684</td>\n",
       "      <td>125.0</td>\n",
       "      <td>NaN</td>\n",
       "      <td>46.0</td>\n",
       "      <td>17.0</td>\n",
       "      <td>4.0</td>\n",
       "    </tr>\n",
       "  </tbody>\n",
       "</table>\n",
       "</div>"
      ],
      "text/plain": [
       "                                            dataname  num_spots  \\\n",
       "0                  V1_Mouse_Brain_Sagittal_Posterior       3355   \n",
       "1        V1_Mouse_Brain_Sagittal_Posterior_Section_2       3289   \n",
       "2                   V1_Mouse_Brain_Sagittal_Anterior       2695   \n",
       "3         V1_Mouse_Brain_Sagittal_Anterior_Section_2       2825   \n",
       "4                                    V1_Mouse_Kidney       1436   \n",
       "5                    Visium_FFPE_Human_Breast_Cancer       2518   \n",
       "6                  Visium_FFPE_Human_Normal_Prostate       2543   \n",
       "7   Visium_FFPE_Human_Prostate_Acinar_Cell_Carcinoma       3043   \n",
       "8                  Visium_FFPE_Human_Prostate_Cancer       4371   \n",
       "9                      Visium_FFPE_Human_Prostate_IF       3460   \n",
       "10                           Visium_FFPE_Mouse_Brain       2264   \n",
       "11                        Visium_FFPE_Mouse_Brain_IF       2438   \n",
       "12                          Visium_FFPE_Mouse_Kidney       3124   \n",
       "13                     p20190_s003_3_BrainMetastasis       2059   \n",
       "14                     p20190_s004_4_BrainMetastasis        992   \n",
       "15                                    p20218_s001_L1       4392   \n",
       "16                                    p20218_s002_L2       2215   \n",
       "17                                    p20218_s003_L3       1327   \n",
       "18                                    p20218_s004_L4       1684   \n",
       "\n",
       "    med_reads_per_spot  SpliZ_med_per_spot  ReadZS_med_per_spot  \\\n",
       "0              15783.0               203.0               3178.0   \n",
       "1              14262.0               163.0               2905.0   \n",
       "2              25888.0               182.0               3290.0   \n",
       "3              20145.0               222.5               2954.0   \n",
       "4              38308.0                56.0                253.5   \n",
       "5              11727.0                 3.0                 81.0   \n",
       "6               4446.0                 1.0                 56.0   \n",
       "7              16648.0                 NaN                149.0   \n",
       "8              10704.0                 1.0                129.0   \n",
       "9               9586.5                 NaN                105.0   \n",
       "10             16595.0                 NaN                 54.0   \n",
       "11             16123.0                 1.0                 56.0   \n",
       "12             30379.0                 6.0                158.0   \n",
       "13               447.0                 7.0                 50.0   \n",
       "14               572.5                 8.0                 44.0   \n",
       "15              3656.5               274.0                812.0   \n",
       "16               844.0               199.0                475.0   \n",
       "17               849.0                64.0                202.0   \n",
       "18               125.0                 NaN                 46.0   \n",
       "\n",
       "    ge_med_per_spot  ReadZS_ge_med_per_spot  \n",
       "0            6628.0                  2812.0  \n",
       "1            6196.0                  2640.0  \n",
       "2            7062.0                  4061.0  \n",
       "3            6273.0                  3173.0  \n",
       "4            3516.0                  1212.0  \n",
       "5            5348.0                   102.0  \n",
       "6            2069.0                    51.0  \n",
       "7            8279.0                   150.0  \n",
       "8            8241.0                   117.0  \n",
       "9            7180.0                    96.0  \n",
       "10           6139.0                    77.0  \n",
       "11           6324.0                    69.0  \n",
       "12           8878.0                   160.0  \n",
       "13             62.0                    10.0  \n",
       "14              NaN                     NaN  \n",
       "15           1863.0                   307.0  \n",
       "16            176.0                    76.0  \n",
       "17             38.0                    17.0  \n",
       "18             17.0                     4.0  "
      ]
     },
     "execution_count": 6,
     "metadata": {},
     "output_type": "execute_result"
    }
   ],
   "source": [
    "sub_scores = [\"SpliZ\", \"ReadZS\", \"ge\", \"ReadZS_ge\"]\n",
    "out = {\"dataname\" : [], \"num_spots\" : [], \"med_reads_per_spot\" : []}\n",
    "for score in sub_scores:\n",
    "  out[\"{}_med_per_spot\".format(score)] = []\n",
    "  \n",
    "datanames = ['V1_Mouse_Brain_Sagittal_Posterior',\n",
    "       'V1_Mouse_Brain_Sagittal_Posterior_Section_2',\n",
    "       'V1_Mouse_Brain_Sagittal_Anterior',\n",
    "       'V1_Mouse_Brain_Sagittal_Anterior_Section_2', 'V1_Mouse_Kidney',\n",
    "       'Visium_FFPE_Human_Breast_Cancer', 'Visium_FFPE_Human_Normal_Prostate',\n",
    "       'Visium_FFPE_Human_Prostate_Acinar_Cell_Carcinoma',\n",
    "       'Visium_FFPE_Human_Prostate_Cancer', 'Visium_FFPE_Human_Prostate_IF',\n",
    "       'Visium_FFPE_Mouse_Brain', 'Visium_FFPE_Mouse_Brain_IF',\n",
    "       'Visium_FFPE_Mouse_Kidney',  'p20190_s003_3_BrainMetastasis',\n",
    "       'p20190_s004_4_BrainMetastasis', 'p20218_s001_L1', 'p20218_s002_L2',\n",
    "       'p20218_s003_L3', 'p20218_s004_L4']\n",
    "for dataname, row in tqdm(samples[samples[\"method\"] == \"visium\"].iterrows()):\n",
    "\n",
    "  if dataname in datanames:\n",
    "    out[\"dataname\"].append(dataname)\n",
    "    meta = pd.read_csv(row[\"metadata\"],sep=\"\\t\")\n",
    "    out[\"num_spots\"].append(meta[\"in_tissue\"].sum())\n",
    "    try:\n",
    "      data = sp.read_mtx(row[\"ge_mat\"] + \"matrix.mtx.gz\")\n",
    "      out[\"med_reads_per_spot\"].append(data.to_df().sum(axis=0).median())\n",
    "    except:\n",
    "      out[\"med_reads_per_spot\"].append(np.nan)\n",
    "    for score, srow in scores.iterrows():\n",
    "      if score in sub_scores:\n",
    "\n",
    "        try:\n",
    "          df = pd.read_csv(row[srow[\"valname\"]],sep=\"\\t\",usecols = [srow[\"cellid\"],srow[\"genecol\"]])\n",
    "          out[\"{}_med_per_spot\".format(score)].append(df.groupby(srow[\"cellid\"])[srow[\"genecol\"]].nunique().median())\n",
    "\n",
    "        except:\n",
    "          out[\"{}_med_per_spot\".format(score)].append(np.nan)\n",
    "out = pd.DataFrame.from_dict(out)\n",
    "out"
   ]
  },
  {
   "cell_type": "code",
   "execution_count": 7,
   "id": "03fcaadc",
   "metadata": {
    "ExecuteTime": {
     "end_time": "2022-09-21T14:19:39.856094Z",
     "start_time": "2022-09-21T14:19:39.726480Z"
    }
   },
   "outputs": [
    {
     "data": {
      "text/plain": [
       "125.0"
      ]
     },
     "execution_count": 7,
     "metadata": {},
     "output_type": "execute_result"
    }
   ],
   "source": [
    "data.to_df().sum(axis=0).median()"
   ]
  },
  {
   "cell_type": "code",
   "execution_count": 8,
   "id": "0f77e287",
   "metadata": {
    "ExecuteTime": {
     "end_time": "2022-09-21T14:19:40.363552Z",
     "start_time": "2022-09-21T14:19:40.361939Z"
    }
   },
   "outputs": [],
   "source": [
    "out = pd.DataFrame.from_dict(out)"
   ]
  },
  {
   "cell_type": "code",
   "execution_count": 9,
   "id": "0c4b0083",
   "metadata": {
    "ExecuteTime": {
     "end_time": "2022-09-21T14:19:40.848763Z",
     "start_time": "2022-09-21T14:19:40.794904Z"
    }
   },
   "outputs": [],
   "source": [
    "out.to_csv(\"{}table.tsv\".format(outpath),sep=\"\\t\",index=False)"
   ]
  },
  {
   "cell_type": "code",
   "execution_count": 5,
   "id": "09e5c2cd",
   "metadata": {
    "ExecuteTime": {
     "end_time": "2022-09-22T12:52:29.040923Z",
     "start_time": "2022-09-22T12:52:28.994644Z"
    }
   },
   "outputs": [],
   "source": [
    "out = pd.read_csv(\"{}table.tsv\".format(outpath),sep=\"\\t\")"
   ]
  },
  {
   "cell_type": "code",
   "execution_count": 10,
   "id": "83dfd824",
   "metadata": {
    "ExecuteTime": {
     "end_time": "2022-09-22T12:59:30.111743Z",
     "start_time": "2022-09-22T12:59:30.067371Z"
    }
   },
   "outputs": [],
   "source": [
    "out.dropna().to_csv(\"{}spatial_table1.tsv\".format(outpath),sep=\"\\t\",index=False)"
   ]
  },
  {
   "cell_type": "code",
   "execution_count": null,
   "id": "9b3e376f",
   "metadata": {},
   "outputs": [],
   "source": []
  },
  {
   "cell_type": "code",
   "execution_count": 21,
   "id": "35f34692",
   "metadata": {
    "ExecuteTime": {
     "end_time": "2022-06-29T07:21:42.061745Z",
     "start_time": "2022-06-29T07:21:42.059018Z"
    }
   },
   "outputs": [
    {
     "data": {
      "text/plain": [
       "1684"
      ]
     },
     "execution_count": 21,
     "metadata": {},
     "output_type": "execute_result"
    }
   ],
   "source": [
    "meta[\"in_tissue\"].sum()"
   ]
  },
  {
   "cell_type": "code",
   "execution_count": 22,
   "id": "1a68a37e",
   "metadata": {
    "ExecuteTime": {
     "end_time": "2022-06-29T07:22:16.502902Z",
     "start_time": "2022-06-29T07:22:16.370877Z"
    }
   },
   "outputs": [
    {
     "data": {
      "text/plain": [
       "125.0"
      ]
     },
     "execution_count": 22,
     "metadata": {},
     "output_type": "execute_result"
    }
   ],
   "source": [
    "data.to_df().sum(axis=0).median()"
   ]
  },
  {
   "cell_type": "code",
   "execution_count": 5,
   "id": "c3cef71c",
   "metadata": {
    "ExecuteTime": {
     "end_time": "2022-07-26T15:57:29.240512Z",
     "start_time": "2022-07-26T15:57:29.237629Z"
    }
   },
   "outputs": [
    {
     "name": "stdout",
     "output_type": "stream",
     "text": [
      "dataname 4\n",
      "num_spots 4\n",
      "med_reads_per_spot 16\n",
      "SpliZ_med_per_spot 4\n",
      "ReadZS_med_per_spot 4\n",
      "ge_med_per_spot 4\n",
      "ReadZS_ge_med_per_spot 4\n"
     ]
    }
   ],
   "source": [
    "for k, v in out.items():\n",
    "  print(k,len(v))"
   ]
  },
  {
   "cell_type": "code",
   "execution_count": 33,
   "id": "ac079678",
   "metadata": {
    "ExecuteTime": {
     "end_time": "2022-06-28T00:31:09.118810Z",
     "start_time": "2022-06-28T00:31:09.098237Z"
    }
   },
   "outputs": [
    {
     "data": {
      "text/html": [
       "<div>\n",
       "<style scoped>\n",
       "    .dataframe tbody tr th:only-of-type {\n",
       "        vertical-align: middle;\n",
       "    }\n",
       "\n",
       "    .dataframe tbody tr th {\n",
       "        vertical-align: top;\n",
       "    }\n",
       "\n",
       "    .dataframe thead th {\n",
       "        text-align: right;\n",
       "    }\n",
       "</style>\n",
       "<table border=\"1\" class=\"dataframe\">\n",
       "  <thead>\n",
       "    <tr style=\"text-align: right;\">\n",
       "      <th></th>\n",
       "      <th>dataname</th>\n",
       "      <th>num_spots</th>\n",
       "      <th>SpliZ_med_per_spot</th>\n",
       "      <th>ReadZS_med_per_spot</th>\n",
       "      <th>ge_med_per_spot</th>\n",
       "      <th>ReadZS_ge_med_per_spot</th>\n",
       "    </tr>\n",
       "  </thead>\n",
       "  <tbody>\n",
       "    <tr>\n",
       "      <th>0</th>\n",
       "      <td>V1_Mouse_Kidney</td>\n",
       "      <td>1438</td>\n",
       "      <td>26.0</td>\n",
       "      <td>253.5</td>\n",
       "      <td>3516.0</td>\n",
       "      <td>1212.0</td>\n",
       "    </tr>\n",
       "  </tbody>\n",
       "</table>\n",
       "</div>"
      ],
      "text/plain": [
       "          dataname  num_spots  SpliZ_med_per_spot  ReadZS_med_per_spot  \\\n",
       "0  V1_Mouse_Kidney       1438                26.0                253.5   \n",
       "\n",
       "   ge_med_per_spot  ReadZS_ge_med_per_spot  \n",
       "0           3516.0                  1212.0  "
      ]
     },
     "execution_count": 33,
     "metadata": {},
     "output_type": "execute_result"
    }
   ],
   "source": [
    "out = pd.DataFrame.from_dict(out)\n",
    "out"
   ]
  },
  {
   "cell_type": "code",
   "execution_count": null,
   "id": "53dc79a8",
   "metadata": {},
   "outputs": [],
   "source": []
  }
 ],
 "metadata": {
  "kernelspec": {
   "display_name": "jup_env",
   "language": "python",
   "name": "jup_env"
  },
  "language_info": {
   "codemirror_mode": {
    "name": "ipython",
    "version": 3
   },
   "file_extension": ".py",
   "mimetype": "text/x-python",
   "name": "python",
   "nbconvert_exporter": "python",
   "pygments_lexer": "ipython3",
   "version": "3.9.6"
  },
  "varInspector": {
   "cols": {
    "lenName": 16,
    "lenType": 16,
    "lenVar": 40
   },
   "kernels_config": {
    "python": {
     "delete_cmd_postfix": "",
     "delete_cmd_prefix": "del ",
     "library": "var_list.py",
     "varRefreshCmd": "print(var_dic_list())"
    },
    "r": {
     "delete_cmd_postfix": ") ",
     "delete_cmd_prefix": "rm(",
     "library": "var_list.r",
     "varRefreshCmd": "cat(var_dic_list()) "
    }
   },
   "types_to_exclude": [
    "module",
    "function",
    "builtin_function_or_method",
    "instance",
    "_Feature"
   ],
   "window_display": false
  }
 },
 "nbformat": 4,
 "nbformat_minor": 5
}
