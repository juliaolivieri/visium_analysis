{
 "cells": [
  {
   "cell_type": "code",
   "execution_count": 23,
   "id": "37ca5e7b",
   "metadata": {
    "ExecuteTime": {
     "end_time": "2022-05-16T22:49:27.426864Z",
     "start_time": "2022-05-16T22:49:23.721323Z"
    }
   },
   "outputs": [],
   "source": [
    "import matplotlib.pyplot as plt\n",
    "import pandas as pd"
   ]
  },
  {
   "cell_type": "code",
   "execution_count": 33,
   "id": "33ac54d9",
   "metadata": {
    "ExecuteTime": {
     "end_time": "2022-05-16T23:15:44.243873Z",
     "start_time": "2022-05-16T23:15:06.673509Z"
    }
   },
   "outputs": [],
   "source": [
    "dataname = \"V1_Mouse_Brain_Sagittal_Anterior_Section_2\"\n",
    "\n",
    "\n",
    "df2 = pd.read_csv(\"/oak/stanford/groups/horence/JuliaO/data/visium/{}/{}_all_5000_v2.zscore\".format(dataname,dataname),sep='\\t')"
   ]
  },
  {
   "cell_type": "code",
   "execution_count": 34,
   "id": "1d1c6e7f",
   "metadata": {
    "ExecuteTime": {
     "end_time": "2022-05-16T23:15:46.776477Z",
     "start_time": "2022-05-16T23:15:44.271497Z"
    }
   },
   "outputs": [],
   "source": [
    "df2[\"numReads\"] = df2[\"cell_id\"].map(df2.groupby(\"cell_id\")[\"count\"].sum())"
   ]
  },
  {
   "cell_type": "code",
   "execution_count": 35,
   "id": "2b65ad65",
   "metadata": {
    "ExecuteTime": {
     "end_time": "2022-05-16T23:15:46.898164Z",
     "start_time": "2022-05-16T23:15:46.803400Z"
    }
   },
   "outputs": [],
   "source": [
    "df2[\"frac_count\"] = df2[\"count\"] / df2[\"numReads\"]"
   ]
  },
  {
   "cell_type": "code",
   "execution_count": 36,
   "id": "c7172d7a",
   "metadata": {
    "ExecuteTime": {
     "end_time": "2022-05-16T23:18:08.552854Z",
     "start_time": "2022-05-16T23:15:46.921952Z"
    }
   },
   "outputs": [],
   "source": [
    "df2.to_csv(\"/oak/stanford/groups/horence/JuliaO/data/visium/{}/{}_all_5000_v2_frac_count.zscore\".format(dataname,dataname),sep=\"\\t\",index=False)"
   ]
  },
  {
   "cell_type": "code",
   "execution_count": 37,
   "id": "3d66c491",
   "metadata": {
    "ExecuteTime": {
     "end_time": "2022-05-16T23:25:44.889362Z",
     "start_time": "2022-05-16T23:18:22.004975Z"
    }
   },
   "outputs": [
    {
     "name": "stdout",
     "output_type": "stream",
     "text": [
      "V1_Mouse_Brain_Sagittal_Posterior\n",
      "V1_Mouse_Brain_Sagittal_Posterior_Section_2\n",
      "V1_Mouse_Kidney\n"
     ]
    }
   ],
   "source": [
    "datanames = [\"V1_Mouse_Brain_Sagittal_Posterior\",\"V1_Mouse_Brain_Sagittal_Posterior_Section_2\",\"V1_Mouse_Kidney\"]\n",
    "for dataname in datanames:\n",
    "  print(dataname)\n",
    "  df2 = pd.read_csv(\"/oak/stanford/groups/horence/JuliaO/data/visium/{}/{}_all_5000_v2.zscore\".format(dataname,dataname),sep='\\t')\n",
    "  df2[\"numReads\"] = df2[\"cell_id\"].map(df2.groupby(\"cell_id\")[\"count\"].sum())\n",
    "  df2[\"frac_count\"] = df2[\"count\"] / df2[\"numReads\"]\n",
    "  df2.to_csv(\"/oak/stanford/groups/horence/JuliaO/data/visium/{}/{}_all_5000_v2_frac_count.zscore\".format(dataname,dataname),sep=\"\\t\",index=False)"
   ]
  },
  {
   "cell_type": "code",
   "execution_count": null,
   "id": "d0ece091",
   "metadata": {},
   "outputs": [],
   "source": []
  }
 ],
 "metadata": {
  "kernelspec": {
   "display_name": "jup_env",
   "language": "python",
   "name": "jup_env"
  },
  "language_info": {
   "codemirror_mode": {
    "name": "ipython",
    "version": 3
   },
   "file_extension": ".py",
   "mimetype": "text/x-python",
   "name": "python",
   "nbconvert_exporter": "python",
   "pygments_lexer": "ipython3",
   "version": "3.9.6"
  },
  "varInspector": {
   "cols": {
    "lenName": 16,
    "lenType": 16,
    "lenVar": 40
   },
   "kernels_config": {
    "python": {
     "delete_cmd_postfix": "",
     "delete_cmd_prefix": "del ",
     "library": "var_list.py",
     "varRefreshCmd": "print(var_dic_list())"
    },
    "r": {
     "delete_cmd_postfix": ") ",
     "delete_cmd_prefix": "rm(",
     "library": "var_list.r",
     "varRefreshCmd": "cat(var_dic_list()) "
    }
   },
   "types_to_exclude": [
    "module",
    "function",
    "builtin_function_or_method",
    "instance",
    "_Feature"
   ],
   "window_display": false
  }
 },
 "nbformat": 4,
 "nbformat_minor": 5
}
