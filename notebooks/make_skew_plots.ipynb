{
 "cells": [
  {
   "cell_type": "code",
   "execution_count": 66,
   "id": "85cd046b",
   "metadata": {
    "ExecuteTime": {
     "end_time": "2022-06-07T22:50:37.169630Z",
     "start_time": "2022-06-07T22:50:37.167675Z"
    }
   },
   "outputs": [],
   "source": [
    "import matplotlib.pyplot as plt\n",
    "import pandas as pd\n",
    "from scipy.stats import norm\n",
    "from scipy.stats import linregress\n",
    "\n",
    "from tqdm import tqdm"
   ]
  },
  {
   "cell_type": "code",
   "execution_count": 96,
   "id": "4e7fd8e1",
   "metadata": {
    "ExecuteTime": {
     "end_time": "2022-06-07T23:04:25.876122Z",
     "start_time": "2022-06-07T23:04:25.874375Z"
    }
   },
   "outputs": [],
   "source": [
    "outpath = \"/oak/stanford/groups/horence/JuliaO/visium_analysis/notebooks/output/make_skew_plots/\""
   ]
  },
  {
   "cell_type": "code",
   "execution_count": 67,
   "id": "221cf1ab",
   "metadata": {
    "ExecuteTime": {
     "end_time": "2022-06-07T22:51:16.240069Z",
     "start_time": "2022-06-07T22:50:38.266940Z"
    }
   },
   "outputs": [
    {
     "name": "stdout",
     "output_type": "stream",
     "text": [
      "/oak/stanford/groups/horence/JuliaO/nf-spliz-output/run_dir/visium_2_June_2022/V1_Mouse_Brain_Sagittal_Posterior/SpliZ_values/V1_Mouse_Brain_Sagittal_Posterior_sym_SVD_normdonor_S_0.1_z_0.0_b_5_r_0.01_subcol.tsv\n",
      "/oak/stanford/groups/horence/JuliaO/visium_analysis/scripts/output/parse_gene_expression/V1_Mouse_Brain_Sagittal_Posterior_sub_1000.tsv\n"
     ]
    }
   ],
   "source": [
    "dataname = \"V1_Mouse_Brain_Sagittal_Posterior\"\n",
    "\n",
    "score = \"SpliZ\"\n",
    "score2 = \"ge\"\n",
    "# load in samples and scores\n",
    "samples = pd.read_csv(\"/oak/stanford/groups/horence/JuliaO/visium_analysis/notebooks/output/make_samplesheet/spatial.csv\",index_col = 0)\n",
    "row = samples.loc[ dataname]\n",
    "\n",
    "scores = pd.read_csv(\"/oak/stanford/groups/horence/JuliaO/visium_analysis/notebooks/output/make_samplesheet/scores.csv\",index_col=0)\n",
    "srow = scores.loc[ score]\n",
    "srow2 = scores.loc[ score2]\n",
    "\n",
    "# open both dataframes\n",
    "print(row[srow[\"valname\"]])\n",
    "df = pd.read_csv(row[srow[\"valname\"]],sep=\"\\t\")\n",
    "print(row[srow2[\"valname\"]])\n",
    "df2 = pd.read_csv(row[srow2[\"valname\"]],sep=\"\\t\")"
   ]
  },
  {
   "cell_type": "code",
   "execution_count": 68,
   "id": "8080d10a",
   "metadata": {
    "ExecuteTime": {
     "end_time": "2022-06-07T22:51:47.174287Z",
     "start_time": "2022-06-07T22:51:16.337517Z"
    }
   },
   "outputs": [],
   "source": [
    "thresh = 100\n",
    "\n",
    "# subset for number of spots (in score 1 df)\n",
    "df[\"num_spots\"] = df[srow[\"genecol\"]].map(df.groupby(srow[\"genecol\"])[srow[\"cellid\"]].nunique())\n",
    "df = df[df[\"num_spots\"] > thresh]\n",
    "\n",
    "# create column to use to map between scores\n",
    "df[\"gene_cell\"] = df[srow[\"genecol\"]] + \"_\" + df[srow[\"cellid\"]]\n",
    "df2[\"gene_cell\"] = df2[srow2[\"genecol\"]] + \"_\" + df2[srow2[\"cellid\"]]\n",
    "\n",
    "# include score2 in score1 df\n",
    "df[srow2[\"col\"]] = df[\"gene_cell\"].map({x : y for x, y in zip(df2[\"gene_cell\"],df2[srow2[\"col\"]])})\n",
    "\n",
    "# only include rows where neither score is NA\n",
    "df = df[(~(df[srow[\"col\"]].isna())) & (~(df[srow2[\"col\"]].isna()))]"
   ]
  },
  {
   "cell_type": "code",
   "execution_count": 76,
   "id": "e6333159",
   "metadata": {
    "ExecuteTime": {
     "end_time": "2022-06-07T22:54:20.404627Z",
     "start_time": "2022-06-07T22:54:20.368255Z"
    }
   },
   "outputs": [
    {
     "name": "stderr",
     "output_type": "stream",
     "text": [
      " 27%|██▋       | 29/108 [00:00<00:00, 1586.16it/s]\n"
     ]
    }
   ],
   "source": [
    "cols = [srow[\"col\"],srow2[\"col\"]]\n",
    "out = {srow[\"genecol\"] : [], \"num_spots\" : [], \"r_squared\" : []}\n",
    "\n",
    "res_map = {}\n",
    "norm_map = {}\n",
    "norm_map2 = {}\n",
    "\n",
    "# get residual for each window\n",
    "for window, windf in tqdm(df.groupby(srow[\"genecol\"])):\n",
    "  if window == \"Gng13\":\n",
    "    for col in cols:\n",
    "  #      qval = q\n",
    "  #      \n",
    "  #      # quantile\n",
    "  #      while True:\n",
    "  #        try:\n",
    "  #          windf[\"{}_quant\".format(col)] = pd.qcut(windf[col],qval,labels=False)\n",
    "  #  \n",
    "  #          break\n",
    "  #        except:\n",
    "  #          qval -= 1\n",
    "\n",
    "      # randomize rows so ties are broken randomly (for ranking)\n",
    "      windf = windf.sample(frac=1)\n",
    "\n",
    "      # rank each  value\n",
    "      windf[\"{}_quant\".format(col)] = windf[col].rank(method=\"first\")\n",
    "\n",
    "      # inverse cdf to normal\n",
    "      windf[\"{}_norm\".format(col)] = norm.ppf((windf[\"{}_quant\".format(col)])/(windf[\"{}_quant\".format(col)].max() + 1))\n",
    "\n",
    "    # perform regression on these values\n",
    "    result = linregress(windf[\"{}_norm\".format(srow[\"col\"])], windf[\"{}_norm\".format(srow2[\"col\"])])\n",
    "    out[srow[\"genecol\"]].append(window)\n",
    "    out[\"num_spots\"].append(windf[srow[\"cellid\"]].nunique())\n",
    "    out[\"r_squared\"].append(result.rvalue**2)\n",
    "\n",
    "    # find prediction from regression, and residuals\n",
    "    windf[\"predict\"] = result.intercept + result.slope*windf[\"{}_norm\".format(srow2[\"col\"])]\n",
    "    windf[\"res\"] = windf[\"{}_norm\".format(srow[\"col\"])] - windf[\"predict\"]\n",
    "    norm_map = {**norm_map,**{x : y for x, y in zip(windf[\"gene_cell\"],windf[\"{}_norm\".format(srow[\"col\"])])}}\n",
    "    norm_map2 = {**norm_map2,**{x : y for x, y in zip(windf[\"gene_cell\"],windf[\"{}_norm\".format(srow2[\"col\"])])}}\n",
    "\n",
    "    res_map = {**res_map,**{x : y for x, y in zip(windf[\"gene_cell\"],windf[\"res\"])}}\n",
    "    break"
   ]
  },
  {
   "cell_type": "code",
   "execution_count": 77,
   "id": "52657d8d",
   "metadata": {
    "ExecuteTime": {
     "end_time": "2022-06-07T22:54:22.135230Z",
     "start_time": "2022-06-07T22:54:22.132995Z"
    }
   },
   "outputs": [
    {
     "data": {
      "text/plain": [
       "'Gng13'"
      ]
     },
     "execution_count": 77,
     "metadata": {},
     "output_type": "execute_result"
    }
   ],
   "source": [
    "window"
   ]
  },
  {
   "cell_type": "code",
   "execution_count": 83,
   "id": "1e863ee3",
   "metadata": {
    "ExecuteTime": {
     "end_time": "2022-06-07T22:56:46.910093Z",
     "start_time": "2022-06-07T22:56:46.907563Z"
    }
   },
   "outputs": [
    {
     "data": {
      "text/plain": [
       "'scZ'"
      ]
     },
     "execution_count": 83,
     "metadata": {},
     "output_type": "execute_result"
    }
   ],
   "source": [
    "cols[0]"
   ]
  },
  {
   "cell_type": "code",
   "execution_count": 97,
   "id": "cd7722f7",
   "metadata": {
    "ExecuteTime": {
     "end_time": "2022-06-07T23:04:43.915430Z",
     "start_time": "2022-06-07T23:04:43.912676Z"
    }
   },
   "outputs": [],
   "source": [
    "def plot_cols(xcol,ycol,windf):\n",
    "  plt.plot(windf[xcol],windf[ycol],marker=\"o\",linestyle=\"\",alpha = 0.4)\n",
    "  plt.title(\"correlation: {:0.3f}\".format(windf[xcol].corr(windf[ycol])))\n",
    "  plt.xlabel(xcol)\n",
    "  plt.ylabel(ycol)\n",
    "  plt.savefig(\"{}{}_{}_plot.png\".format(outpath,xcol,ycol))\n",
    "  plt.show()"
   ]
  },
  {
   "cell_type": "code",
   "execution_count": 98,
   "id": "a0b5466c",
   "metadata": {
    "ExecuteTime": {
     "end_time": "2022-06-07T23:04:53.711106Z",
     "start_time": "2022-06-07T23:04:53.708808Z"
    }
   },
   "outputs": [],
   "source": [
    "def plot_hist(col,windf):\n",
    "  plt.hist(windf[col])\n",
    "  plt.title(col)\n",
    "  plt.savefig(\"{}{}_hist.png\".format(outpath,col))\n",
    "  plt.show()"
   ]
  },
  {
   "cell_type": "code",
   "execution_count": 99,
   "id": "01976d2a",
   "metadata": {
    "ExecuteTime": {
     "end_time": "2022-06-07T23:04:58.140296Z",
     "start_time": "2022-06-07T23:04:54.319665Z"
    }
   },
   "outputs": [
    {
     "data": {
      "image/png": "[encoded data removed]",
      "text/plain": [
       "<Figure size 432x288 with 1 Axes>"
      ]
     },
     "metadata": {
      "needs_background": "light"
     },
     "output_type": "display_data"
    },
    {
     "data": {
      "image/png": "[encoded data removed]",
      "text/plain": [
       "<Figure size 432x288 with 1 Axes>"
      ]
     },
     "metadata": {
      "needs_background": "light"
     },
     "output_type": "display_data"
    },
    {
     "data": {
      "image/png": "[encoded data removed]",
      "text/plain": [
       "<Figure size 432x288 with 1 Axes>"
      ]
     },
     "metadata": {
      "needs_background": "light"
     },
     "output_type": "display_data"
    },
    {
     "data": {
      "image/png": "[encoded data removed]",
      "text/plain": [
       "<Figure size 432x288 with 1 Axes>"
      ]
     },
     "metadata": {
      "needs_background": "light"
     },
     "output_type": "display_data"
    },
    {
     "data": {
      "image/png": "[encoded data removed]",
      "text/plain": [
       "<Figure size 432x288 with 1 Axes>"
      ]
     },
     "metadata": {
      "needs_background": "light"
     },
     "output_type": "display_data"
    },
    {
     "data": {
      "image/png": "[encoded data removed]",
      "text/plain": [
       "<Figure size 432x288 with 1 Axes>"
      ]
     },
     "metadata": {
      "needs_background": "light"
     },
     "output_type": "display_data"
    },
    {
     "data": {
      "image/png": "[encoded data removed]",
      "text/plain": [
       "<Figure size 432x288 with 1 Axes>"
      ]
     },
     "metadata": {
      "needs_background": "light"
     },
     "output_type": "display_data"
    },
    {
     "data": {
      "image/png": "[encoded data removed]",
      "text/plain": [
       "<Figure size 432x288 with 1 Axes>"
      ]
     },
     "metadata": {
      "needs_background": "light"
     },
     "output_type": "display_data"
    }
   ],
   "source": [
    "for col in cols:\n",
    "  plot_hist(col,windf)\n",
    "  plot_hist(col + \"_norm\",windf)\n",
    "\n",
    "plot_hist(\"res\",windf)\n",
    "\n",
    "plot_cols(cols[0],cols[1],windf)\n",
    "plot_cols(cols[0] + \"_norm\",cols[1] + \"_norm\",windf)\n",
    "plot_cols(\"res\",cols[1] + \"_norm\",windf)"
   ]
  },
  {
   "cell_type": "code",
   "execution_count": 86,
   "id": "21441e61",
   "metadata": {
    "ExecuteTime": {
     "end_time": "2022-06-07T22:57:31.253098Z",
     "start_time": "2022-06-07T22:57:31.249935Z"
    }
   },
   "outputs": [
    {
     "data": {
      "text/plain": [
       "-3.638635488584348e-17"
      ]
     },
     "execution_count": 86,
     "metadata": {},
     "output_type": "execute_result"
    }
   ],
   "source": [
    "windf[\"res\"].corr(windf[cols[1] + \"_norm\"])\n"
   ]
  },
  {
   "cell_type": "code",
   "execution_count": 87,
   "id": "4c1ad2d3",
   "metadata": {
    "ExecuteTime": {
     "end_time": "2022-06-07T22:57:39.252070Z",
     "start_time": "2022-06-07T22:57:39.248908Z"
    }
   },
   "outputs": [
    {
     "data": {
      "text/plain": [
       "0.7112035092303098"
      ]
     },
     "execution_count": 87,
     "metadata": {},
     "output_type": "execute_result"
    }
   ],
   "source": []
  },
  {
   "cell_type": "code",
   "execution_count": 22,
   "id": "172bbaf9",
   "metadata": {
    "ExecuteTime": {
     "end_time": "2022-06-06T23:26:40.143505Z",
     "start_time": "2022-06-06T23:26:40.002200Z"
    }
   },
   "outputs": [],
   "source": [
    "df = pd.read_parquet(\"/oak/stanford/groups/horence/JuliaO/visium_analysis/scripts/output/readzs_ge/p20190_s003_3_BrainMetastasis_readzs_ge_100.pq\")"
   ]
  },
  {
   "cell_type": "code",
   "execution_count": 29,
   "id": "079e73db",
   "metadata": {
    "ExecuteTime": {
     "end_time": "2022-06-06T23:28:12.468315Z",
     "start_time": "2022-06-06T23:28:12.445426Z"
    }
   },
   "outputs": [],
   "source": [
    "windf = df[df[\"window\"]== \"chr4_36952_minus\"]"
   ]
  },
  {
   "cell_type": "code",
   "execution_count": 35,
   "id": "1a6204a2",
   "metadata": {
    "ExecuteTime": {
     "end_time": "2022-06-06T23:30:01.143356Z",
     "start_time": "2022-06-06T23:30:01.136948Z"
    }
   },
   "outputs": [
    {
     "name": "stderr",
     "output_type": "stream",
     "text": [
      "/home/users/jolivier/.local/lib/python3.9/site-packages/pandas/core/frame.py:3607: SettingWithCopyWarning: \n",
      "A value is trying to be set on a copy of a slice from a DataFrame.\n",
      "Try using .loc[row_indexer,col_indexer] = value instead\n",
      "\n",
      "See the caveats in the documentation: https://pandas.pydata.org/pandas-docs/stable/user_guide/indexing.html#returning-a-view-versus-a-copy\n",
      "  self._set_item(key, value)\n"
     ]
    }
   ],
   "source": [
    "windf[\"test\"] = [0 for i in range(windf.shape[0])]"
   ]
  },
  {
   "cell_type": "code",
   "execution_count": 42,
   "id": "4a6b119e",
   "metadata": {
    "ExecuteTime": {
     "end_time": "2022-06-06T23:33:46.642939Z",
     "start_time": "2022-06-06T23:33:46.631283Z"
    }
   },
   "outputs": [
    {
     "ename": "TypeError",
     "evalue": "sample() got an unexpected keyword argument 'inplace'",
     "output_type": "error",
     "traceback": [
      "\u001b[0;31m---------------------------------------------------------------------------\u001b[0m",
      "\u001b[0;31mTypeError\u001b[0m                                 Traceback (most recent call last)",
      "\u001b[0;32m/tmp/ipykernel_16041/2757536092.py\u001b[0m in \u001b[0;36m<module>\u001b[0;34m\u001b[0m\n\u001b[0;32m----> 1\u001b[0;31m \u001b[0mwindf\u001b[0m\u001b[0;34m.\u001b[0m\u001b[0msample\u001b[0m\u001b[0;34m(\u001b[0m\u001b[0mfrac\u001b[0m\u001b[0;34m=\u001b[0m\u001b[0;36m1\u001b[0m\u001b[0;34m,\u001b[0m\u001b[0minplace\u001b[0m\u001b[0;34m=\u001b[0m\u001b[0;32mTrue\u001b[0m\u001b[0;34m)\u001b[0m\u001b[0;34m\u001b[0m\u001b[0;34m\u001b[0m\u001b[0m\n\u001b[0m",
      "\u001b[0;31mTypeError\u001b[0m: sample() got an unexpected keyword argument 'inplace'"
     ]
    }
   ],
   "source": [
    "windf.sample(frac=1,inplace=True)"
   ]
  },
  {
   "cell_type": "code",
   "execution_count": 43,
   "id": "a04e0c55",
   "metadata": {
    "ExecuteTime": {
     "end_time": "2022-06-06T23:34:26.377618Z",
     "start_time": "2022-06-06T23:34:26.371411Z"
    }
   },
   "outputs": [
    {
     "data": {
      "text/plain": [
       "(31, 20)"
      ]
     },
     "execution_count": 43,
     "metadata": {},
     "output_type": "execute_result"
    }
   ],
   "source": [
    "windf.shape"
   ]
  },
  {
   "cell_type": "code",
   "execution_count": 39,
   "id": "b3cc16ca",
   "metadata": {
    "ExecuteTime": {
     "end_time": "2022-06-06T23:31:24.811372Z",
     "start_time": "2022-06-06T23:31:24.800431Z"
    }
   },
   "outputs": [
    {
     "data": {
      "text/plain": [
       "525        1.0\n",
       "3035       2.0\n",
       "3401       3.0\n",
       "9647       4.0\n",
       "17408      5.0\n",
       "22423      6.0\n",
       "26691      7.0\n",
       "29173      8.0\n",
       "31066      9.0\n",
       "32755     10.0\n",
       "39235     11.0\n",
       "39946     12.0\n",
       "41917     13.0\n",
       "45929     14.0\n",
       "48296     15.0\n",
       "55128     16.0\n",
       "55473     17.0\n",
       "57468     18.0\n",
       "62296     19.0\n",
       "64853     20.0\n",
       "68007     21.0\n",
       "71353     22.0\n",
       "76882     23.0\n",
       "77762     24.0\n",
       "81198     25.0\n",
       "81519     26.0\n",
       "102652    27.0\n",
       "107902    28.0\n",
       "111844    29.0\n",
       "115552    30.0\n",
       "116154    31.0\n",
       "Name: test, dtype: float64"
      ]
     },
     "execution_count": 39,
     "metadata": {},
     "output_type": "execute_result"
    }
   ],
   "source": [
    "windf[\"test\"].rank(method=\"first\")"
   ]
  },
  {
   "cell_type": "code",
   "execution_count": 36,
   "id": "ae8187c5",
   "metadata": {
    "ExecuteTime": {
     "end_time": "2022-06-06T23:30:05.990678Z",
     "start_time": "2022-06-06T23:30:05.947617Z"
    }
   },
   "outputs": [
    {
     "data": {
      "text/plain": [
       "(31, 20)"
      ]
     },
     "metadata": {},
     "output_type": "display_data"
    },
    {
     "ename": "ValueError",
     "evalue": "Bin edges must be unique: array([0., 0., 0., 0., 0., 0., 0., 0., 0., 0., 0., 0., 0., 0., 0., 0., 0.,\n       0., 0., 0., 0., 0., 0., 0., 0., 0., 0., 0., 0., 0., 0., 0.]).\nYou can drop duplicate edges by setting the 'duplicates' kwarg",
     "output_type": "error",
     "traceback": [
      "\u001b[0;31m---------------------------------------------------------------------------\u001b[0m",
      "\u001b[0;31mValueError\u001b[0m                                Traceback (most recent call last)",
      "\u001b[0;32m/tmp/ipykernel_16041/3167583482.py\u001b[0m in \u001b[0;36m<module>\u001b[0;34m\u001b[0m\n\u001b[1;32m      1\u001b[0m \u001b[0mq\u001b[0m \u001b[0;34m=\u001b[0m \u001b[0mwindf\u001b[0m\u001b[0;34m.\u001b[0m\u001b[0mshape\u001b[0m\u001b[0;34m[\u001b[0m\u001b[0;36m0\u001b[0m\u001b[0;34m]\u001b[0m\u001b[0;34m\u001b[0m\u001b[0;34m\u001b[0m\u001b[0m\n\u001b[1;32m      2\u001b[0m \u001b[0mdisplay\u001b[0m\u001b[0;34m(\u001b[0m\u001b[0mwindf\u001b[0m\u001b[0;34m.\u001b[0m\u001b[0mshape\u001b[0m\u001b[0;34m)\u001b[0m\u001b[0;34m\u001b[0m\u001b[0;34m\u001b[0m\u001b[0m\n\u001b[0;32m----> 3\u001b[0;31m \u001b[0mpd\u001b[0m\u001b[0;34m.\u001b[0m\u001b[0mqcut\u001b[0m\u001b[0;34m(\u001b[0m\u001b[0mwindf\u001b[0m\u001b[0;34m[\u001b[0m\u001b[0;34m\"test\"\u001b[0m\u001b[0;34m]\u001b[0m\u001b[0;34m,\u001b[0m\u001b[0mq\u001b[0m\u001b[0;34m,\u001b[0m\u001b[0mlabels\u001b[0m\u001b[0;34m=\u001b[0m\u001b[0;32mFalse\u001b[0m\u001b[0;34m)\u001b[0m\u001b[0;34m\u001b[0m\u001b[0;34m\u001b[0m\u001b[0m\n\u001b[0m",
      "\u001b[0;32m~/.local/lib/python3.9/site-packages/pandas/core/reshape/tile.py\u001b[0m in \u001b[0;36mqcut\u001b[0;34m(x, q, labels, retbins, precision, duplicates)\u001b[0m\n\u001b[1;32m    370\u001b[0m         \u001b[0mquantiles\u001b[0m \u001b[0;34m=\u001b[0m \u001b[0mq\u001b[0m\u001b[0;34m\u001b[0m\u001b[0;34m\u001b[0m\u001b[0m\n\u001b[1;32m    371\u001b[0m     \u001b[0mbins\u001b[0m \u001b[0;34m=\u001b[0m \u001b[0malgos\u001b[0m\u001b[0;34m.\u001b[0m\u001b[0mquantile\u001b[0m\u001b[0;34m(\u001b[0m\u001b[0mx\u001b[0m\u001b[0;34m,\u001b[0m \u001b[0mquantiles\u001b[0m\u001b[0;34m)\u001b[0m\u001b[0;34m\u001b[0m\u001b[0;34m\u001b[0m\u001b[0m\n\u001b[0;32m--> 372\u001b[0;31m     fac, bins = _bins_to_cuts(\n\u001b[0m\u001b[1;32m    373\u001b[0m         \u001b[0mx\u001b[0m\u001b[0;34m,\u001b[0m\u001b[0;34m\u001b[0m\u001b[0;34m\u001b[0m\u001b[0m\n\u001b[1;32m    374\u001b[0m         \u001b[0mbins\u001b[0m\u001b[0;34m,\u001b[0m\u001b[0;34m\u001b[0m\u001b[0;34m\u001b[0m\u001b[0m\n",
      "\u001b[0;32m~/.local/lib/python3.9/site-packages/pandas/core/reshape/tile.py\u001b[0m in \u001b[0;36m_bins_to_cuts\u001b[0;34m(x, bins, right, labels, precision, include_lowest, dtype, duplicates, ordered)\u001b[0m\n\u001b[1;32m    411\u001b[0m     \u001b[0;32mif\u001b[0m \u001b[0mlen\u001b[0m\u001b[0;34m(\u001b[0m\u001b[0munique_bins\u001b[0m\u001b[0;34m)\u001b[0m \u001b[0;34m<\u001b[0m \u001b[0mlen\u001b[0m\u001b[0;34m(\u001b[0m\u001b[0mbins\u001b[0m\u001b[0;34m)\u001b[0m \u001b[0;32mand\u001b[0m \u001b[0mlen\u001b[0m\u001b[0;34m(\u001b[0m\u001b[0mbins\u001b[0m\u001b[0;34m)\u001b[0m \u001b[0;34m!=\u001b[0m \u001b[0;36m2\u001b[0m\u001b[0;34m:\u001b[0m\u001b[0;34m\u001b[0m\u001b[0;34m\u001b[0m\u001b[0m\n\u001b[1;32m    412\u001b[0m         \u001b[0;32mif\u001b[0m \u001b[0mduplicates\u001b[0m \u001b[0;34m==\u001b[0m \u001b[0;34m\"raise\"\u001b[0m\u001b[0;34m:\u001b[0m\u001b[0;34m\u001b[0m\u001b[0;34m\u001b[0m\u001b[0m\n\u001b[0;32m--> 413\u001b[0;31m             raise ValueError(\n\u001b[0m\u001b[1;32m    414\u001b[0m                 \u001b[0;34mf\"Bin edges must be unique: {repr(bins)}.\\n\"\u001b[0m\u001b[0;34m\u001b[0m\u001b[0;34m\u001b[0m\u001b[0m\n\u001b[1;32m    415\u001b[0m                 \u001b[0;34mf\"You can drop duplicate edges by setting the 'duplicates' kwarg\"\u001b[0m\u001b[0;34m\u001b[0m\u001b[0;34m\u001b[0m\u001b[0m\n",
      "\u001b[0;31mValueError\u001b[0m: Bin edges must be unique: array([0., 0., 0., 0., 0., 0., 0., 0., 0., 0., 0., 0., 0., 0., 0., 0., 0.,\n       0., 0., 0., 0., 0., 0., 0., 0., 0., 0., 0., 0., 0., 0., 0.]).\nYou can drop duplicate edges by setting the 'duplicates' kwarg"
     ]
    }
   ],
   "source": [
    "q = windf.shape[0]\n",
    "display(windf.shape)\n",
    "pd.qcut(windf[\"test\"],q,labels=False)"
   ]
  },
  {
   "cell_type": "code",
   "execution_count": null,
   "id": "930f5375",
   "metadata": {},
   "outputs": [],
   "source": []
  },
  {
   "cell_type": "code",
   "execution_count": 5,
   "id": "49396043",
   "metadata": {
    "ExecuteTime": {
     "end_time": "2022-06-06T23:05:40.224470Z",
     "start_time": "2022-06-06T23:05:40.066698Z"
    }
   },
   "outputs": [],
   "source": [
    "df[\"cell_window\"] = df[\"cell_id\"] + \"_\" + df[\"window\"]"
   ]
  },
  {
   "cell_type": "code",
   "execution_count": 12,
   "id": "81520904",
   "metadata": {
    "ExecuteTime": {
     "end_time": "2022-06-06T23:10:25.251150Z",
     "start_time": "2022-06-06T23:10:25.232501Z"
    }
   },
   "outputs": [],
   "source": [
    "vc = temp[\"window\"].value_counts()"
   ]
  },
  {
   "cell_type": "code",
   "execution_count": 21,
   "id": "6826df67",
   "metadata": {
    "ExecuteTime": {
     "end_time": "2022-06-06T23:13:23.520825Z",
     "start_time": "2022-06-06T23:13:23.465347Z"
    }
   },
   "outputs": [
    {
     "data": {
      "text/html": [
       "<div>\n",
       "<style scoped>\n",
       "    .dataframe tbody tr th:only-of-type {\n",
       "        vertical-align: middle;\n",
       "    }\n",
       "\n",
       "    .dataframe tbody tr th {\n",
       "        vertical-align: top;\n",
       "    }\n",
       "\n",
       "    .dataframe thead th {\n",
       "        text-align: right;\n",
       "    }\n",
       "</style>\n",
       "<table border=\"1\" class=\"dataframe\">\n",
       "  <thead>\n",
       "    <tr style=\"text-align: right;\">\n",
       "      <th></th>\n",
       "      <th>cell_id</th>\n",
       "      <th>chr</th>\n",
       "      <th>pos</th>\n",
       "      <th>strand</th>\n",
       "      <th>sample</th>\n",
       "      <th>window</th>\n",
       "      <th>window_count</th>\n",
       "      <th>cell_count</th>\n",
       "      <th>frac_count</th>\n",
       "      <th>barcode</th>\n",
       "      <th>in_tissue</th>\n",
       "      <th>array_row</th>\n",
       "      <th>array_col</th>\n",
       "      <th>xcoord</th>\n",
       "      <th>ycoord</th>\n",
       "      <th>plot_xcoord</th>\n",
       "      <th>plot_ycoord</th>\n",
       "      <th>pixval</th>\n",
       "      <th>pixquant</th>\n",
       "      <th>cell_window</th>\n",
       "    </tr>\n",
       "  </thead>\n",
       "  <tbody>\n",
       "    <tr>\n",
       "      <th>0</th>\n",
       "      <td>p20190_s003_3_BrainMetastasis_ACAAGGAAATCCGCCC</td>\n",
       "      <td>chr2</td>\n",
       "      <td>3580026</td>\n",
       "      <td>+</td>\n",
       "      <td>p20190_s003_3_BrainMetastasis</td>\n",
       "      <td>chr2_717_plus</td>\n",
       "      <td>629</td>\n",
       "      <td>14757</td>\n",
       "      <td>0.000068</td>\n",
       "      <td>ACAAGGAAATCCGCCC-1</td>\n",
       "      <td>1</td>\n",
       "      <td>49</td>\n",
       "      <td>75</td>\n",
       "      <td>8131</td>\n",
       "      <td>8116</td>\n",
       "      <td>-8131</td>\n",
       "      <td>8116</td>\n",
       "      <td>88</td>\n",
       "      <td>8</td>\n",
       "      <td>p20190_s003_3_BrainMetastasis_ACAAGGAAATCCGCCC...</td>\n",
       "    </tr>\n",
       "    <tr>\n",
       "      <th>10</th>\n",
       "      <td>p20190_s003_3_BrainMetastasis_ACAAGGAAATCCGCCC</td>\n",
       "      <td>chr2</td>\n",
       "      <td>28800897</td>\n",
       "      <td>+</td>\n",
       "      <td>p20190_s003_3_BrainMetastasis</td>\n",
       "      <td>chr2_5761_plus</td>\n",
       "      <td>114</td>\n",
       "      <td>14757</td>\n",
       "      <td>0.000068</td>\n",
       "      <td>ACAAGGAAATCCGCCC-1</td>\n",
       "      <td>1</td>\n",
       "      <td>49</td>\n",
       "      <td>75</td>\n",
       "      <td>8131</td>\n",
       "      <td>8116</td>\n",
       "      <td>-8131</td>\n",
       "      <td>8116</td>\n",
       "      <td>88</td>\n",
       "      <td>8</td>\n",
       "      <td>p20190_s003_3_BrainMetastasis_ACAAGGAAATCCGCCC...</td>\n",
       "    </tr>\n",
       "    <tr>\n",
       "      <th>14</th>\n",
       "      <td>p20190_s003_3_BrainMetastasis_ACAAGGAAATCCGCCC</td>\n",
       "      <td>chr2</td>\n",
       "      <td>32916235</td>\n",
       "      <td>+</td>\n",
       "      <td>p20190_s003_3_BrainMetastasis</td>\n",
       "      <td>chr2_6584_plus</td>\n",
       "      <td>706</td>\n",
       "      <td>14757</td>\n",
       "      <td>0.000068</td>\n",
       "      <td>ACAAGGAAATCCGCCC-1</td>\n",
       "      <td>1</td>\n",
       "      <td>49</td>\n",
       "      <td>75</td>\n",
       "      <td>8131</td>\n",
       "      <td>8116</td>\n",
       "      <td>-8131</td>\n",
       "      <td>8116</td>\n",
       "      <td>88</td>\n",
       "      <td>8</td>\n",
       "      <td>p20190_s003_3_BrainMetastasis_ACAAGGAAATCCGCCC...</td>\n",
       "    </tr>\n",
       "    <tr>\n",
       "      <th>19</th>\n",
       "      <td>p20190_s003_3_BrainMetastasis_ACAAGGAAATCCGCCC</td>\n",
       "      <td>chr2</td>\n",
       "      <td>46386573</td>\n",
       "      <td>+</td>\n",
       "      <td>p20190_s003_3_BrainMetastasis</td>\n",
       "      <td>chr2_9278_plus</td>\n",
       "      <td>126</td>\n",
       "      <td>14757</td>\n",
       "      <td>0.000068</td>\n",
       "      <td>ACAAGGAAATCCGCCC-1</td>\n",
       "      <td>1</td>\n",
       "      <td>49</td>\n",
       "      <td>75</td>\n",
       "      <td>8131</td>\n",
       "      <td>8116</td>\n",
       "      <td>-8131</td>\n",
       "      <td>8116</td>\n",
       "      <td>88</td>\n",
       "      <td>8</td>\n",
       "      <td>p20190_s003_3_BrainMetastasis_ACAAGGAAATCCGCCC...</td>\n",
       "    </tr>\n",
       "    <tr>\n",
       "      <th>20</th>\n",
       "      <td>p20190_s003_3_BrainMetastasis_ACAAGGAAATCCGCCC</td>\n",
       "      <td>chr2</td>\n",
       "      <td>54669439</td>\n",
       "      <td>+</td>\n",
       "      <td>p20190_s003_3_BrainMetastasis</td>\n",
       "      <td>chr2_10934_plus</td>\n",
       "      <td>126</td>\n",
       "      <td>14757</td>\n",
       "      <td>0.000068</td>\n",
       "      <td>ACAAGGAAATCCGCCC-1</td>\n",
       "      <td>1</td>\n",
       "      <td>49</td>\n",
       "      <td>75</td>\n",
       "      <td>8131</td>\n",
       "      <td>8116</td>\n",
       "      <td>-8131</td>\n",
       "      <td>8116</td>\n",
       "      <td>88</td>\n",
       "      <td>8</td>\n",
       "      <td>p20190_s003_3_BrainMetastasis_ACAAGGAAATCCGCCC...</td>\n",
       "    </tr>\n",
       "    <tr>\n",
       "      <th>...</th>\n",
       "      <td>...</td>\n",
       "      <td>...</td>\n",
       "      <td>...</td>\n",
       "      <td>...</td>\n",
       "      <td>...</td>\n",
       "      <td>...</td>\n",
       "      <td>...</td>\n",
       "      <td>...</td>\n",
       "      <td>...</td>\n",
       "      <td>...</td>\n",
       "      <td>...</td>\n",
       "      <td>...</td>\n",
       "      <td>...</td>\n",
       "      <td>...</td>\n",
       "      <td>...</td>\n",
       "      <td>...</td>\n",
       "      <td>...</td>\n",
       "      <td>...</td>\n",
       "      <td>...</td>\n",
       "      <td>...</td>\n",
       "    </tr>\n",
       "    <tr>\n",
       "      <th>499677</th>\n",
       "      <td>p20190_s003_3_BrainMetastasis_GACGTGTAGGGATTAT</td>\n",
       "      <td>chrM</td>\n",
       "      <td>9743</td>\n",
       "      <td>+</td>\n",
       "      <td>p20190_s003_3_BrainMetastasis</td>\n",
       "      <td>chrM_2_plus</td>\n",
       "      <td>351203</td>\n",
       "      <td>3</td>\n",
       "      <td>0.333333</td>\n",
       "      <td>GACGTGTAGGGATTAT-1</td>\n",
       "      <td>1</td>\n",
       "      <td>28</td>\n",
       "      <td>32</td>\n",
       "      <td>5261</td>\n",
       "      <td>4744</td>\n",
       "      <td>-5261</td>\n",
       "      <td>4744</td>\n",
       "      <td>64</td>\n",
       "      <td>5</td>\n",
       "      <td>p20190_s003_3_BrainMetastasis_GACGTGTAGGGATTAT...</td>\n",
       "    </tr>\n",
       "    <tr>\n",
       "      <th>499678</th>\n",
       "      <td>p20190_s003_3_BrainMetastasis_CCTGTCGTGTATGAAG</td>\n",
       "      <td>chrM</td>\n",
       "      <td>7249</td>\n",
       "      <td>+</td>\n",
       "      <td>p20190_s003_3_BrainMetastasis</td>\n",
       "      <td>chrM_2_plus</td>\n",
       "      <td>351203</td>\n",
       "      <td>2</td>\n",
       "      <td>0.500000</td>\n",
       "      <td>CCTGTCGTGTATGAAG-1</td>\n",
       "      <td>1</td>\n",
       "      <td>70</td>\n",
       "      <td>8</td>\n",
       "      <td>10995</td>\n",
       "      <td>2856</td>\n",
       "      <td>-10995</td>\n",
       "      <td>2856</td>\n",
       "      <td>79</td>\n",
       "      <td>7</td>\n",
       "      <td>p20190_s003_3_BrainMetastasis_CCTGTCGTGTATGAAG...</td>\n",
       "    </tr>\n",
       "    <tr>\n",
       "      <th>499680</th>\n",
       "      <td>p20190_s003_3_BrainMetastasis_AGAAGAGCGCCGTTCC</td>\n",
       "      <td>chrM</td>\n",
       "      <td>9005</td>\n",
       "      <td>+</td>\n",
       "      <td>p20190_s003_3_BrainMetastasis</td>\n",
       "      <td>chrM_2_plus</td>\n",
       "      <td>351203</td>\n",
       "      <td>1</td>\n",
       "      <td>1.000000</td>\n",
       "      <td>AGAAGAGCGCCGTTCC-1</td>\n",
       "      <td>1</td>\n",
       "      <td>38</td>\n",
       "      <td>88</td>\n",
       "      <td>6630</td>\n",
       "      <td>9137</td>\n",
       "      <td>-6630</td>\n",
       "      <td>9137</td>\n",
       "      <td>38</td>\n",
       "      <td>1</td>\n",
       "      <td>p20190_s003_3_BrainMetastasis_AGAAGAGCGCCGTTCC...</td>\n",
       "    </tr>\n",
       "    <tr>\n",
       "      <th>499681</th>\n",
       "      <td>p20190_s003_3_BrainMetastasis_TCGCGTAGCAGTGTCC</td>\n",
       "      <td>chrM</td>\n",
       "      <td>9752</td>\n",
       "      <td>+</td>\n",
       "      <td>p20190_s003_3_BrainMetastasis</td>\n",
       "      <td>chrM_2_plus</td>\n",
       "      <td>351203</td>\n",
       "      <td>6</td>\n",
       "      <td>0.166667</td>\n",
       "      <td>TCGCGTAGCAGTGTCC-1</td>\n",
       "      <td>1</td>\n",
       "      <td>57</td>\n",
       "      <td>99</td>\n",
       "      <td>9225</td>\n",
       "      <td>9999</td>\n",
       "      <td>-9225</td>\n",
       "      <td>9999</td>\n",
       "      <td>45</td>\n",
       "      <td>2</td>\n",
       "      <td>p20190_s003_3_BrainMetastasis_TCGCGTAGCAGTGTCC...</td>\n",
       "    </tr>\n",
       "    <tr>\n",
       "      <th>499685</th>\n",
       "      <td>p20190_s003_3_BrainMetastasis_TCGCGTAGCAGTGTCC</td>\n",
       "      <td>chrM</td>\n",
       "      <td>10219</td>\n",
       "      <td>+</td>\n",
       "      <td>p20190_s003_3_BrainMetastasis</td>\n",
       "      <td>chrM_3_plus</td>\n",
       "      <td>97159</td>\n",
       "      <td>6</td>\n",
       "      <td>0.166667</td>\n",
       "      <td>TCGCGTAGCAGTGTCC-1</td>\n",
       "      <td>1</td>\n",
       "      <td>57</td>\n",
       "      <td>99</td>\n",
       "      <td>9225</td>\n",
       "      <td>9999</td>\n",
       "      <td>-9225</td>\n",
       "      <td>9999</td>\n",
       "      <td>45</td>\n",
       "      <td>2</td>\n",
       "      <td>p20190_s003_3_BrainMetastasis_TCGCGTAGCAGTGTCC...</td>\n",
       "    </tr>\n",
       "  </tbody>\n",
       "</table>\n",
       "<p>131163 rows × 20 columns</p>\n",
       "</div>"
      ],
      "text/plain": [
       "                                               cell_id   chr       pos strand  \\\n",
       "0       p20190_s003_3_BrainMetastasis_ACAAGGAAATCCGCCC  chr2   3580026      +   \n",
       "10      p20190_s003_3_BrainMetastasis_ACAAGGAAATCCGCCC  chr2  28800897      +   \n",
       "14      p20190_s003_3_BrainMetastasis_ACAAGGAAATCCGCCC  chr2  32916235      +   \n",
       "19      p20190_s003_3_BrainMetastasis_ACAAGGAAATCCGCCC  chr2  46386573      +   \n",
       "20      p20190_s003_3_BrainMetastasis_ACAAGGAAATCCGCCC  chr2  54669439      +   \n",
       "...                                                ...   ...       ...    ...   \n",
       "499677  p20190_s003_3_BrainMetastasis_GACGTGTAGGGATTAT  chrM      9743      +   \n",
       "499678  p20190_s003_3_BrainMetastasis_CCTGTCGTGTATGAAG  chrM      7249      +   \n",
       "499680  p20190_s003_3_BrainMetastasis_AGAAGAGCGCCGTTCC  chrM      9005      +   \n",
       "499681  p20190_s003_3_BrainMetastasis_TCGCGTAGCAGTGTCC  chrM      9752      +   \n",
       "499685  p20190_s003_3_BrainMetastasis_TCGCGTAGCAGTGTCC  chrM     10219      +   \n",
       "\n",
       "                               sample           window  window_count  \\\n",
       "0       p20190_s003_3_BrainMetastasis    chr2_717_plus           629   \n",
       "10      p20190_s003_3_BrainMetastasis   chr2_5761_plus           114   \n",
       "14      p20190_s003_3_BrainMetastasis   chr2_6584_plus           706   \n",
       "19      p20190_s003_3_BrainMetastasis   chr2_9278_plus           126   \n",
       "20      p20190_s003_3_BrainMetastasis  chr2_10934_plus           126   \n",
       "...                               ...              ...           ...   \n",
       "499677  p20190_s003_3_BrainMetastasis      chrM_2_plus        351203   \n",
       "499678  p20190_s003_3_BrainMetastasis      chrM_2_plus        351203   \n",
       "499680  p20190_s003_3_BrainMetastasis      chrM_2_plus        351203   \n",
       "499681  p20190_s003_3_BrainMetastasis      chrM_2_plus        351203   \n",
       "499685  p20190_s003_3_BrainMetastasis      chrM_3_plus         97159   \n",
       "\n",
       "        cell_count  frac_count             barcode  in_tissue  array_row  \\\n",
       "0            14757    0.000068  ACAAGGAAATCCGCCC-1          1         49   \n",
       "10           14757    0.000068  ACAAGGAAATCCGCCC-1          1         49   \n",
       "14           14757    0.000068  ACAAGGAAATCCGCCC-1          1         49   \n",
       "19           14757    0.000068  ACAAGGAAATCCGCCC-1          1         49   \n",
       "20           14757    0.000068  ACAAGGAAATCCGCCC-1          1         49   \n",
       "...            ...         ...                 ...        ...        ...   \n",
       "499677           3    0.333333  GACGTGTAGGGATTAT-1          1         28   \n",
       "499678           2    0.500000  CCTGTCGTGTATGAAG-1          1         70   \n",
       "499680           1    1.000000  AGAAGAGCGCCGTTCC-1          1         38   \n",
       "499681           6    0.166667  TCGCGTAGCAGTGTCC-1          1         57   \n",
       "499685           6    0.166667  TCGCGTAGCAGTGTCC-1          1         57   \n",
       "\n",
       "        array_col  xcoord  ycoord  plot_xcoord  plot_ycoord  pixval  pixquant  \\\n",
       "0              75    8131    8116        -8131         8116      88         8   \n",
       "10             75    8131    8116        -8131         8116      88         8   \n",
       "14             75    8131    8116        -8131         8116      88         8   \n",
       "19             75    8131    8116        -8131         8116      88         8   \n",
       "20             75    8131    8116        -8131         8116      88         8   \n",
       "...           ...     ...     ...          ...          ...     ...       ...   \n",
       "499677         32    5261    4744        -5261         4744      64         5   \n",
       "499678          8   10995    2856       -10995         2856      79         7   \n",
       "499680         88    6630    9137        -6630         9137      38         1   \n",
       "499681         99    9225    9999        -9225         9999      45         2   \n",
       "499685         99    9225    9999        -9225         9999      45         2   \n",
       "\n",
       "                                              cell_window  \n",
       "0       p20190_s003_3_BrainMetastasis_ACAAGGAAATCCGCCC...  \n",
       "10      p20190_s003_3_BrainMetastasis_ACAAGGAAATCCGCCC...  \n",
       "14      p20190_s003_3_BrainMetastasis_ACAAGGAAATCCGCCC...  \n",
       "19      p20190_s003_3_BrainMetastasis_ACAAGGAAATCCGCCC...  \n",
       "20      p20190_s003_3_BrainMetastasis_ACAAGGAAATCCGCCC...  \n",
       "...                                                   ...  \n",
       "499677  p20190_s003_3_BrainMetastasis_GACGTGTAGGGATTAT...  \n",
       "499678  p20190_s003_3_BrainMetastasis_CCTGTCGTGTATGAAG...  \n",
       "499680  p20190_s003_3_BrainMetastasis_AGAAGAGCGCCGTTCC...  \n",
       "499681  p20190_s003_3_BrainMetastasis_TCGCGTAGCAGTGTCC...  \n",
       "499685  p20190_s003_3_BrainMetastasis_TCGCGTAGCAGTGTCC...  \n",
       "\n",
       "[131163 rows x 20 columns]"
      ]
     },
     "execution_count": 21,
     "metadata": {},
     "output_type": "execute_result"
    }
   ],
   "source": [
    "temp.drop(\"count\",axis=1)"
   ]
  },
  {
   "cell_type": "code",
   "execution_count": 15,
   "id": "5a59fc3e",
   "metadata": {
    "ExecuteTime": {
     "end_time": "2022-06-06T23:10:47.211391Z",
     "start_time": "2022-06-06T23:10:46.533873Z"
    }
   },
   "outputs": [
    {
     "data": {
      "text/plain": [
       "(array([1.285e+03, 7.800e+01, 1.700e+01, 6.000e+00, 5.000e+00, 5.000e+00,\n",
       "        1.000e+00, 1.000e+00, 1.000e+00, 5.000e+00]),\n",
       " array([   7. ,  211.5,  416. ,  620.5,  825. , 1029.5, 1234. , 1438.5,\n",
       "        1643. , 1847.5, 2052. ]),\n",
       " <BarContainer object of 10 artists>)"
      ]
     },
     "execution_count": 15,
     "metadata": {},
     "output_type": "execute_result"
    },
    {
     "data": {
      "image/png": "[encoded data removed]",
      "text/plain": [
       "<Figure size 432x288 with 1 Axes>"
      ]
     },
     "metadata": {
      "needs_background": "light"
     },
     "output_type": "display_data"
    }
   ],
   "source": [
    "plt.hist(vc)"
   ]
  },
  {
   "cell_type": "code",
   "execution_count": 18,
   "id": "b980b92c",
   "metadata": {
    "ExecuteTime": {
     "end_time": "2022-06-06T23:11:19.866272Z",
     "start_time": "2022-06-06T23:11:19.757742Z"
    }
   },
   "outputs": [
    {
     "data": {
      "text/html": [
       "<div>\n",
       "<style scoped>\n",
       "    .dataframe tbody tr th:only-of-type {\n",
       "        vertical-align: middle;\n",
       "    }\n",
       "\n",
       "    .dataframe tbody tr th {\n",
       "        vertical-align: top;\n",
       "    }\n",
       "\n",
       "    .dataframe thead th {\n",
       "        text-align: right;\n",
       "    }\n",
       "</style>\n",
       "<table border=\"1\" class=\"dataframe\">\n",
       "  <thead>\n",
       "    <tr style=\"text-align: right;\">\n",
       "      <th></th>\n",
       "      <th>cell_id</th>\n",
       "      <th>chr</th>\n",
       "      <th>pos</th>\n",
       "      <th>strand</th>\n",
       "      <th>count</th>\n",
       "      <th>sample</th>\n",
       "      <th>window</th>\n",
       "      <th>window_count</th>\n",
       "      <th>cell_count</th>\n",
       "      <th>frac_count</th>\n",
       "      <th>...</th>\n",
       "      <th>in_tissue</th>\n",
       "      <th>array_row</th>\n",
       "      <th>array_col</th>\n",
       "      <th>xcoord</th>\n",
       "      <th>ycoord</th>\n",
       "      <th>plot_xcoord</th>\n",
       "      <th>plot_ycoord</th>\n",
       "      <th>pixval</th>\n",
       "      <th>pixquant</th>\n",
       "      <th>cell_window</th>\n",
       "    </tr>\n",
       "  </thead>\n",
       "  <tbody>\n",
       "    <tr>\n",
       "      <th>0</th>\n",
       "      <td>p20190_s003_3_BrainMetastasis_ACAAGGAAATCCGCCC</td>\n",
       "      <td>chr2</td>\n",
       "      <td>3580026</td>\n",
       "      <td>+</td>\n",
       "      <td>1</td>\n",
       "      <td>p20190_s003_3_BrainMetastasis</td>\n",
       "      <td>chr2_717_plus</td>\n",
       "      <td>629</td>\n",
       "      <td>14757</td>\n",
       "      <td>0.000068</td>\n",
       "      <td>...</td>\n",
       "      <td>1</td>\n",
       "      <td>49</td>\n",
       "      <td>75</td>\n",
       "      <td>8131</td>\n",
       "      <td>8116</td>\n",
       "      <td>-8131</td>\n",
       "      <td>8116</td>\n",
       "      <td>88</td>\n",
       "      <td>8</td>\n",
       "      <td>p20190_s003_3_BrainMetastasis_ACAAGGAAATCCGCCC...</td>\n",
       "    </tr>\n",
       "    <tr>\n",
       "      <th>14</th>\n",
       "      <td>p20190_s003_3_BrainMetastasis_ACAAGGAAATCCGCCC</td>\n",
       "      <td>chr2</td>\n",
       "      <td>32916235</td>\n",
       "      <td>+</td>\n",
       "      <td>1</td>\n",
       "      <td>p20190_s003_3_BrainMetastasis</td>\n",
       "      <td>chr2_6584_plus</td>\n",
       "      <td>706</td>\n",
       "      <td>14757</td>\n",
       "      <td>0.000068</td>\n",
       "      <td>...</td>\n",
       "      <td>1</td>\n",
       "      <td>49</td>\n",
       "      <td>75</td>\n",
       "      <td>8131</td>\n",
       "      <td>8116</td>\n",
       "      <td>-8131</td>\n",
       "      <td>8116</td>\n",
       "      <td>88</td>\n",
       "      <td>8</td>\n",
       "      <td>p20190_s003_3_BrainMetastasis_ACAAGGAAATCCGCCC...</td>\n",
       "    </tr>\n",
       "    <tr>\n",
       "      <th>22</th>\n",
       "      <td>p20190_s003_3_BrainMetastasis_ACAAGGAAATCCGCCC</td>\n",
       "      <td>chr2</td>\n",
       "      <td>55235022</td>\n",
       "      <td>+</td>\n",
       "      <td>1</td>\n",
       "      <td>p20190_s003_3_BrainMetastasis</td>\n",
       "      <td>chr2_11048_plus</td>\n",
       "      <td>1571</td>\n",
       "      <td>14757</td>\n",
       "      <td>0.000068</td>\n",
       "      <td>...</td>\n",
       "      <td>1</td>\n",
       "      <td>49</td>\n",
       "      <td>75</td>\n",
       "      <td>8131</td>\n",
       "      <td>8116</td>\n",
       "      <td>-8131</td>\n",
       "      <td>8116</td>\n",
       "      <td>88</td>\n",
       "      <td>8</td>\n",
       "      <td>p20190_s003_3_BrainMetastasis_ACAAGGAAATCCGCCC...</td>\n",
       "    </tr>\n",
       "    <tr>\n",
       "      <th>41</th>\n",
       "      <td>p20190_s003_3_BrainMetastasis_ACAAGGAAATCCGCCC</td>\n",
       "      <td>chr2</td>\n",
       "      <td>84906413</td>\n",
       "      <td>+</td>\n",
       "      <td>1</td>\n",
       "      <td>p20190_s003_3_BrainMetastasis</td>\n",
       "      <td>chr2_16982_plus</td>\n",
       "      <td>5135</td>\n",
       "      <td>14757</td>\n",
       "      <td>0.000068</td>\n",
       "      <td>...</td>\n",
       "      <td>1</td>\n",
       "      <td>49</td>\n",
       "      <td>75</td>\n",
       "      <td>8131</td>\n",
       "      <td>8116</td>\n",
       "      <td>-8131</td>\n",
       "      <td>8116</td>\n",
       "      <td>88</td>\n",
       "      <td>8</td>\n",
       "      <td>p20190_s003_3_BrainMetastasis_ACAAGGAAATCCGCCC...</td>\n",
       "    </tr>\n",
       "    <tr>\n",
       "      <th>73</th>\n",
       "      <td>p20190_s003_3_BrainMetastasis_ACAAGGAAATCCGCCC</td>\n",
       "      <td>chr2</td>\n",
       "      <td>97647869</td>\n",
       "      <td>+</td>\n",
       "      <td>1</td>\n",
       "      <td>p20190_s003_3_BrainMetastasis</td>\n",
       "      <td>chr2_19530_plus</td>\n",
       "      <td>504</td>\n",
       "      <td>14757</td>\n",
       "      <td>0.000068</td>\n",
       "      <td>...</td>\n",
       "      <td>1</td>\n",
       "      <td>49</td>\n",
       "      <td>75</td>\n",
       "      <td>8131</td>\n",
       "      <td>8116</td>\n",
       "      <td>-8131</td>\n",
       "      <td>8116</td>\n",
       "      <td>88</td>\n",
       "      <td>8</td>\n",
       "      <td>p20190_s003_3_BrainMetastasis_ACAAGGAAATCCGCCC...</td>\n",
       "    </tr>\n",
       "    <tr>\n",
       "      <th>...</th>\n",
       "      <td>...</td>\n",
       "      <td>...</td>\n",
       "      <td>...</td>\n",
       "      <td>...</td>\n",
       "      <td>...</td>\n",
       "      <td>...</td>\n",
       "      <td>...</td>\n",
       "      <td>...</td>\n",
       "      <td>...</td>\n",
       "      <td>...</td>\n",
       "      <td>...</td>\n",
       "      <td>...</td>\n",
       "      <td>...</td>\n",
       "      <td>...</td>\n",
       "      <td>...</td>\n",
       "      <td>...</td>\n",
       "      <td>...</td>\n",
       "      <td>...</td>\n",
       "      <td>...</td>\n",
       "      <td>...</td>\n",
       "      <td>...</td>\n",
       "    </tr>\n",
       "    <tr>\n",
       "      <th>499677</th>\n",
       "      <td>p20190_s003_3_BrainMetastasis_GACGTGTAGGGATTAT</td>\n",
       "      <td>chrM</td>\n",
       "      <td>9743</td>\n",
       "      <td>+</td>\n",
       "      <td>1</td>\n",
       "      <td>p20190_s003_3_BrainMetastasis</td>\n",
       "      <td>chrM_2_plus</td>\n",
       "      <td>351203</td>\n",
       "      <td>3</td>\n",
       "      <td>0.333333</td>\n",
       "      <td>...</td>\n",
       "      <td>1</td>\n",
       "      <td>28</td>\n",
       "      <td>32</td>\n",
       "      <td>5261</td>\n",
       "      <td>4744</td>\n",
       "      <td>-5261</td>\n",
       "      <td>4744</td>\n",
       "      <td>64</td>\n",
       "      <td>5</td>\n",
       "      <td>p20190_s003_3_BrainMetastasis_GACGTGTAGGGATTAT...</td>\n",
       "    </tr>\n",
       "    <tr>\n",
       "      <th>499678</th>\n",
       "      <td>p20190_s003_3_BrainMetastasis_CCTGTCGTGTATGAAG</td>\n",
       "      <td>chrM</td>\n",
       "      <td>7249</td>\n",
       "      <td>+</td>\n",
       "      <td>1</td>\n",
       "      <td>p20190_s003_3_BrainMetastasis</td>\n",
       "      <td>chrM_2_plus</td>\n",
       "      <td>351203</td>\n",
       "      <td>2</td>\n",
       "      <td>0.500000</td>\n",
       "      <td>...</td>\n",
       "      <td>1</td>\n",
       "      <td>70</td>\n",
       "      <td>8</td>\n",
       "      <td>10995</td>\n",
       "      <td>2856</td>\n",
       "      <td>-10995</td>\n",
       "      <td>2856</td>\n",
       "      <td>79</td>\n",
       "      <td>7</td>\n",
       "      <td>p20190_s003_3_BrainMetastasis_CCTGTCGTGTATGAAG...</td>\n",
       "    </tr>\n",
       "    <tr>\n",
       "      <th>499680</th>\n",
       "      <td>p20190_s003_3_BrainMetastasis_AGAAGAGCGCCGTTCC</td>\n",
       "      <td>chrM</td>\n",
       "      <td>9005</td>\n",
       "      <td>+</td>\n",
       "      <td>1</td>\n",
       "      <td>p20190_s003_3_BrainMetastasis</td>\n",
       "      <td>chrM_2_plus</td>\n",
       "      <td>351203</td>\n",
       "      <td>1</td>\n",
       "      <td>1.000000</td>\n",
       "      <td>...</td>\n",
       "      <td>1</td>\n",
       "      <td>38</td>\n",
       "      <td>88</td>\n",
       "      <td>6630</td>\n",
       "      <td>9137</td>\n",
       "      <td>-6630</td>\n",
       "      <td>9137</td>\n",
       "      <td>38</td>\n",
       "      <td>1</td>\n",
       "      <td>p20190_s003_3_BrainMetastasis_AGAAGAGCGCCGTTCC...</td>\n",
       "    </tr>\n",
       "    <tr>\n",
       "      <th>499681</th>\n",
       "      <td>p20190_s003_3_BrainMetastasis_TCGCGTAGCAGTGTCC</td>\n",
       "      <td>chrM</td>\n",
       "      <td>9752</td>\n",
       "      <td>+</td>\n",
       "      <td>1</td>\n",
       "      <td>p20190_s003_3_BrainMetastasis</td>\n",
       "      <td>chrM_2_plus</td>\n",
       "      <td>351203</td>\n",
       "      <td>6</td>\n",
       "      <td>0.166667</td>\n",
       "      <td>...</td>\n",
       "      <td>1</td>\n",
       "      <td>57</td>\n",
       "      <td>99</td>\n",
       "      <td>9225</td>\n",
       "      <td>9999</td>\n",
       "      <td>-9225</td>\n",
       "      <td>9999</td>\n",
       "      <td>45</td>\n",
       "      <td>2</td>\n",
       "      <td>p20190_s003_3_BrainMetastasis_TCGCGTAGCAGTGTCC...</td>\n",
       "    </tr>\n",
       "    <tr>\n",
       "      <th>499685</th>\n",
       "      <td>p20190_s003_3_BrainMetastasis_TCGCGTAGCAGTGTCC</td>\n",
       "      <td>chrM</td>\n",
       "      <td>10219</td>\n",
       "      <td>+</td>\n",
       "      <td>1</td>\n",
       "      <td>p20190_s003_3_BrainMetastasis</td>\n",
       "      <td>chrM_3_plus</td>\n",
       "      <td>97159</td>\n",
       "      <td>6</td>\n",
       "      <td>0.166667</td>\n",
       "      <td>...</td>\n",
       "      <td>1</td>\n",
       "      <td>57</td>\n",
       "      <td>99</td>\n",
       "      <td>9225</td>\n",
       "      <td>9999</td>\n",
       "      <td>-9225</td>\n",
       "      <td>9999</td>\n",
       "      <td>45</td>\n",
       "      <td>2</td>\n",
       "      <td>p20190_s003_3_BrainMetastasis_TCGCGTAGCAGTGTCC...</td>\n",
       "    </tr>\n",
       "  </tbody>\n",
       "</table>\n",
       "<p>83516 rows × 21 columns</p>\n",
       "</div>"
      ],
      "text/plain": [
       "                                               cell_id   chr       pos strand  \\\n",
       "0       p20190_s003_3_BrainMetastasis_ACAAGGAAATCCGCCC  chr2   3580026      +   \n",
       "14      p20190_s003_3_BrainMetastasis_ACAAGGAAATCCGCCC  chr2  32916235      +   \n",
       "22      p20190_s003_3_BrainMetastasis_ACAAGGAAATCCGCCC  chr2  55235022      +   \n",
       "41      p20190_s003_3_BrainMetastasis_ACAAGGAAATCCGCCC  chr2  84906413      +   \n",
       "73      p20190_s003_3_BrainMetastasis_ACAAGGAAATCCGCCC  chr2  97647869      +   \n",
       "...                                                ...   ...       ...    ...   \n",
       "499677  p20190_s003_3_BrainMetastasis_GACGTGTAGGGATTAT  chrM      9743      +   \n",
       "499678  p20190_s003_3_BrainMetastasis_CCTGTCGTGTATGAAG  chrM      7249      +   \n",
       "499680  p20190_s003_3_BrainMetastasis_AGAAGAGCGCCGTTCC  chrM      9005      +   \n",
       "499681  p20190_s003_3_BrainMetastasis_TCGCGTAGCAGTGTCC  chrM      9752      +   \n",
       "499685  p20190_s003_3_BrainMetastasis_TCGCGTAGCAGTGTCC  chrM     10219      +   \n",
       "\n",
       "        count                         sample           window  window_count  \\\n",
       "0           1  p20190_s003_3_BrainMetastasis    chr2_717_plus           629   \n",
       "14          1  p20190_s003_3_BrainMetastasis   chr2_6584_plus           706   \n",
       "22          1  p20190_s003_3_BrainMetastasis  chr2_11048_plus          1571   \n",
       "41          1  p20190_s003_3_BrainMetastasis  chr2_16982_plus          5135   \n",
       "73          1  p20190_s003_3_BrainMetastasis  chr2_19530_plus           504   \n",
       "...       ...                            ...              ...           ...   \n",
       "499677      1  p20190_s003_3_BrainMetastasis      chrM_2_plus        351203   \n",
       "499678      1  p20190_s003_3_BrainMetastasis      chrM_2_plus        351203   \n",
       "499680      1  p20190_s003_3_BrainMetastasis      chrM_2_plus        351203   \n",
       "499681      1  p20190_s003_3_BrainMetastasis      chrM_2_plus        351203   \n",
       "499685      1  p20190_s003_3_BrainMetastasis      chrM_3_plus         97159   \n",
       "\n",
       "        cell_count  frac_count  ... in_tissue  array_row  array_col  xcoord  \\\n",
       "0            14757    0.000068  ...         1         49         75    8131   \n",
       "14           14757    0.000068  ...         1         49         75    8131   \n",
       "22           14757    0.000068  ...         1         49         75    8131   \n",
       "41           14757    0.000068  ...         1         49         75    8131   \n",
       "73           14757    0.000068  ...         1         49         75    8131   \n",
       "...            ...         ...  ...       ...        ...        ...     ...   \n",
       "499677           3    0.333333  ...         1         28         32    5261   \n",
       "499678           2    0.500000  ...         1         70          8   10995   \n",
       "499680           1    1.000000  ...         1         38         88    6630   \n",
       "499681           6    0.166667  ...         1         57         99    9225   \n",
       "499685           6    0.166667  ...         1         57         99    9225   \n",
       "\n",
       "        ycoord  plot_xcoord  plot_ycoord  pixval  pixquant  \\\n",
       "0         8116        -8131         8116      88         8   \n",
       "14        8116        -8131         8116      88         8   \n",
       "22        8116        -8131         8116      88         8   \n",
       "41        8116        -8131         8116      88         8   \n",
       "73        8116        -8131         8116      88         8   \n",
       "...        ...          ...          ...     ...       ...   \n",
       "499677    4744        -5261         4744      64         5   \n",
       "499678    2856       -10995         2856      79         7   \n",
       "499680    9137        -6630         9137      38         1   \n",
       "499681    9999        -9225         9999      45         2   \n",
       "499685    9999        -9225         9999      45         2   \n",
       "\n",
       "                                              cell_window  \n",
       "0       p20190_s003_3_BrainMetastasis_ACAAGGAAATCCGCCC...  \n",
       "14      p20190_s003_3_BrainMetastasis_ACAAGGAAATCCGCCC...  \n",
       "22      p20190_s003_3_BrainMetastasis_ACAAGGAAATCCGCCC...  \n",
       "41      p20190_s003_3_BrainMetastasis_ACAAGGAAATCCGCCC...  \n",
       "73      p20190_s003_3_BrainMetastasis_ACAAGGAAATCCGCCC...  \n",
       "...                                                   ...  \n",
       "499677  p20190_s003_3_BrainMetastasis_GACGTGTAGGGATTAT...  \n",
       "499678  p20190_s003_3_BrainMetastasis_CCTGTCGTGTATGAAG...  \n",
       "499680  p20190_s003_3_BrainMetastasis_AGAAGAGCGCCGTTCC...  \n",
       "499681  p20190_s003_3_BrainMetastasis_TCGCGTAGCAGTGTCC...  \n",
       "499685  p20190_s003_3_BrainMetastasis_TCGCGTAGCAGTGTCC...  \n",
       "\n",
       "[83516 rows x 21 columns]"
      ]
     },
     "execution_count": 18,
     "metadata": {},
     "output_type": "execute_result"
    }
   ],
   "source": [
    "temp[temp[\"window\"].isin(vc[vc > 100].index)]"
   ]
  },
  {
   "cell_type": "code",
   "execution_count": 8,
   "id": "c76add14",
   "metadata": {
    "ExecuteTime": {
     "end_time": "2022-06-06T23:08:33.213663Z",
     "start_time": "2022-06-06T23:08:33.005357Z"
    }
   },
   "outputs": [],
   "source": [
    "temp = df.drop_duplicates([\"cell_id\",\"window\"])"
   ]
  },
  {
   "cell_type": "code",
   "execution_count": 10,
   "id": "56a43ede",
   "metadata": {
    "ExecuteTime": {
     "end_time": "2022-06-06T23:08:43.002629Z",
     "start_time": "2022-06-06T23:08:42.871948Z"
    }
   },
   "outputs": [
    {
     "data": {
      "text/plain": [
       "p20190_s003_3_BrainMetastasis_ACAAGGAAATCCGCCC_chr2_717_plus        1\n",
       "p20190_s003_3_BrainMetastasis_CGCGACCGCGACAGAT_chr3_19324_minus     1\n",
       "p20190_s003_3_BrainMetastasis_GCTAGTAGAGCTTGTA_chr17_16374_minus    1\n",
       "p20190_s003_3_BrainMetastasis_GCTAGTAGAGCTTGTA_chr17_15156_minus    1\n",
       "p20190_s003_3_BrainMetastasis_GCTAGTAGAGCTTGTA_chr17_15034_minus    1\n",
       "                                                                   ..\n",
       "p20190_s003_3_BrainMetastasis_GGTGGGATTAGGTCCC_chr19_2914_minus     1\n",
       "p20190_s003_3_BrainMetastasis_GGTGGGATTAGGTCCC_chr19_1705_minus     1\n",
       "p20190_s003_3_BrainMetastasis_GGTGGGATTAGGTCCC_chr19_1139_minus     1\n",
       "p20190_s003_3_BrainMetastasis_GGTGGGATTAGGTCCC_chr19_890_minus      1\n",
       "p20190_s003_3_BrainMetastasis_TCGCGTAGCAGTGTCC_chrM_3_plus          1\n",
       "Name: cell_window, Length: 131163, dtype: int64"
      ]
     },
     "execution_count": 10,
     "metadata": {},
     "output_type": "execute_result"
    }
   ],
   "source": [
    "temp[\"cell_window\"].value_counts()"
   ]
  },
  {
   "cell_type": "code",
   "execution_count": 18,
   "id": "cfec9745",
   "metadata": {
    "ExecuteTime": {
     "end_time": "2022-06-03T06:36:13.006674Z",
     "start_time": "2022-06-03T06:36:09.634220Z"
    }
   },
   "outputs": [
    {
     "name": "stdout",
     "output_type": "stream",
     "text": [
      "1 df (2054192, 7)\n",
      "readzs (763714, 17)\n",
      "2 df (1973456, 7)\n",
      "3 df (1570240, 8)\n"
     ]
    }
   ],
   "source": [
    "dataname = \"p20190_s003_3_BrainMetastasis\" \n",
    "thresh = 100\n",
    "samples = pd.read_csv(\"output/make_samplesheet/spatial.csv\",index_col = 0)\n",
    "row = samples.loc[dataname]\n",
    "\n",
    "# load counts file\n",
    "df = pd.read_csv(row[\"readzs_counts\"],sep=\"\\t\",header=None)\n",
    "df.rename(columns={0 : \"cell_id\",1  : \"chr\", 2 : \"pos\", 3 : \"strand\", 4 : \"count\", 5 : \"sample\", 6 : \"window\"},inplace=True)\n",
    "print(\"1 df\",df.shape)\n",
    "\n",
    "# read in ReadZS zscore file\n",
    "readzs = pd.read_csv(row[\"readzs_vals\"],sep=\"\\t\")\n",
    "print(\"readzs\",readzs.shape)\n",
    "\n",
    "# only include counts that a z score was calculated for\n",
    "df = df[df[\"window\"].isin(set(readzs[\"window\"].unique()))]\n",
    "print(\"2 df\",df.shape)\n",
    "\n",
    "# get the number of counts of each window\n",
    "df[\"window_count\"] = df[\"window\"].map(df.groupby(\"window\")[\"count\"].sum())\n",
    "\n",
    "# subset to windows with counts > thresh\n",
    "df = df[df[\"window_count\"] > thresh]\n",
    "print(\"3 df\",df.shape)\n",
    "\n",
    "# find the count across all windows for each cell\n",
    "df[\"cell_count\"] = df[\"cell_id\"].map(df.groupby(\"cell_id\")[\"count\"].sum())\n",
    "\n",
    "# find the fraction of each window in each cell\n",
    "df[\"frac_count\"] = df[\"count\"]/df[\"cell_count\"]\n",
    "\n",
    "# merge with metadata\n",
    "meta = pd.read_csv(row[\"metadata\"],sep=\"\\t\")"
   ]
  },
  {
   "cell_type": "code",
   "execution_count": 19,
   "id": "87682981",
   "metadata": {
    "ExecuteTime": {
     "end_time": "2022-06-03T06:36:13.055245Z",
     "start_time": "2022-06-03T06:36:13.052928Z"
    }
   },
   "outputs": [
    {
     "data": {
      "text/plain": [
       "'/oak/stanford/groups/horence/JuliaO/visium_analysis/notebooks/output/visium_meta/meta_p20190_s003_3_BrainMetastasis.tsv'"
      ]
     },
     "execution_count": 19,
     "metadata": {},
     "output_type": "execute_result"
    }
   ],
   "source": [
    "row[\"metadata\"]"
   ]
  },
  {
   "cell_type": "code",
   "execution_count": 20,
   "id": "58eaff86",
   "metadata": {
    "ExecuteTime": {
     "end_time": "2022-06-03T06:36:13.221037Z",
     "start_time": "2022-06-03T06:36:13.101075Z"
    }
   },
   "outputs": [
    {
     "data": {
      "text/plain": [
       "2059"
      ]
     },
     "execution_count": 20,
     "metadata": {},
     "output_type": "execute_result"
    }
   ],
   "source": [
    "len(set(meta[\"cell_id\"]).intersection(set(df[\"cell_id\"])))"
   ]
  },
  {
   "cell_type": "code",
   "execution_count": null,
   "id": "259667de",
   "metadata": {},
   "outputs": [],
   "source": []
  }
 ],
 "metadata": {
  "kernelspec": {
   "display_name": "jup_env",
   "language": "python",
   "name": "jup_env"
  },
  "language_info": {
   "codemirror_mode": {
    "name": "ipython",
    "version": 3
   },
   "file_extension": ".py",
   "mimetype": "text/x-python",
   "name": "python",
   "nbconvert_exporter": "python",
   "pygments_lexer": "ipython3",
   "version": "3.9.6"
  },
  "varInspector": {
   "cols": {
    "lenName": 16,
    "lenType": 16,
    "lenVar": 40
   },
   "kernels_config": {
    "python": {
     "delete_cmd_postfix": "",
     "delete_cmd_prefix": "del ",
     "library": "var_list.py",
     "varRefreshCmd": "print(var_dic_list())"
    },
    "r": {
     "delete_cmd_postfix": ") ",
     "delete_cmd_prefix": "rm(",
     "library": "var_list.r",
     "varRefreshCmd": "cat(var_dic_list()) "
    }
   },
   "types_to_exclude": [
    "module",
    "function",
    "builtin_function_or_method",
    "instance",
    "_Feature"
   ],
   "window_display": false
  }
 },
 "nbformat": 4,
 "nbformat_minor": 5
}
