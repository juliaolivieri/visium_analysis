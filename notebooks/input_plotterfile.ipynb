{
 "cells": [
  {
   "cell_type": "code",
   "execution_count": 1,
   "id": "12e06414",
   "metadata": {
    "ExecuteTime": {
     "end_time": "2022-06-21T17:52:01.022452Z",
     "start_time": "2022-06-21T17:51:33.985420Z"
    }
   },
   "outputs": [],
   "source": [
    "import pandas as pd\n",
    "import matplotlib.pyplot as plt"
   ]
  },
  {
   "cell_type": "code",
   "execution_count": 2,
   "id": "604a1ab8",
   "metadata": {
    "ExecuteTime": {
     "end_time": "2022-06-21T17:52:01.030976Z",
     "start_time": "2022-06-21T17:52:01.026220Z"
    }
   },
   "outputs": [],
   "source": [
    "outpath = \"output/input_plotterfile/\""
   ]
  },
  {
   "cell_type": "code",
   "execution_count": 2,
   "id": "cb893385",
   "metadata": {
    "ExecuteTime": {
     "end_time": "2022-06-20T22:46:15.534886Z",
     "start_time": "2022-06-20T22:46:15.479782Z"
    }
   },
   "outputs": [],
   "source": [
    "df = pd.read_csv(\"/scratch/groups/horence/JuliaO/nf-readzs/work/ee/e7f4deecb571ad6a6fc3766186f177/V1_Mouse_Brain_Sagittal_Posterior_all_pvals.txt\",sep=\"\\t\")"
   ]
  },
  {
   "cell_type": "code",
   "execution_count": 3,
   "id": "1de753f9",
   "metadata": {
    "ExecuteTime": {
     "end_time": "2022-06-20T22:46:15.547149Z",
     "start_time": "2022-06-20T22:46:15.537441Z"
    }
   },
   "outputs": [
    {
     "data": {
      "text/plain": [
       "Index(['window', 'ontology', 'sum_counts_per_window_per_ont',\n",
       "       'med_counts_per_window_per_ont', 'median_z_scaled', 'pval',\n",
       "       'significant', 'medians_range', 'max_med', 'min_med', 'gene'],\n",
       "      dtype='object')"
      ]
     },
     "execution_count": 3,
     "metadata": {},
     "output_type": "execute_result"
    }
   ],
   "source": [
    "df.columns"
   ]
  },
  {
   "cell_type": "code",
   "execution_count": 39,
   "id": "3bcceca0",
   "metadata": {
    "ExecuteTime": {
     "end_time": "2022-06-21T18:21:19.865307Z",
     "start_time": "2022-06-21T18:21:19.845033Z"
    }
   },
   "outputs": [],
   "source": [
    "dataname = \"me\"\n",
    "score = \"ReadZS\"\n",
    "samples = pd.read_csv(\"/oak/stanford/groups/horence/JuliaO/visium_analysis/notebooks/output/make_samplesheet/spatial.csv\",index_col = 0)\n",
    "row = samples.loc[dataname]\n",
    "\n",
    "scores = pd.read_csv(\"/oak/stanford/groups/horence/JuliaO/visium_analysis/notebooks/output/make_samplesheet/scores.csv\",index_col=0)\n",
    "srow = scores.loc[score]"
   ]
  },
  {
   "cell_type": "code",
   "execution_count": 40,
   "id": "8eeb0feb",
   "metadata": {
    "ExecuteTime": {
     "end_time": "2022-06-21T18:21:20.273924Z",
     "start_time": "2022-06-21T18:21:20.269440Z"
    }
   },
   "outputs": [
    {
     "data": {
      "text/plain": [
       "'/oak/stanford/groups/horence/JuliaO/nf-readzs/visium/V1_Mouse_Brain_Sagittal_Anterior/zscore/V1_Mouse_Brain_Sagittal_Anterior.zscore'"
      ]
     },
     "execution_count": 40,
     "metadata": {},
     "output_type": "execute_result"
    }
   ],
   "source": [
    "row[srow[\"valname\"]]"
   ]
  },
  {
   "cell_type": "code",
   "execution_count": 41,
   "id": "2610ffb0",
   "metadata": {
    "ExecuteTime": {
     "end_time": "2022-06-21T18:21:56.176515Z",
     "start_time": "2022-06-21T18:21:20.585192Z"
    }
   },
   "outputs": [],
   "source": [
    "zdf = pd.read_csv(row[srow[\"valname\"]],sep=\"\\t\")"
   ]
  },
  {
   "cell_type": "code",
   "execution_count": 42,
   "id": "529094a8",
   "metadata": {
    "ExecuteTime": {
     "end_time": "2022-06-21T18:22:21.937636Z",
     "start_time": "2022-06-21T18:21:56.230704Z"
    }
   },
   "outputs": [],
   "source": [
    "# randomize so rank ties are broken evenly\n",
    "zdf = zdf.sample(frac=1)"
   ]
  },
  {
   "cell_type": "code",
   "execution_count": 43,
   "id": "8c7804f2",
   "metadata": {
    "ExecuteTime": {
     "end_time": "2022-06-21T18:22:42.402020Z",
     "start_time": "2022-06-21T18:22:21.991004Z"
    }
   },
   "outputs": [],
   "source": [
    "zdf[\"rank\"] = zdf.groupby(\"window\")[\"z_scaled\"].rank(\"first\", ascending=False)"
   ]
  },
  {
   "cell_type": "code",
   "execution_count": 44,
   "id": "5535c2cd",
   "metadata": {
    "ExecuteTime": {
     "end_time": "2022-06-21T18:23:57.228603Z",
     "start_time": "2022-06-21T18:22:42.469254Z"
    }
   },
   "outputs": [
    {
     "name": "stdout",
     "output_type": "stream",
     "text": [
      "0.25\n",
      "0.5\n",
      "0.75\n"
     ]
    }
   ],
   "source": [
    "qs = [0.25,0.5,0.75]\n",
    "for q in qs:\n",
    "  print(q)\n",
    "  zdf[\"{}_quant\".format(q)] = zdf[\"window\"].map(zdf.groupby(\"window\")[\"rank\"].quantile(q))"
   ]
  },
  {
   "cell_type": "code",
   "execution_count": 45,
   "id": "7d2d7669",
   "metadata": {
    "ExecuteTime": {
     "end_time": "2022-06-21T18:24:07.110888Z",
     "start_time": "2022-06-21T18:24:05.810210Z"
    }
   },
   "outputs": [],
   "source": [
    "zdf[\"quant\"] = 1\n",
    "for i in range(len(qs)):\n",
    "  zdf.loc[zdf[\"rank\"] > zdf[\"{}_quant\".format(qs[i])],\"quant\"] = i + 2"
   ]
  },
  {
   "cell_type": "code",
   "execution_count": 46,
   "id": "efb8c4f1",
   "metadata": {
    "ExecuteTime": {
     "end_time": "2022-06-21T18:25:14.475948Z",
     "start_time": "2022-06-21T18:24:15.587449Z"
    }
   },
   "outputs": [
    {
     "name": "stdout",
     "output_type": "stream",
     "text": [
      "window_quant\n",
      "sum_counts_per_window_per_ont\n",
      "med_counts_per_window_per_ont\n",
      "median_z_scaled\n"
     ]
    }
   ],
   "source": [
    "zdf[\"window_quant\"] = zdf[\"window\"] + \"_\" + zdf[\"quant\"].astype(str)\n",
    "print(\"window_quant\")\n",
    "zdf[\"sum_counts_per_window_per_ont\"] = zdf[\"window_quant\"].map(zdf.groupby(\"window_quant\")[\"count\"].sum())\n",
    "print(\"sum_counts_per_window_per_ont\")\n",
    "zdf[\"med_counts_per_window_per_ont\"] = zdf[\"window_quant\"].map(zdf.groupby(\"window_quant\")[\"count\"].median())\n",
    "print(\"med_counts_per_window_per_ont\")\n",
    "zdf[\"median_z_scaled\"] = zdf[\"window_quant\"].map(zdf.groupby(\"window_quant\")[\"z_scaled\"].median())\n",
    "print(\"median_z_scaled\")\n"
   ]
  },
  {
   "cell_type": "code",
   "execution_count": 47,
   "id": "fac42835",
   "metadata": {
    "ExecuteTime": {
     "end_time": "2022-06-21T18:25:44.775983Z",
     "start_time": "2022-06-21T18:25:24.085678Z"
    }
   },
   "outputs": [
    {
     "data": {
      "text/html": [
       "<div>\n",
       "<style scoped>\n",
       "    .dataframe tbody tr th:only-of-type {\n",
       "        vertical-align: middle;\n",
       "    }\n",
       "\n",
       "    .dataframe tbody tr th {\n",
       "        vertical-align: top;\n",
       "    }\n",
       "\n",
       "    .dataframe thead th {\n",
       "        text-align: right;\n",
       "    }\n",
       "</style>\n",
       "<table border=\"1\" class=\"dataframe\">\n",
       "  <thead>\n",
       "    <tr style=\"text-align: right;\">\n",
       "      <th></th>\n",
       "      <th>window_cell_id</th>\n",
       "      <th>window</th>\n",
       "      <th>cell_id</th>\n",
       "      <th>quant</th>\n",
       "    </tr>\n",
       "  </thead>\n",
       "  <tbody>\n",
       "    <tr>\n",
       "      <th>4744059</th>\n",
       "      <td>chr15_19627_plus_V1_Mouse_Brain_Sagittal_Anter...</td>\n",
       "      <td>chr15_19627_plus</td>\n",
       "      <td>V1_Mouse_Brain_Sagittal_Anterior_CTTTACCGAATAGTAG</td>\n",
       "      <td>4</td>\n",
       "    </tr>\n",
       "    <tr>\n",
       "      <th>15450047</th>\n",
       "      <td>chr7_5507_minus_V1_Mouse_Brain_Sagittal_Anteri...</td>\n",
       "      <td>chr7_5507_minus</td>\n",
       "      <td>V1_Mouse_Brain_Sagittal_Anterior_TGCAAAGTTCGTCTGT</td>\n",
       "      <td>4</td>\n",
       "    </tr>\n",
       "    <tr>\n",
       "      <th>8115314</th>\n",
       "      <td>chr1_30273_plus_V1_Mouse_Brain_Sagittal_Anteri...</td>\n",
       "      <td>chr1_30273_plus</td>\n",
       "      <td>V1_Mouse_Brain_Sagittal_Anterior_CGTTATCATACTTCCA</td>\n",
       "      <td>3</td>\n",
       "    </tr>\n",
       "    <tr>\n",
       "      <th>8262707</th>\n",
       "      <td>chr1_4770_minus_V1_Mouse_Brain_Sagittal_Anteri...</td>\n",
       "      <td>chr1_4770_minus</td>\n",
       "      <td>V1_Mouse_Brain_Sagittal_Anterior_GCAGTGTGGCTATAGG</td>\n",
       "      <td>2</td>\n",
       "    </tr>\n",
       "    <tr>\n",
       "      <th>8038623</th>\n",
       "      <td>chr1_36219_minus_V1_Mouse_Brain_Sagittal_Anter...</td>\n",
       "      <td>chr1_36219_minus</td>\n",
       "      <td>V1_Mouse_Brain_Sagittal_Anterior_CCGTAGGGTTGTTTAC</td>\n",
       "      <td>1</td>\n",
       "    </tr>\n",
       "    <tr>\n",
       "      <th>...</th>\n",
       "      <td>...</td>\n",
       "      <td>...</td>\n",
       "      <td>...</td>\n",
       "      <td>...</td>\n",
       "    </tr>\n",
       "    <tr>\n",
       "      <th>13096307</th>\n",
       "      <td>chr5_20365_plus_V1_Mouse_Brain_Sagittal_Anteri...</td>\n",
       "      <td>chr5_20365_plus</td>\n",
       "      <td>V1_Mouse_Brain_Sagittal_Anterior_TAGGCTAAAGTGGCAC</td>\n",
       "      <td>2</td>\n",
       "    </tr>\n",
       "    <tr>\n",
       "      <th>12826294</th>\n",
       "      <td>chr5_19215_minus_V1_Mouse_Brain_Sagittal_Anter...</td>\n",
       "      <td>chr5_19215_minus</td>\n",
       "      <td>V1_Mouse_Brain_Sagittal_Anterior_GATTAACCGAAAGCCC</td>\n",
       "      <td>1</td>\n",
       "    </tr>\n",
       "    <tr>\n",
       "      <th>18091996</th>\n",
       "      <td>chrX_31874_plus_V1_Mouse_Brain_Sagittal_Anteri...</td>\n",
       "      <td>chrX_31874_plus</td>\n",
       "      <td>V1_Mouse_Brain_Sagittal_Anterior_TCCCAAACAGACAACG</td>\n",
       "      <td>1</td>\n",
       "    </tr>\n",
       "    <tr>\n",
       "      <th>15592855</th>\n",
       "      <td>chr7_23944_minus_V1_Mouse_Brain_Sagittal_Anter...</td>\n",
       "      <td>chr7_23944_minus</td>\n",
       "      <td>V1_Mouse_Brain_Sagittal_Anterior_TTGTTTCCATACAACT</td>\n",
       "      <td>4</td>\n",
       "    </tr>\n",
       "    <tr>\n",
       "      <th>17951560</th>\n",
       "      <td>chrX_27169_plus_V1_Mouse_Brain_Sagittal_Anteri...</td>\n",
       "      <td>chrX_27169_plus</td>\n",
       "      <td>V1_Mouse_Brain_Sagittal_Anterior_GCGCTGATCCAGACTC</td>\n",
       "      <td>3</td>\n",
       "    </tr>\n",
       "  </tbody>\n",
       "</table>\n",
       "<p>18201834 rows × 4 columns</p>\n",
       "</div>"
      ],
      "text/plain": [
       "                                             window_cell_id            window  \\\n",
       "4744059   chr15_19627_plus_V1_Mouse_Brain_Sagittal_Anter...  chr15_19627_plus   \n",
       "15450047  chr7_5507_minus_V1_Mouse_Brain_Sagittal_Anteri...   chr7_5507_minus   \n",
       "8115314   chr1_30273_plus_V1_Mouse_Brain_Sagittal_Anteri...   chr1_30273_plus   \n",
       "8262707   chr1_4770_minus_V1_Mouse_Brain_Sagittal_Anteri...   chr1_4770_minus   \n",
       "8038623   chr1_36219_minus_V1_Mouse_Brain_Sagittal_Anter...  chr1_36219_minus   \n",
       "...                                                     ...               ...   \n",
       "13096307  chr5_20365_plus_V1_Mouse_Brain_Sagittal_Anteri...   chr5_20365_plus   \n",
       "12826294  chr5_19215_minus_V1_Mouse_Brain_Sagittal_Anter...  chr5_19215_minus   \n",
       "18091996  chrX_31874_plus_V1_Mouse_Brain_Sagittal_Anteri...   chrX_31874_plus   \n",
       "15592855  chr7_23944_minus_V1_Mouse_Brain_Sagittal_Anter...  chr7_23944_minus   \n",
       "17951560  chrX_27169_plus_V1_Mouse_Brain_Sagittal_Anteri...   chrX_27169_plus   \n",
       "\n",
       "                                                    cell_id  quant  \n",
       "4744059   V1_Mouse_Brain_Sagittal_Anterior_CTTTACCGAATAGTAG      4  \n",
       "15450047  V1_Mouse_Brain_Sagittal_Anterior_TGCAAAGTTCGTCTGT      4  \n",
       "8115314   V1_Mouse_Brain_Sagittal_Anterior_CGTTATCATACTTCCA      3  \n",
       "8262707   V1_Mouse_Brain_Sagittal_Anterior_GCAGTGTGGCTATAGG      2  \n",
       "8038623   V1_Mouse_Brain_Sagittal_Anterior_CCGTAGGGTTGTTTAC      1  \n",
       "...                                                     ...    ...  \n",
       "13096307  V1_Mouse_Brain_Sagittal_Anterior_TAGGCTAAAGTGGCAC      2  \n",
       "12826294  V1_Mouse_Brain_Sagittal_Anterior_GATTAACCGAAAGCCC      1  \n",
       "18091996  V1_Mouse_Brain_Sagittal_Anterior_TCCCAAACAGACAACG      1  \n",
       "15592855  V1_Mouse_Brain_Sagittal_Anterior_TTGTTTCCATACAACT      4  \n",
       "17951560  V1_Mouse_Brain_Sagittal_Anterior_GCGCTGATCCAGACTC      3  \n",
       "\n",
       "[18201834 rows x 4 columns]"
      ]
     },
     "execution_count": 47,
     "metadata": {},
     "output_type": "execute_result"
    }
   ],
   "source": [
    "zdf[\"window_cell_id\"] = zdf[\"window\"] + \"_\" + zdf[\"cell_id\"]\n",
    "zdf[[\"window_cell_id\",\"window\",\"cell_id\",\"quant\"]]"
   ]
  },
  {
   "cell_type": "code",
   "execution_count": 48,
   "id": "521f135c",
   "metadata": {
    "ExecuteTime": {
     "end_time": "2022-06-21T18:25:54.962885Z",
     "start_time": "2022-06-21T18:25:54.822799Z"
    }
   },
   "outputs": [
    {
     "data": {
      "text/plain": [
       "1    4602583\n",
       "4    4577787\n",
       "2    4527598\n",
       "3    4493866\n",
       "Name: quant, dtype: int64"
      ]
     },
     "execution_count": 48,
     "metadata": {},
     "output_type": "execute_result"
    }
   ],
   "source": [
    "zdf[\"quant\"].value_counts()"
   ]
  },
  {
   "cell_type": "code",
   "execution_count": 49,
   "id": "848c8f7a",
   "metadata": {
    "ExecuteTime": {
     "end_time": "2022-06-21T18:26:46.005031Z",
     "start_time": "2022-06-21T18:26:05.442635Z"
    }
   },
   "outputs": [],
   "source": [
    "window = \"chr17_5159_minus\"\n",
    "chrom = window.split(\"_\")[0]\n",
    "zscore = pd.read_csv(\"/oak/stanford/groups/horence/JuliaO/nf-readzs/visium/V1_Mouse_Brain_Sagittal_Anterior/zscore/V1_Mouse_Brain_Sagittal_Anterior_{}.zscore\".format(chrom),sep=\"\\t\")\n",
    "zscore[\"window_cell_id\"] = zscore[\"window\"] + \"_\" + zscore[\"cell_id\"]\n",
    "zscore[\"quant\"] = zscore[\"window_cell_id\"].map({x : y for x, y in zip(zdf[\"window_cell_id\"],zdf[\"quant\"])})\n",
    "zscore.to_csv(\"{}zscore/{}_{}.zscore\".format(outpath,dataname,chrom),sep=\"\\t\")"
   ]
  },
  {
   "cell_type": "code",
   "execution_count": 50,
   "id": "577af8cf",
   "metadata": {
    "ExecuteTime": {
     "end_time": "2022-06-21T18:27:07.659445Z",
     "start_time": "2022-06-21T18:26:57.279587Z"
    }
   },
   "outputs": [],
   "source": []
  },
  {
   "cell_type": "code",
   "execution_count": 66,
   "id": "2dea3577",
   "metadata": {
    "ExecuteTime": {
     "end_time": "2022-06-21T19:52:38.152415Z",
     "start_time": "2022-06-21T19:52:35.752691Z"
    }
   },
   "outputs": [
    {
     "data": {
      "text/html": [
       "<div>\n",
       "<style scoped>\n",
       "    .dataframe tbody tr th:only-of-type {\n",
       "        vertical-align: middle;\n",
       "    }\n",
       "\n",
       "    .dataframe tbody tr th {\n",
       "        vertical-align: top;\n",
       "    }\n",
       "\n",
       "    .dataframe thead th {\n",
       "        text-align: right;\n",
       "    }\n",
       "</style>\n",
       "<table border=\"1\" class=\"dataframe\">\n",
       "  <thead>\n",
       "    <tr style=\"text-align: right;\">\n",
       "      <th></th>\n",
       "      <th>chr</th>\n",
       "      <th>start</th>\n",
       "      <th>end</th>\n",
       "      <th>window</th>\n",
       "      <th>strand</th>\n",
       "      <th>gene</th>\n",
       "    </tr>\n",
       "  </thead>\n",
       "  <tbody>\n",
       "    <tr>\n",
       "      <th>0</th>\n",
       "      <td>chr1</td>\n",
       "      <td>0</td>\n",
       "      <td>5000</td>\n",
       "      <td>chr1_1_minus</td>\n",
       "      <td>-</td>\n",
       "      <td>.</td>\n",
       "    </tr>\n",
       "    <tr>\n",
       "      <th>1</th>\n",
       "      <td>chr1</td>\n",
       "      <td>0</td>\n",
       "      <td>5000</td>\n",
       "      <td>chr1_1_plus</td>\n",
       "      <td>+</td>\n",
       "      <td>.</td>\n",
       "    </tr>\n",
       "    <tr>\n",
       "      <th>2</th>\n",
       "      <td>chr1</td>\n",
       "      <td>5000</td>\n",
       "      <td>10000</td>\n",
       "      <td>chr1_2_minus</td>\n",
       "      <td>-</td>\n",
       "      <td>.</td>\n",
       "    </tr>\n",
       "    <tr>\n",
       "      <th>3</th>\n",
       "      <td>chr1</td>\n",
       "      <td>5000</td>\n",
       "      <td>10000</td>\n",
       "      <td>chr1_2_plus</td>\n",
       "      <td>+</td>\n",
       "      <td>.</td>\n",
       "    </tr>\n",
       "    <tr>\n",
       "      <th>4</th>\n",
       "      <td>chr1</td>\n",
       "      <td>10000</td>\n",
       "      <td>15000</td>\n",
       "      <td>chr1_3_minus</td>\n",
       "      <td>-</td>\n",
       "      <td>.</td>\n",
       "    </tr>\n",
       "  </tbody>\n",
       "</table>\n",
       "</div>"
      ],
      "text/plain": [
       "    chr  start    end        window strand gene\n",
       "0  chr1      0   5000  chr1_1_minus      -    .\n",
       "1  chr1      0   5000   chr1_1_plus      +    .\n",
       "2  chr1   5000  10000  chr1_2_minus      -    .\n",
       "3  chr1   5000  10000   chr1_2_plus      +    .\n",
       "4  chr1  10000  15000  chr1_3_minus      -    ."
      ]
     },
     "execution_count": 66,
     "metadata": {},
     "output_type": "execute_result"
    }
   ],
   "source": [
    "ann = pd.read_csv(\"/oak/stanford/groups/horence/JuliaO/nf-readzs/visium/V1_Mouse_Brain_Sagittal_Anterior/annotated_files/annotated_windows.file\",sep=\"\\t\")\n",
    "ann.head()"
   ]
  },
  {
   "cell_type": "code",
   "execution_count": 67,
   "id": "e391ad5e",
   "metadata": {
    "ExecuteTime": {
     "end_time": "2022-06-21T19:52:49.491698Z",
     "start_time": "2022-06-21T19:52:49.388487Z"
    }
   },
   "outputs": [
    {
     "data": {
      "text/plain": [
       ".                                                                      805152\n",
       "Mir684-1                                                                 5185\n",
       "Snora19,Mir3084-1,Mir3084-2                                              5035\n",
       "Btbd35f11,Btbd35f10,Btbd35f3,Btbd35f4,Btbd35f26,Btbd35f15,Btbd35f20      3706\n",
       "LOC100861691,Gm20736,Gm21258,Sly                                         2624\n",
       "                                                                        ...  \n",
       "Cptp                                                                        1\n",
       "Ube2j2                                                                      1\n",
       "Tnfrsf4,Sdf4                                                                1\n",
       "Tnfrsf4                                                                     1\n",
       "Olfr1256                                                                    1\n",
       "Name: gene, Length: 26948, dtype: int64"
      ]
     },
     "execution_count": 67,
     "metadata": {},
     "output_type": "execute_result"
    }
   ],
   "source": [
    "ann[\"gene\"].value_counts()"
   ]
  },
  {
   "cell_type": "code",
   "execution_count": 60,
   "id": "bb453c5c",
   "metadata": {
    "ExecuteTime": {
     "end_time": "2022-06-21T18:28:51.467756Z",
     "start_time": "2022-06-21T18:28:47.470642Z"
    }
   },
   "outputs": [
    {
     "name": "stdout",
     "output_type": "stream",
     "text": [
      "dropped duplicates\n"
     ]
    }
   ],
   "source": [
    "zdf = zdf.drop_duplicates(\"window_quant\")\n",
    "print(\"dropped duplicates\")\n",
    "zdf[\"pval\"] = 0\n",
    "zdf[\"significant\"] = True\n",
    "zdf[\"max_med\"] = zdf[\"window_quant\"].map(zdf.groupby(\"window_quant\")[\"median_z_scaled\"].max())\n",
    "zdf[\"min_med\"] = zdf[\"window_quant\"].map(zdf.groupby(\"window_quant\")[\"median_z_scaled\"].min())\n",
    "zdf[\"medians_range\"] = zdf[\"max_med\"] - zdf[\"min_med\"]\n",
    "# figure out how they're getting the gene name and do the same thing\n",
    "zdf[\"gene\"] = ann[ann[\"window\"] == window].iloc[0][\"gene\"]\n",
    "zdf[\"ontology\"] = zdf[\"quant\"]"
   ]
  },
  {
   "cell_type": "code",
   "execution_count": 68,
   "id": "f6a52fb5",
   "metadata": {
    "ExecuteTime": {
     "end_time": "2022-06-21T19:53:22.265908Z",
     "start_time": "2022-06-21T19:53:20.956184Z"
    }
   },
   "outputs": [],
   "source": [
    "zdf[\"gene\"] = zdf[\"window\"].map({k : v for k, v in zip(ann[\"window\"],ann[\"gene\"])})"
   ]
  },
  {
   "cell_type": "code",
   "execution_count": 69,
   "id": "27cc8315",
   "metadata": {
    "ExecuteTime": {
     "end_time": "2022-06-21T19:53:26.362201Z",
     "start_time": "2022-06-21T19:53:25.847269Z"
    }
   },
   "outputs": [
    {
     "data": {
      "text/html": [
       "<div>\n",
       "<style scoped>\n",
       "    .dataframe tbody tr th:only-of-type {\n",
       "        vertical-align: middle;\n",
       "    }\n",
       "\n",
       "    .dataframe tbody tr th {\n",
       "        vertical-align: top;\n",
       "    }\n",
       "\n",
       "    .dataframe thead th {\n",
       "        text-align: right;\n",
       "    }\n",
       "</style>\n",
       "<table border=\"1\" class=\"dataframe\">\n",
       "  <thead>\n",
       "    <tr style=\"text-align: right;\">\n",
       "      <th></th>\n",
       "      <th>cell_id</th>\n",
       "      <th>chrom</th>\n",
       "      <th>read_strand</th>\n",
       "      <th>window</th>\n",
       "      <th>channel</th>\n",
       "      <th>z_scaled</th>\n",
       "      <th>count</th>\n",
       "      <th>barcode</th>\n",
       "      <th>in_tissue</th>\n",
       "      <th>array_row</th>\n",
       "      <th>...</th>\n",
       "      <th>med_counts_per_window_per_ont</th>\n",
       "      <th>median_z_scaled</th>\n",
       "      <th>window_cell_id</th>\n",
       "      <th>pval</th>\n",
       "      <th>significant</th>\n",
       "      <th>max_med</th>\n",
       "      <th>min_med</th>\n",
       "      <th>medians_range</th>\n",
       "      <th>gene</th>\n",
       "      <th>ontology</th>\n",
       "    </tr>\n",
       "  </thead>\n",
       "  <tbody>\n",
       "    <tr>\n",
       "      <th>4744059</th>\n",
       "      <td>V1_Mouse_Brain_Sagittal_Anterior_CTTTACCGAATAGTAG</td>\n",
       "      <td>chr15</td>\n",
       "      <td>+</td>\n",
       "      <td>chr15_19627_plus</td>\n",
       "      <td>V1_Mouse_Brain_Sagittal_Anterior</td>\n",
       "      <td>-0.902481</td>\n",
       "      <td>2</td>\n",
       "      <td>CTTTACCGAATAGTAG-1</td>\n",
       "      <td>1.0</td>\n",
       "      <td>50.0</td>\n",
       "      <td>...</td>\n",
       "      <td>3.0</td>\n",
       "      <td>-0.670632</td>\n",
       "      <td>chr15_19627_plus_V1_Mouse_Brain_Sagittal_Anter...</td>\n",
       "      <td>0</td>\n",
       "      <td>True</td>\n",
       "      <td>-0.670632</td>\n",
       "      <td>-0.670632</td>\n",
       "      <td>0.0</td>\n",
       "      <td>Pfkm</td>\n",
       "      <td>4</td>\n",
       "    </tr>\n",
       "    <tr>\n",
       "      <th>15450047</th>\n",
       "      <td>V1_Mouse_Brain_Sagittal_Anterior_TGCAAAGTTCGTCTGT</td>\n",
       "      <td>chr7</td>\n",
       "      <td>-</td>\n",
       "      <td>chr7_5507_minus</td>\n",
       "      <td>V1_Mouse_Brain_Sagittal_Anterior</td>\n",
       "      <td>-0.197906</td>\n",
       "      <td>1</td>\n",
       "      <td>NaN</td>\n",
       "      <td>NaN</td>\n",
       "      <td>NaN</td>\n",
       "      <td>...</td>\n",
       "      <td>5.0</td>\n",
       "      <td>-0.417402</td>\n",
       "      <td>chr7_5507_minus_V1_Mouse_Brain_Sagittal_Anteri...</td>\n",
       "      <td>0</td>\n",
       "      <td>True</td>\n",
       "      <td>-0.417402</td>\n",
       "      <td>-0.417402</td>\n",
       "      <td>0.0</td>\n",
       "      <td>Pld3</td>\n",
       "      <td>4</td>\n",
       "    </tr>\n",
       "    <tr>\n",
       "      <th>8115314</th>\n",
       "      <td>V1_Mouse_Brain_Sagittal_Anterior_CGTTATCATACTTCCA</td>\n",
       "      <td>chr1</td>\n",
       "      <td>+</td>\n",
       "      <td>chr1_30273_plus</td>\n",
       "      <td>V1_Mouse_Brain_Sagittal_Anterior</td>\n",
       "      <td>-0.209330</td>\n",
       "      <td>1</td>\n",
       "      <td>CGTTATCATACTTCCA-1</td>\n",
       "      <td>1.0</td>\n",
       "      <td>45.0</td>\n",
       "      <td>...</td>\n",
       "      <td>3.0</td>\n",
       "      <td>-0.193042</td>\n",
       "      <td>chr1_30273_plus_V1_Mouse_Brain_Sagittal_Anteri...</td>\n",
       "      <td>0</td>\n",
       "      <td>True</td>\n",
       "      <td>-0.193042</td>\n",
       "      <td>-0.193042</td>\n",
       "      <td>0.0</td>\n",
       "      <td>Ivns1abp</td>\n",
       "      <td>3</td>\n",
       "    </tr>\n",
       "    <tr>\n",
       "      <th>8262707</th>\n",
       "      <td>V1_Mouse_Brain_Sagittal_Anterior_GCAGTGTGGCTATAGG</td>\n",
       "      <td>chr1</td>\n",
       "      <td>-</td>\n",
       "      <td>chr1_4770_minus</td>\n",
       "      <td>V1_Mouse_Brain_Sagittal_Anterior</td>\n",
       "      <td>0.100930</td>\n",
       "      <td>2</td>\n",
       "      <td>GCAGTGTGGCTATAGG-1</td>\n",
       "      <td>1.0</td>\n",
       "      <td>59.0</td>\n",
       "      <td>...</td>\n",
       "      <td>2.0</td>\n",
       "      <td>0.110641</td>\n",
       "      <td>chr1_4770_minus_V1_Mouse_Brain_Sagittal_Anteri...</td>\n",
       "      <td>0</td>\n",
       "      <td>True</td>\n",
       "      <td>0.110641</td>\n",
       "      <td>0.110641</td>\n",
       "      <td>0.0</td>\n",
       "      <td>Smap1</td>\n",
       "      <td>2</td>\n",
       "    </tr>\n",
       "    <tr>\n",
       "      <th>8038623</th>\n",
       "      <td>V1_Mouse_Brain_Sagittal_Anterior_CCGTAGGGTTGTTTAC</td>\n",
       "      <td>chr1</td>\n",
       "      <td>-</td>\n",
       "      <td>chr1_36219_minus</td>\n",
       "      <td>V1_Mouse_Brain_Sagittal_Anterior</td>\n",
       "      <td>0.846877</td>\n",
       "      <td>2</td>\n",
       "      <td>CCGTAGGGTTGTTTAC-1</td>\n",
       "      <td>1.0</td>\n",
       "      <td>60.0</td>\n",
       "      <td>...</td>\n",
       "      <td>1.0</td>\n",
       "      <td>1.078702</td>\n",
       "      <td>chr1_36219_minus_V1_Mouse_Brain_Sagittal_Anter...</td>\n",
       "      <td>0</td>\n",
       "      <td>True</td>\n",
       "      <td>1.078702</td>\n",
       "      <td>1.078702</td>\n",
       "      <td>0.0</td>\n",
       "      <td>Nvl</td>\n",
       "      <td>1</td>\n",
       "    </tr>\n",
       "    <tr>\n",
       "      <th>...</th>\n",
       "      <td>...</td>\n",
       "      <td>...</td>\n",
       "      <td>...</td>\n",
       "      <td>...</td>\n",
       "      <td>...</td>\n",
       "      <td>...</td>\n",
       "      <td>...</td>\n",
       "      <td>...</td>\n",
       "      <td>...</td>\n",
       "      <td>...</td>\n",
       "      <td>...</td>\n",
       "      <td>...</td>\n",
       "      <td>...</td>\n",
       "      <td>...</td>\n",
       "      <td>...</td>\n",
       "      <td>...</td>\n",
       "      <td>...</td>\n",
       "      <td>...</td>\n",
       "      <td>...</td>\n",
       "      <td>...</td>\n",
       "      <td>...</td>\n",
       "    </tr>\n",
       "    <tr>\n",
       "      <th>11191891</th>\n",
       "      <td>V1_Mouse_Brain_Sagittal_Anterior_ACTCGTCAGTAATCCC</td>\n",
       "      <td>chr4</td>\n",
       "      <td>-</td>\n",
       "      <td>chr4_11402_minus</td>\n",
       "      <td>V1_Mouse_Brain_Sagittal_Anterior</td>\n",
       "      <td>1.341641</td>\n",
       "      <td>1</td>\n",
       "      <td>ACTCGTCAGTAATCCC-1</td>\n",
       "      <td>1.0</td>\n",
       "      <td>36.0</td>\n",
       "      <td>...</td>\n",
       "      <td>1.0</td>\n",
       "      <td>1.341641</td>\n",
       "      <td>chr4_11402_minus_V1_Mouse_Brain_Sagittal_Anter...</td>\n",
       "      <td>0</td>\n",
       "      <td>True</td>\n",
       "      <td>1.341641</td>\n",
       "      <td>1.341641</td>\n",
       "      <td>0.0</td>\n",
       "      <td>Epb41l4b</td>\n",
       "      <td>1</td>\n",
       "    </tr>\n",
       "    <tr>\n",
       "      <th>925426</th>\n",
       "      <td>V1_Mouse_Brain_Sagittal_Anterior_AAGACCAAATAACTCA</td>\n",
       "      <td>chr11</td>\n",
       "      <td>+</td>\n",
       "      <td>chr11_16797_plus</td>\n",
       "      <td>V1_Mouse_Brain_Sagittal_Anterior</td>\n",
       "      <td>1.414214</td>\n",
       "      <td>1</td>\n",
       "      <td>AAGACCAAATAACTCA-1</td>\n",
       "      <td>1.0</td>\n",
       "      <td>62.0</td>\n",
       "      <td>...</td>\n",
       "      <td>1.0</td>\n",
       "      <td>1.414214</td>\n",
       "      <td>chr11_16797_plus_V1_Mouse_Brain_Sagittal_Anter...</td>\n",
       "      <td>0</td>\n",
       "      <td>True</td>\n",
       "      <td>1.414214</td>\n",
       "      <td>1.414214</td>\n",
       "      <td>0.0</td>\n",
       "      <td>Synrg</td>\n",
       "      <td>1</td>\n",
       "    </tr>\n",
       "    <tr>\n",
       "      <th>12164250</th>\n",
       "      <td>V1_Mouse_Brain_Sagittal_Anterior_TTGTGATCTGTTCAGT</td>\n",
       "      <td>chr4</td>\n",
       "      <td>+</td>\n",
       "      <td>chr4_9004_plus</td>\n",
       "      <td>V1_Mouse_Brain_Sagittal_Anterior</td>\n",
       "      <td>0.447214</td>\n",
       "      <td>1</td>\n",
       "      <td>TTGTGATCTGTTCAGT-1</td>\n",
       "      <td>1.0</td>\n",
       "      <td>69.0</td>\n",
       "      <td>...</td>\n",
       "      <td>1.0</td>\n",
       "      <td>0.447214</td>\n",
       "      <td>chr4_9004_plus_V1_Mouse_Brain_Sagittal_Anterio...</td>\n",
       "      <td>0</td>\n",
       "      <td>True</td>\n",
       "      <td>0.447214</td>\n",
       "      <td>0.447214</td>\n",
       "      <td>0.0</td>\n",
       "      <td>Polr1e</td>\n",
       "      <td>2</td>\n",
       "    </tr>\n",
       "    <tr>\n",
       "      <th>12761005</th>\n",
       "      <td>V1_Mouse_Brain_Sagittal_Anterior_GAACCTTTAACGATCC</td>\n",
       "      <td>chr5</td>\n",
       "      <td>-</td>\n",
       "      <td>chr5_14992_minus</td>\n",
       "      <td>V1_Mouse_Brain_Sagittal_Anterior</td>\n",
       "      <td>-1.000000</td>\n",
       "      <td>1</td>\n",
       "      <td>GAACCTTTAACGATCC-1</td>\n",
       "      <td>1.0</td>\n",
       "      <td>63.0</td>\n",
       "      <td>...</td>\n",
       "      <td>1.0</td>\n",
       "      <td>-1.000000</td>\n",
       "      <td>chr5_14992_minus_V1_Mouse_Brain_Sagittal_Anter...</td>\n",
       "      <td>0</td>\n",
       "      <td>True</td>\n",
       "      <td>-1.000000</td>\n",
       "      <td>-1.000000</td>\n",
       "      <td>0.0</td>\n",
       "      <td>.</td>\n",
       "      <td>4</td>\n",
       "    </tr>\n",
       "    <tr>\n",
       "      <th>5161219</th>\n",
       "      <td>V1_Mouse_Brain_Sagittal_Anterior_AAGGGTTTGATTTCAG</td>\n",
       "      <td>chr16</td>\n",
       "      <td>+</td>\n",
       "      <td>chr16_11198_plus</td>\n",
       "      <td>V1_Mouse_Brain_Sagittal_Anterior</td>\n",
       "      <td>-1.000000</td>\n",
       "      <td>1</td>\n",
       "      <td>AAGGGTTTGATTTCAG-1</td>\n",
       "      <td>1.0</td>\n",
       "      <td>59.0</td>\n",
       "      <td>...</td>\n",
       "      <td>1.0</td>\n",
       "      <td>-1.000000</td>\n",
       "      <td>chr16_11198_plus_V1_Mouse_Brain_Sagittal_Anter...</td>\n",
       "      <td>0</td>\n",
       "      <td>True</td>\n",
       "      <td>-1.000000</td>\n",
       "      <td>-1.000000</td>\n",
       "      <td>0.0</td>\n",
       "      <td>Zbtb11</td>\n",
       "      <td>4</td>\n",
       "    </tr>\n",
       "  </tbody>\n",
       "</table>\n",
       "<p>450939 rows × 34 columns</p>\n",
       "</div>"
      ],
      "text/plain": [
       "                                                    cell_id  chrom  \\\n",
       "4744059   V1_Mouse_Brain_Sagittal_Anterior_CTTTACCGAATAGTAG  chr15   \n",
       "15450047  V1_Mouse_Brain_Sagittal_Anterior_TGCAAAGTTCGTCTGT   chr7   \n",
       "8115314   V1_Mouse_Brain_Sagittal_Anterior_CGTTATCATACTTCCA   chr1   \n",
       "8262707   V1_Mouse_Brain_Sagittal_Anterior_GCAGTGTGGCTATAGG   chr1   \n",
       "8038623   V1_Mouse_Brain_Sagittal_Anterior_CCGTAGGGTTGTTTAC   chr1   \n",
       "...                                                     ...    ...   \n",
       "11191891  V1_Mouse_Brain_Sagittal_Anterior_ACTCGTCAGTAATCCC   chr4   \n",
       "925426    V1_Mouse_Brain_Sagittal_Anterior_AAGACCAAATAACTCA  chr11   \n",
       "12164250  V1_Mouse_Brain_Sagittal_Anterior_TTGTGATCTGTTCAGT   chr4   \n",
       "12761005  V1_Mouse_Brain_Sagittal_Anterior_GAACCTTTAACGATCC   chr5   \n",
       "5161219   V1_Mouse_Brain_Sagittal_Anterior_AAGGGTTTGATTTCAG  chr16   \n",
       "\n",
       "         read_strand            window                           channel  \\\n",
       "4744059            +  chr15_19627_plus  V1_Mouse_Brain_Sagittal_Anterior   \n",
       "15450047           -   chr7_5507_minus  V1_Mouse_Brain_Sagittal_Anterior   \n",
       "8115314            +   chr1_30273_plus  V1_Mouse_Brain_Sagittal_Anterior   \n",
       "8262707            -   chr1_4770_minus  V1_Mouse_Brain_Sagittal_Anterior   \n",
       "8038623            -  chr1_36219_minus  V1_Mouse_Brain_Sagittal_Anterior   \n",
       "...              ...               ...                               ...   \n",
       "11191891           -  chr4_11402_minus  V1_Mouse_Brain_Sagittal_Anterior   \n",
       "925426             +  chr11_16797_plus  V1_Mouse_Brain_Sagittal_Anterior   \n",
       "12164250           +    chr4_9004_plus  V1_Mouse_Brain_Sagittal_Anterior   \n",
       "12761005           -  chr5_14992_minus  V1_Mouse_Brain_Sagittal_Anterior   \n",
       "5161219            +  chr16_11198_plus  V1_Mouse_Brain_Sagittal_Anterior   \n",
       "\n",
       "          z_scaled  count             barcode  in_tissue  array_row  ...  \\\n",
       "4744059  -0.902481      2  CTTTACCGAATAGTAG-1        1.0       50.0  ...   \n",
       "15450047 -0.197906      1                 NaN        NaN        NaN  ...   \n",
       "8115314  -0.209330      1  CGTTATCATACTTCCA-1        1.0       45.0  ...   \n",
       "8262707   0.100930      2  GCAGTGTGGCTATAGG-1        1.0       59.0  ...   \n",
       "8038623   0.846877      2  CCGTAGGGTTGTTTAC-1        1.0       60.0  ...   \n",
       "...            ...    ...                 ...        ...        ...  ...   \n",
       "11191891  1.341641      1  ACTCGTCAGTAATCCC-1        1.0       36.0  ...   \n",
       "925426    1.414214      1  AAGACCAAATAACTCA-1        1.0       62.0  ...   \n",
       "12164250  0.447214      1  TTGTGATCTGTTCAGT-1        1.0       69.0  ...   \n",
       "12761005 -1.000000      1  GAACCTTTAACGATCC-1        1.0       63.0  ...   \n",
       "5161219  -1.000000      1  AAGGGTTTGATTTCAG-1        1.0       59.0  ...   \n",
       "\n",
       "          med_counts_per_window_per_ont  median_z_scaled  \\\n",
       "4744059                             3.0        -0.670632   \n",
       "15450047                            5.0        -0.417402   \n",
       "8115314                             3.0        -0.193042   \n",
       "8262707                             2.0         0.110641   \n",
       "8038623                             1.0         1.078702   \n",
       "...                                 ...              ...   \n",
       "11191891                            1.0         1.341641   \n",
       "925426                              1.0         1.414214   \n",
       "12164250                            1.0         0.447214   \n",
       "12761005                            1.0        -1.000000   \n",
       "5161219                             1.0        -1.000000   \n",
       "\n",
       "                                             window_cell_id  pval  \\\n",
       "4744059   chr15_19627_plus_V1_Mouse_Brain_Sagittal_Anter...     0   \n",
       "15450047  chr7_5507_minus_V1_Mouse_Brain_Sagittal_Anteri...     0   \n",
       "8115314   chr1_30273_plus_V1_Mouse_Brain_Sagittal_Anteri...     0   \n",
       "8262707   chr1_4770_minus_V1_Mouse_Brain_Sagittal_Anteri...     0   \n",
       "8038623   chr1_36219_minus_V1_Mouse_Brain_Sagittal_Anter...     0   \n",
       "...                                                     ...   ...   \n",
       "11191891  chr4_11402_minus_V1_Mouse_Brain_Sagittal_Anter...     0   \n",
       "925426    chr11_16797_plus_V1_Mouse_Brain_Sagittal_Anter...     0   \n",
       "12164250  chr4_9004_plus_V1_Mouse_Brain_Sagittal_Anterio...     0   \n",
       "12761005  chr5_14992_minus_V1_Mouse_Brain_Sagittal_Anter...     0   \n",
       "5161219   chr16_11198_plus_V1_Mouse_Brain_Sagittal_Anter...     0   \n",
       "\n",
       "          significant   max_med   min_med  medians_range      gene  ontology  \n",
       "4744059          True -0.670632 -0.670632            0.0      Pfkm         4  \n",
       "15450047         True -0.417402 -0.417402            0.0      Pld3         4  \n",
       "8115314          True -0.193042 -0.193042            0.0  Ivns1abp         3  \n",
       "8262707          True  0.110641  0.110641            0.0     Smap1         2  \n",
       "8038623          True  1.078702  1.078702            0.0       Nvl         1  \n",
       "...               ...       ...       ...            ...       ...       ...  \n",
       "11191891         True  1.341641  1.341641            0.0  Epb41l4b         1  \n",
       "925426           True  1.414214  1.414214            0.0     Synrg         1  \n",
       "12164250         True  0.447214  0.447214            0.0    Polr1e         2  \n",
       "12761005         True -1.000000 -1.000000            0.0         .         4  \n",
       "5161219          True -1.000000 -1.000000            0.0    Zbtb11         4  \n",
       "\n",
       "[450939 rows x 34 columns]"
      ]
     },
     "execution_count": 69,
     "metadata": {},
     "output_type": "execute_result"
    }
   ],
   "source": [
    "zdf"
   ]
  },
  {
   "cell_type": "code",
   "execution_count": 61,
   "id": "3722fe88",
   "metadata": {
    "ExecuteTime": {
     "end_time": "2022-06-21T18:28:55.917017Z",
     "start_time": "2022-06-21T18:28:55.783382Z"
    }
   },
   "outputs": [
    {
     "data": {
      "text/html": [
       "<div>\n",
       "<style scoped>\n",
       "    .dataframe tbody tr th:only-of-type {\n",
       "        vertical-align: middle;\n",
       "    }\n",
       "\n",
       "    .dataframe tbody tr th {\n",
       "        vertical-align: top;\n",
       "    }\n",
       "\n",
       "    .dataframe thead th {\n",
       "        text-align: right;\n",
       "    }\n",
       "</style>\n",
       "<table border=\"1\" class=\"dataframe\">\n",
       "  <thead>\n",
       "    <tr style=\"text-align: right;\">\n",
       "      <th></th>\n",
       "      <th>window</th>\n",
       "      <th>ontology</th>\n",
       "      <th>sum_counts_per_window_per_ont</th>\n",
       "      <th>med_counts_per_window_per_ont</th>\n",
       "      <th>median_z_scaled</th>\n",
       "      <th>pval</th>\n",
       "      <th>significant</th>\n",
       "      <th>medians_range</th>\n",
       "      <th>max_med</th>\n",
       "      <th>min_med</th>\n",
       "      <th>gene</th>\n",
       "    </tr>\n",
       "  </thead>\n",
       "  <tbody>\n",
       "    <tr>\n",
       "      <th>6215569</th>\n",
       "      <td>chr17_5159_minus</td>\n",
       "      <td>1</td>\n",
       "      <td>2176</td>\n",
       "      <td>2.0</td>\n",
       "      <td>1.036318</td>\n",
       "      <td>0</td>\n",
       "      <td>True</td>\n",
       "      <td>0.0</td>\n",
       "      <td>1.036318</td>\n",
       "      <td>1.036318</td>\n",
       "      <td>Antkmt,Metrn</td>\n",
       "    </tr>\n",
       "    <tr>\n",
       "      <th>6400832</th>\n",
       "      <td>chr17_5159_minus</td>\n",
       "      <td>2</td>\n",
       "      <td>3225</td>\n",
       "      <td>4.0</td>\n",
       "      <td>0.201474</td>\n",
       "      <td>0</td>\n",
       "      <td>True</td>\n",
       "      <td>0.0</td>\n",
       "      <td>0.201474</td>\n",
       "      <td>0.201474</td>\n",
       "      <td>Antkmt,Metrn</td>\n",
       "    </tr>\n",
       "    <tr>\n",
       "      <th>6318703</th>\n",
       "      <td>chr17_5159_minus</td>\n",
       "      <td>3</td>\n",
       "      <td>3474</td>\n",
       "      <td>4.0</td>\n",
       "      <td>-0.343577</td>\n",
       "      <td>0</td>\n",
       "      <td>True</td>\n",
       "      <td>0.0</td>\n",
       "      <td>-0.343577</td>\n",
       "      <td>-0.343577</td>\n",
       "      <td>Antkmt,Metrn</td>\n",
       "    </tr>\n",
       "    <tr>\n",
       "      <th>6355221</th>\n",
       "      <td>chr17_5159_minus</td>\n",
       "      <td>4</td>\n",
       "      <td>1802</td>\n",
       "      <td>2.0</td>\n",
       "      <td>-0.746010</td>\n",
       "      <td>0</td>\n",
       "      <td>True</td>\n",
       "      <td>0.0</td>\n",
       "      <td>-0.746010</td>\n",
       "      <td>-0.746010</td>\n",
       "      <td>Antkmt,Metrn</td>\n",
       "    </tr>\n",
       "  </tbody>\n",
       "</table>\n",
       "</div>"
      ],
      "text/plain": [
       "                   window  ontology  sum_counts_per_window_per_ont  \\\n",
       "6215569  chr17_5159_minus         1                           2176   \n",
       "6400832  chr17_5159_minus         2                           3225   \n",
       "6318703  chr17_5159_minus         3                           3474   \n",
       "6355221  chr17_5159_minus         4                           1802   \n",
       "\n",
       "         med_counts_per_window_per_ont  median_z_scaled  pval  significant  \\\n",
       "6215569                            2.0         1.036318     0         True   \n",
       "6400832                            4.0         0.201474     0         True   \n",
       "6318703                            4.0        -0.343577     0         True   \n",
       "6355221                            2.0        -0.746010     0         True   \n",
       "\n",
       "         medians_range   max_med   min_med          gene  \n",
       "6215569            0.0  1.036318  1.036318  Antkmt,Metrn  \n",
       "6400832            0.0  0.201474  0.201474  Antkmt,Metrn  \n",
       "6318703            0.0 -0.343577 -0.343577  Antkmt,Metrn  \n",
       "6355221            0.0 -0.746010 -0.746010  Antkmt,Metrn  "
      ]
     },
     "execution_count": 61,
     "metadata": {},
     "output_type": "execute_result"
    }
   ],
   "source": [
    "cols = ['window', 'ontology', 'sum_counts_per_window_per_ont',\n",
    "       'med_counts_per_window_per_ont', 'median_z_scaled', 'pval',\n",
    "       'significant', 'medians_range', 'max_med', 'min_med', 'gene']\n",
    "sub = zdf[zdf[\"window\"] == window][cols]\n",
    "sub.sort_values(\"sum_counts_per_window_per_ont\").to_csv(\"{}{}.tsv\".format(outpath,window),sep=\"\\t\")\n",
    "sub"
   ]
  },
  {
   "cell_type": "code",
   "execution_count": 62,
   "id": "228b21be",
   "metadata": {
    "ExecuteTime": {
     "end_time": "2022-06-21T18:29:30.423508Z",
     "start_time": "2022-06-21T18:29:30.416834Z"
    }
   },
   "outputs": [
    {
     "data": {
      "text/plain": [
       "'output/input_plotterfile/chr17_5159_minus.tsv'"
      ]
     },
     "execution_count": 62,
     "metadata": {},
     "output_type": "execute_result"
    }
   ],
   "source": [
    "\"{}{}.tsv\".format(outpath,window)"
   ]
  },
  {
   "cell_type": "code",
   "execution_count": null,
   "id": "2a63687d",
   "metadata": {
    "ExecuteTime": {
     "end_time": "2022-06-21T18:09:02.084183Z",
     "start_time": "2022-06-21T18:09:02.084159Z"
    }
   },
   "outputs": [],
   "source": [
    "\n",
    "counts = pd.read_csv(\"/oak/stanford/groups/horence/JuliaO/nf-readzs/visium/V1_Mouse_Brain_Sagittal_Anterior/counts/V1_Mouse_Brain_Sagittal_Anterior_{}.txt\".format(chrom),sep=\"\\t\",header=None)"
   ]
  },
  {
   "cell_type": "code",
   "execution_count": null,
   "id": "61082fab",
   "metadata": {
    "ExecuteTime": {
     "end_time": "2022-06-21T18:09:02.088076Z",
     "start_time": "2022-06-21T18:09:02.088053Z"
    }
   },
   "outputs": [],
   "source": [
    "counts[7] = counts[6] + \"_\" + counts[0]"
   ]
  },
  {
   "cell_type": "code",
   "execution_count": null,
   "id": "dbbc0e6c",
   "metadata": {
    "ExecuteTime": {
     "end_time": "2022-06-21T18:09:02.091061Z",
     "start_time": "2022-06-21T18:09:02.091038Z"
    }
   },
   "outputs": [],
   "source": [
    "counts[4] = counts[7].map({x : y for x, y in zip(zdf[\"window_cell_id\"],zdf[\"quant\"])})"
   ]
  },
  {
   "cell_type": "code",
   "execution_count": null,
   "id": "7c2f7dcb",
   "metadata": {
    "ExecuteTime": {
     "end_time": "2022-06-21T18:09:02.094452Z",
     "start_time": "2022-06-21T18:09:02.094430Z"
    }
   },
   "outputs": [],
   "source": [
    "counts.dropna()[range(7)].to_csv(\"{}counts/{}_{}.txt\".format(outpath,dataname,chrom),sep=\"\\t\",header=False,index=False)"
   ]
  },
  {
   "cell_type": "code",
   "execution_count": 32,
   "id": "ba1a6ab8",
   "metadata": {
    "ExecuteTime": {
     "end_time": "2022-06-21T18:09:16.666248Z",
     "start_time": "2022-06-21T18:09:14.885688Z"
    }
   },
   "outputs": [],
   "source": []
  },
  {
   "cell_type": "code",
   "execution_count": 36,
   "id": "014730b9",
   "metadata": {
    "ExecuteTime": {
     "end_time": "2022-06-21T18:10:56.089159Z",
     "start_time": "2022-06-21T18:10:56.064366Z"
    }
   },
   "outputs": [
    {
     "data": {
      "text/html": [
       "<div>\n",
       "<style scoped>\n",
       "    .dataframe tbody tr th:only-of-type {\n",
       "        vertical-align: middle;\n",
       "    }\n",
       "\n",
       "    .dataframe tbody tr th {\n",
       "        vertical-align: top;\n",
       "    }\n",
       "\n",
       "    .dataframe thead th {\n",
       "        text-align: right;\n",
       "    }\n",
       "</style>\n",
       "<table border=\"1\" class=\"dataframe\">\n",
       "  <thead>\n",
       "    <tr style=\"text-align: right;\">\n",
       "      <th></th>\n",
       "      <th>cell_id</th>\n",
       "      <th>chrom</th>\n",
       "      <th>read_strand</th>\n",
       "      <th>window</th>\n",
       "      <th>channel</th>\n",
       "      <th>z_scaled</th>\n",
       "      <th>count</th>\n",
       "      <th>barcode</th>\n",
       "      <th>in_tissue</th>\n",
       "      <th>array_row</th>\n",
       "      <th>...</th>\n",
       "      <th>med_counts_per_window_per_ont</th>\n",
       "      <th>median_z_scaled</th>\n",
       "      <th>window_cell_id</th>\n",
       "      <th>pval</th>\n",
       "      <th>significant</th>\n",
       "      <th>max_med</th>\n",
       "      <th>min_med</th>\n",
       "      <th>medians_range</th>\n",
       "      <th>gene</th>\n",
       "      <th>ontology</th>\n",
       "    </tr>\n",
       "  </thead>\n",
       "  <tbody>\n",
       "    <tr>\n",
       "      <th>16653181</th>\n",
       "      <td>V1_Mouse_Brain_Sagittal_Anterior_ACGCGAAGTCAGACGA</td>\n",
       "      <td>chr9</td>\n",
       "      <td>+</td>\n",
       "      <td>chr9_9257_plus</td>\n",
       "      <td>V1_Mouse_Brain_Sagittal_Anterior</td>\n",
       "      <td>0.208864</td>\n",
       "      <td>1</td>\n",
       "      <td>ACGCGAAGTCAGACGA-1</td>\n",
       "      <td>1.0</td>\n",
       "      <td>49.0</td>\n",
       "      <td>...</td>\n",
       "      <td>1.0</td>\n",
       "      <td>-0.000520</td>\n",
       "      <td>chr9_9257_plus_V1_Mouse_Brain_Sagittal_Anterio...</td>\n",
       "      <td>0</td>\n",
       "      <td>True</td>\n",
       "      <td>-0.000520</td>\n",
       "      <td>-0.000520</td>\n",
       "      <td>0.0</td>\n",
       "      <td></td>\n",
       "      <td>2</td>\n",
       "    </tr>\n",
       "    <tr>\n",
       "      <th>7992447</th>\n",
       "      <td>V1_Mouse_Brain_Sagittal_Anterior_CATGTCTCATTTATGG</td>\n",
       "      <td>chr1</td>\n",
       "      <td>-</td>\n",
       "      <td>chr1_7759_minus</td>\n",
       "      <td>V1_Mouse_Brain_Sagittal_Anterior</td>\n",
       "      <td>-1.989132</td>\n",
       "      <td>1</td>\n",
       "      <td>CATGTCTCATTTATGG-1</td>\n",
       "      <td>1.0</td>\n",
       "      <td>49.0</td>\n",
       "      <td>...</td>\n",
       "      <td>2.0</td>\n",
       "      <td>-0.871238</td>\n",
       "      <td>chr1_7759_minus_V1_Mouse_Brain_Sagittal_Anteri...</td>\n",
       "      <td>0</td>\n",
       "      <td>True</td>\n",
       "      <td>-0.871238</td>\n",
       "      <td>-0.871238</td>\n",
       "      <td>0.0</td>\n",
       "      <td></td>\n",
       "      <td>4</td>\n",
       "    </tr>\n",
       "    <tr>\n",
       "      <th>590544</th>\n",
       "      <td>V1_Mouse_Brain_Sagittal_Anterior_GGTGTAGGTAAGTAAA</td>\n",
       "      <td>chr10</td>\n",
       "      <td>+</td>\n",
       "      <td>chr10_15717_plus</td>\n",
       "      <td>V1_Mouse_Brain_Sagittal_Anterior</td>\n",
       "      <td>-0.509479</td>\n",
       "      <td>1</td>\n",
       "      <td>NaN</td>\n",
       "      <td>NaN</td>\n",
       "      <td>NaN</td>\n",
       "      <td>...</td>\n",
       "      <td>1.0</td>\n",
       "      <td>-0.291233</td>\n",
       "      <td>chr10_15717_plus_V1_Mouse_Brain_Sagittal_Anter...</td>\n",
       "      <td>0</td>\n",
       "      <td>True</td>\n",
       "      <td>-0.291233</td>\n",
       "      <td>-0.291233</td>\n",
       "      <td>0.0</td>\n",
       "      <td></td>\n",
       "      <td>3</td>\n",
       "    </tr>\n",
       "    <tr>\n",
       "      <th>8792717</th>\n",
       "      <td>V1_Mouse_Brain_Sagittal_Anterior_AATTACGAGACCCATC</td>\n",
       "      <td>chr2</td>\n",
       "      <td>+</td>\n",
       "      <td>chr2_27214_plus</td>\n",
       "      <td>V1_Mouse_Brain_Sagittal_Anterior</td>\n",
       "      <td>0.164769</td>\n",
       "      <td>1</td>\n",
       "      <td>AATTACGAGACCCATC-1</td>\n",
       "      <td>1.0</td>\n",
       "      <td>59.0</td>\n",
       "      <td>...</td>\n",
       "      <td>3.0</td>\n",
       "      <td>0.186501</td>\n",
       "      <td>chr2_27214_plus_V1_Mouse_Brain_Sagittal_Anteri...</td>\n",
       "      <td>0</td>\n",
       "      <td>True</td>\n",
       "      <td>0.186501</td>\n",
       "      <td>0.186501</td>\n",
       "      <td>0.0</td>\n",
       "      <td></td>\n",
       "      <td>2</td>\n",
       "    </tr>\n",
       "    <tr>\n",
       "      <th>490548</th>\n",
       "      <td>V1_Mouse_Brain_Sagittal_Anterior_GCAACAGCAGTATGCG</td>\n",
       "      <td>chr10</td>\n",
       "      <td>-</td>\n",
       "      <td>chr10_16081_minus</td>\n",
       "      <td>V1_Mouse_Brain_Sagittal_Anterior</td>\n",
       "      <td>-0.572395</td>\n",
       "      <td>1</td>\n",
       "      <td>GCAACAGCAGTATGCG-1</td>\n",
       "      <td>1.0</td>\n",
       "      <td>46.0</td>\n",
       "      <td>...</td>\n",
       "      <td>2.0</td>\n",
       "      <td>-0.712890</td>\n",
       "      <td>chr10_16081_minus_V1_Mouse_Brain_Sagittal_Ante...</td>\n",
       "      <td>0</td>\n",
       "      <td>True</td>\n",
       "      <td>-0.712890</td>\n",
       "      <td>-0.712890</td>\n",
       "      <td>0.0</td>\n",
       "      <td></td>\n",
       "      <td>4</td>\n",
       "    </tr>\n",
       "  </tbody>\n",
       "</table>\n",
       "<p>5 rows × 34 columns</p>\n",
       "</div>"
      ],
      "text/plain": [
       "                                                    cell_id  chrom  \\\n",
       "16653181  V1_Mouse_Brain_Sagittal_Anterior_ACGCGAAGTCAGACGA   chr9   \n",
       "7992447   V1_Mouse_Brain_Sagittal_Anterior_CATGTCTCATTTATGG   chr1   \n",
       "590544    V1_Mouse_Brain_Sagittal_Anterior_GGTGTAGGTAAGTAAA  chr10   \n",
       "8792717   V1_Mouse_Brain_Sagittal_Anterior_AATTACGAGACCCATC   chr2   \n",
       "490548    V1_Mouse_Brain_Sagittal_Anterior_GCAACAGCAGTATGCG  chr10   \n",
       "\n",
       "         read_strand             window                           channel  \\\n",
       "16653181           +     chr9_9257_plus  V1_Mouse_Brain_Sagittal_Anterior   \n",
       "7992447            -    chr1_7759_minus  V1_Mouse_Brain_Sagittal_Anterior   \n",
       "590544             +   chr10_15717_plus  V1_Mouse_Brain_Sagittal_Anterior   \n",
       "8792717            +    chr2_27214_plus  V1_Mouse_Brain_Sagittal_Anterior   \n",
       "490548             -  chr10_16081_minus  V1_Mouse_Brain_Sagittal_Anterior   \n",
       "\n",
       "          z_scaled  count             barcode  in_tissue  array_row  ...  \\\n",
       "16653181  0.208864      1  ACGCGAAGTCAGACGA-1        1.0       49.0  ...   \n",
       "7992447  -1.989132      1  CATGTCTCATTTATGG-1        1.0       49.0  ...   \n",
       "590544   -0.509479      1                 NaN        NaN        NaN  ...   \n",
       "8792717   0.164769      1  AATTACGAGACCCATC-1        1.0       59.0  ...   \n",
       "490548   -0.572395      1  GCAACAGCAGTATGCG-1        1.0       46.0  ...   \n",
       "\n",
       "          med_counts_per_window_per_ont  median_z_scaled  \\\n",
       "16653181                            1.0        -0.000520   \n",
       "7992447                             2.0        -0.871238   \n",
       "590544                              1.0        -0.291233   \n",
       "8792717                             3.0         0.186501   \n",
       "490548                              2.0        -0.712890   \n",
       "\n",
       "                                             window_cell_id  pval  \\\n",
       "16653181  chr9_9257_plus_V1_Mouse_Brain_Sagittal_Anterio...     0   \n",
       "7992447   chr1_7759_minus_V1_Mouse_Brain_Sagittal_Anteri...     0   \n",
       "590544    chr10_15717_plus_V1_Mouse_Brain_Sagittal_Anter...     0   \n",
       "8792717   chr2_27214_plus_V1_Mouse_Brain_Sagittal_Anteri...     0   \n",
       "490548    chr10_16081_minus_V1_Mouse_Brain_Sagittal_Ante...     0   \n",
       "\n",
       "          significant   max_med   min_med  medians_range  gene  ontology  \n",
       "16653181         True -0.000520 -0.000520            0.0               2  \n",
       "7992447          True -0.871238 -0.871238            0.0               4  \n",
       "590544           True -0.291233 -0.291233            0.0               3  \n",
       "8792717          True  0.186501  0.186501            0.0               2  \n",
       "490548           True -0.712890 -0.712890            0.0               4  \n",
       "\n",
       "[5 rows x 34 columns]"
      ]
     },
     "execution_count": 36,
     "metadata": {},
     "output_type": "execute_result"
    }
   ],
   "source": [
    "zdf.head()"
   ]
  },
  {
   "cell_type": "code",
   "execution_count": 38,
   "id": "6079a393",
   "metadata": {
    "ExecuteTime": {
     "end_time": "2022-06-21T18:11:22.084763Z",
     "start_time": "2022-06-21T18:11:22.078019Z"
    }
   },
   "outputs": [
    {
     "data": {
      "text/plain": [
       "'output/input_plotterfile/chr17_5159_minus.tsv'"
      ]
     },
     "execution_count": 38,
     "metadata": {},
     "output_type": "execute_result"
    }
   ],
   "source": [
    "\"{}{}.tsv\".format(outpath,window)"
   ]
  },
  {
   "cell_type": "code",
   "execution_count": 18,
   "id": "f1d5d114",
   "metadata": {
    "ExecuteTime": {
     "end_time": "2022-06-20T22:59:47.123357Z",
     "start_time": "2022-06-20T22:59:45.239459Z"
    }
   },
   "outputs": [],
   "source": []
  },
  {
   "cell_type": "code",
   "execution_count": 21,
   "id": "5a3d2f13",
   "metadata": {
    "ExecuteTime": {
     "end_time": "2022-06-20T23:00:01.886138Z",
     "start_time": "2022-06-20T23:00:01.862335Z"
    }
   },
   "outputs": [
    {
     "data": {
      "text/html": [
       "<div>\n",
       "<style scoped>\n",
       "    .dataframe tbody tr th:only-of-type {\n",
       "        vertical-align: middle;\n",
       "    }\n",
       "\n",
       "    .dataframe tbody tr th {\n",
       "        vertical-align: top;\n",
       "    }\n",
       "\n",
       "    .dataframe thead th {\n",
       "        text-align: right;\n",
       "    }\n",
       "</style>\n",
       "<table border=\"1\" class=\"dataframe\">\n",
       "  <thead>\n",
       "    <tr style=\"text-align: right;\">\n",
       "      <th></th>\n",
       "      <th>0</th>\n",
       "      <th>1</th>\n",
       "      <th>2</th>\n",
       "      <th>3</th>\n",
       "      <th>4</th>\n",
       "      <th>5</th>\n",
       "      <th>6</th>\n",
       "    </tr>\n",
       "  </thead>\n",
       "  <tbody>\n",
       "    <tr>\n",
       "      <th>0</th>\n",
       "      <td>V1_Mouse_Brain_Sagittal_Anterior_GAATAGCCCTGCGGTC</td>\n",
       "      <td>chr19</td>\n",
       "      <td>3206611</td>\n",
       "      <td>-</td>\n",
       "      <td>1</td>\n",
       "      <td>V1_Mouse_Brain_Sagittal_Anterior</td>\n",
       "      <td>chr19_642_minus</td>\n",
       "    </tr>\n",
       "    <tr>\n",
       "      <th>1</th>\n",
       "      <td>V1_Mouse_Brain_Sagittal_Anterior_AGATACCGGTGTTCAC</td>\n",
       "      <td>chr19</td>\n",
       "      <td>3249998</td>\n",
       "      <td>-</td>\n",
       "      <td>1</td>\n",
       "      <td>V1_Mouse_Brain_Sagittal_Anterior</td>\n",
       "      <td>chr19_650_minus</td>\n",
       "    </tr>\n",
       "    <tr>\n",
       "      <th>2</th>\n",
       "      <td>V1_Mouse_Brain_Sagittal_Anterior_GCCCGACTTCTTCCCG</td>\n",
       "      <td>chr19</td>\n",
       "      <td>3251685</td>\n",
       "      <td>-</td>\n",
       "      <td>1</td>\n",
       "      <td>V1_Mouse_Brain_Sagittal_Anterior</td>\n",
       "      <td>chr19_651_minus</td>\n",
       "    </tr>\n",
       "    <tr>\n",
       "      <th>3</th>\n",
       "      <td>V1_Mouse_Brain_Sagittal_Anterior_GGCGCTTCATTCCCTG</td>\n",
       "      <td>chr19</td>\n",
       "      <td>3251738</td>\n",
       "      <td>-</td>\n",
       "      <td>1</td>\n",
       "      <td>V1_Mouse_Brain_Sagittal_Anterior</td>\n",
       "      <td>chr19_651_minus</td>\n",
       "    </tr>\n",
       "    <tr>\n",
       "      <th>4</th>\n",
       "      <td>V1_Mouse_Brain_Sagittal_Anterior_AACCGAGCTTGGTCAT</td>\n",
       "      <td>chr19</td>\n",
       "      <td>3251685</td>\n",
       "      <td>-</td>\n",
       "      <td>1</td>\n",
       "      <td>V1_Mouse_Brain_Sagittal_Anterior</td>\n",
       "      <td>chr19_651_minus</td>\n",
       "    </tr>\n",
       "    <tr>\n",
       "      <th>...</th>\n",
       "      <td>...</td>\n",
       "      <td>...</td>\n",
       "      <td>...</td>\n",
       "      <td>...</td>\n",
       "      <td>...</td>\n",
       "      <td>...</td>\n",
       "      <td>...</td>\n",
       "    </tr>\n",
       "    <tr>\n",
       "      <th>1671939</th>\n",
       "      <td>V1_Mouse_Brain_Sagittal_Anterior_TCGTTTACGCGACCCT</td>\n",
       "      <td>chr19</td>\n",
       "      <td>61233233</td>\n",
       "      <td>+</td>\n",
       "      <td>1</td>\n",
       "      <td>V1_Mouse_Brain_Sagittal_Anterior</td>\n",
       "      <td>chr19_12247_plus</td>\n",
       "    </tr>\n",
       "    <tr>\n",
       "      <th>1671940</th>\n",
       "      <td>V1_Mouse_Brain_Sagittal_Anterior_AATAGAACAGAGTGGC</td>\n",
       "      <td>chr19</td>\n",
       "      <td>61233213</td>\n",
       "      <td>+</td>\n",
       "      <td>1</td>\n",
       "      <td>V1_Mouse_Brain_Sagittal_Anterior</td>\n",
       "      <td>chr19_12247_plus</td>\n",
       "    </tr>\n",
       "    <tr>\n",
       "      <th>1671941</th>\n",
       "      <td>V1_Mouse_Brain_Sagittal_Anterior_AGGATATCCGACTGCA</td>\n",
       "      <td>chr19</td>\n",
       "      <td>61233223</td>\n",
       "      <td>+</td>\n",
       "      <td>1</td>\n",
       "      <td>V1_Mouse_Brain_Sagittal_Anterior</td>\n",
       "      <td>chr19_12247_plus</td>\n",
       "    </tr>\n",
       "    <tr>\n",
       "      <th>1671942</th>\n",
       "      <td>V1_Mouse_Brain_Sagittal_Anterior_AACCAAGACTTCTCTG</td>\n",
       "      <td>chr19</td>\n",
       "      <td>61233235</td>\n",
       "      <td>+</td>\n",
       "      <td>1</td>\n",
       "      <td>V1_Mouse_Brain_Sagittal_Anterior</td>\n",
       "      <td>chr19_12247_plus</td>\n",
       "    </tr>\n",
       "    <tr>\n",
       "      <th>1671943</th>\n",
       "      <td>V1_Mouse_Brain_Sagittal_Anterior_GTGTATATCAGCGGGC</td>\n",
       "      <td>chr19</td>\n",
       "      <td>61270271</td>\n",
       "      <td>+</td>\n",
       "      <td>1</td>\n",
       "      <td>V1_Mouse_Brain_Sagittal_Anterior</td>\n",
       "      <td>chr19_12255_plus</td>\n",
       "    </tr>\n",
       "  </tbody>\n",
       "</table>\n",
       "<p>1671944 rows × 7 columns</p>\n",
       "</div>"
      ],
      "text/plain": [
       "                                                         0      1         2  \\\n",
       "0        V1_Mouse_Brain_Sagittal_Anterior_GAATAGCCCTGCGGTC  chr19   3206611   \n",
       "1        V1_Mouse_Brain_Sagittal_Anterior_AGATACCGGTGTTCAC  chr19   3249998   \n",
       "2        V1_Mouse_Brain_Sagittal_Anterior_GCCCGACTTCTTCCCG  chr19   3251685   \n",
       "3        V1_Mouse_Brain_Sagittal_Anterior_GGCGCTTCATTCCCTG  chr19   3251738   \n",
       "4        V1_Mouse_Brain_Sagittal_Anterior_AACCGAGCTTGGTCAT  chr19   3251685   \n",
       "...                                                    ...    ...       ...   \n",
       "1671939  V1_Mouse_Brain_Sagittal_Anterior_TCGTTTACGCGACCCT  chr19  61233233   \n",
       "1671940  V1_Mouse_Brain_Sagittal_Anterior_AATAGAACAGAGTGGC  chr19  61233213   \n",
       "1671941  V1_Mouse_Brain_Sagittal_Anterior_AGGATATCCGACTGCA  chr19  61233223   \n",
       "1671942  V1_Mouse_Brain_Sagittal_Anterior_AACCAAGACTTCTCTG  chr19  61233235   \n",
       "1671943  V1_Mouse_Brain_Sagittal_Anterior_GTGTATATCAGCGGGC  chr19  61270271   \n",
       "\n",
       "         3  4                                 5                 6  \n",
       "0        -  1  V1_Mouse_Brain_Sagittal_Anterior   chr19_642_minus  \n",
       "1        -  1  V1_Mouse_Brain_Sagittal_Anterior   chr19_650_minus  \n",
       "2        -  1  V1_Mouse_Brain_Sagittal_Anterior   chr19_651_minus  \n",
       "3        -  1  V1_Mouse_Brain_Sagittal_Anterior   chr19_651_minus  \n",
       "4        -  1  V1_Mouse_Brain_Sagittal_Anterior   chr19_651_minus  \n",
       "...     .. ..                               ...               ...  \n",
       "1671939  +  1  V1_Mouse_Brain_Sagittal_Anterior  chr19_12247_plus  \n",
       "1671940  +  1  V1_Mouse_Brain_Sagittal_Anterior  chr19_12247_plus  \n",
       "1671941  +  1  V1_Mouse_Brain_Sagittal_Anterior  chr19_12247_plus  \n",
       "1671942  +  1  V1_Mouse_Brain_Sagittal_Anterior  chr19_12247_plus  \n",
       "1671943  +  1  V1_Mouse_Brain_Sagittal_Anterior  chr19_12255_plus  \n",
       "\n",
       "[1671944 rows x 7 columns]"
      ]
     },
     "execution_count": 21,
     "metadata": {},
     "output_type": "execute_result"
    }
   ],
   "source": [
    "df"
   ]
  },
  {
   "cell_type": "code",
   "execution_count": null,
   "id": "d84d8a2c",
   "metadata": {},
   "outputs": [],
   "source": [
    "zdf.sort_values(\"\")"
   ]
  },
  {
   "cell_type": "code",
   "execution_count": 75,
   "id": "588ca80d",
   "metadata": {
    "ExecuteTime": {
     "end_time": "2022-06-20T21:18:21.984979Z",
     "start_time": "2022-06-20T21:18:21.886455Z"
    }
   },
   "outputs": [
    {
     "data": {
      "text/plain": [
       "0    4602583\n",
       "3    4577787\n",
       "1    4527598\n",
       "2    4493866\n",
       "Name: quant, dtype: int64"
      ]
     },
     "execution_count": 75,
     "metadata": {},
     "output_type": "execute_result"
    }
   ],
   "source": [
    "zdf[\"quant\"].value_counts()"
   ]
  },
  {
   "cell_type": "code",
   "execution_count": 76,
   "id": "18597d6d",
   "metadata": {
    "ExecuteTime": {
     "end_time": "2022-06-20T21:18:48.474846Z",
     "start_time": "2022-06-20T21:18:41.723638Z"
    }
   },
   "outputs": [],
   "source": [
    "temp = zdf[zdf[\"window\"] == \"chr19_1997_plus\"]"
   ]
  },
  {
   "cell_type": "code",
   "execution_count": 77,
   "id": "e9288025",
   "metadata": {
    "ExecuteTime": {
     "end_time": "2022-06-20T21:19:05.808854Z",
     "start_time": "2022-06-20T21:19:05.803125Z"
    }
   },
   "outputs": [
    {
     "data": {
      "text/plain": [
       "3    1191\n",
       "0    1191\n",
       "2    1190\n",
       "1    1190\n",
       "Name: quant, dtype: int64"
      ]
     },
     "execution_count": 77,
     "metadata": {},
     "output_type": "execute_result"
    }
   ],
   "source": [
    "temp['quant'].value_counts()"
   ]
  },
  {
   "cell_type": "code",
   "execution_count": 49,
   "id": "7b77db7b",
   "metadata": {
    "ExecuteTime": {
     "end_time": "2022-06-20T21:00:55.586319Z",
     "start_time": "2022-06-20T21:00:45.619258Z"
    }
   },
   "outputs": [
    {
     "ename": "ValueError",
     "evalue": "Bin edges must be unique: array([1., 1., 1., 1., 1.]).\nYou can drop duplicate edges by setting the 'duplicates' kwarg",
     "output_type": "error",
     "traceback": [
      "\u001b[0;31m---------------------------------------------------------------------------\u001b[0m",
      "\u001b[0;31mValueError\u001b[0m                                Traceback (most recent call last)",
      "\u001b[0;32m/tmp/ipykernel_4419/240575009.py\u001b[0m in \u001b[0;36m<module>\u001b[0;34m\u001b[0m\n\u001b[1;32m      1\u001b[0m zdf['quant'] = (\n\u001b[0;32m----> 2\u001b[0;31m     \u001b[0mzdf\u001b[0m\u001b[0;34m.\u001b[0m\u001b[0mgroupby\u001b[0m\u001b[0;34m(\u001b[0m\u001b[0;34m'window'\u001b[0m\u001b[0;34m)\u001b[0m\u001b[0;34m[\u001b[0m\u001b[0;34m'rank'\u001b[0m\u001b[0;34m]\u001b[0m\u001b[0;34m\u001b[0m\u001b[0;34m\u001b[0m\u001b[0m\n\u001b[0m\u001b[1;32m      3\u001b[0m         \u001b[0;34m.\u001b[0m\u001b[0mtransform\u001b[0m\u001b[0;34m(\u001b[0m\u001b[0;32mlambda\u001b[0m \u001b[0mg\u001b[0m\u001b[0;34m:\u001b[0m \u001b[0mpd\u001b[0m\u001b[0;34m.\u001b[0m\u001b[0mqcut\u001b[0m\u001b[0;34m(\u001b[0m\u001b[0mg\u001b[0m\u001b[0;34m,\u001b[0m \u001b[0mq\u001b[0m\u001b[0;34m=\u001b[0m\u001b[0;36m4\u001b[0m\u001b[0;34m,\u001b[0m \u001b[0mlabels\u001b[0m\u001b[0;34m=\u001b[0m\u001b[0;32mFalse\u001b[0m\u001b[0;34m)\u001b[0m\u001b[0;34m)\u001b[0m\u001b[0;34m\u001b[0m\u001b[0;34m\u001b[0m\u001b[0m\n\u001b[1;32m      4\u001b[0m )\n",
      "\u001b[0;32m~/.local/lib/python3.9/site-packages/pandas/core/groupby/generic.py\u001b[0m in \u001b[0;36mtransform\u001b[0;34m(self, func, engine, engine_kwargs, *args, **kwargs)\u001b[0m\n\u001b[1;32m    503\u001b[0m     \u001b[0;34m@\u001b[0m\u001b[0mAppender\u001b[0m\u001b[0;34m(\u001b[0m\u001b[0m_transform_template\u001b[0m\u001b[0;34m)\u001b[0m\u001b[0;34m\u001b[0m\u001b[0;34m\u001b[0m\u001b[0m\n\u001b[1;32m    504\u001b[0m     \u001b[0;32mdef\u001b[0m \u001b[0mtransform\u001b[0m\u001b[0;34m(\u001b[0m\u001b[0mself\u001b[0m\u001b[0;34m,\u001b[0m \u001b[0mfunc\u001b[0m\u001b[0;34m,\u001b[0m \u001b[0;34m*\u001b[0m\u001b[0margs\u001b[0m\u001b[0;34m,\u001b[0m \u001b[0mengine\u001b[0m\u001b[0;34m=\u001b[0m\u001b[0;32mNone\u001b[0m\u001b[0;34m,\u001b[0m \u001b[0mengine_kwargs\u001b[0m\u001b[0;34m=\u001b[0m\u001b[0;32mNone\u001b[0m\u001b[0;34m,\u001b[0m \u001b[0;34m**\u001b[0m\u001b[0mkwargs\u001b[0m\u001b[0;34m)\u001b[0m\u001b[0;34m:\u001b[0m\u001b[0;34m\u001b[0m\u001b[0;34m\u001b[0m\u001b[0m\n\u001b[0;32m--> 505\u001b[0;31m         return self._transform(\n\u001b[0m\u001b[1;32m    506\u001b[0m             \u001b[0mfunc\u001b[0m\u001b[0;34m,\u001b[0m \u001b[0;34m*\u001b[0m\u001b[0margs\u001b[0m\u001b[0;34m,\u001b[0m \u001b[0mengine\u001b[0m\u001b[0;34m=\u001b[0m\u001b[0mengine\u001b[0m\u001b[0;34m,\u001b[0m \u001b[0mengine_kwargs\u001b[0m\u001b[0;34m=\u001b[0m\u001b[0mengine_kwargs\u001b[0m\u001b[0;34m,\u001b[0m \u001b[0;34m**\u001b[0m\u001b[0mkwargs\u001b[0m\u001b[0;34m\u001b[0m\u001b[0;34m\u001b[0m\u001b[0m\n\u001b[1;32m    507\u001b[0m         )\n",
      "\u001b[0;32m~/.local/lib/python3.9/site-packages/pandas/core/groupby/groupby.py\u001b[0m in \u001b[0;36m_transform\u001b[0;34m(self, func, engine, engine_kwargs, *args, **kwargs)\u001b[0m\n\u001b[1;32m   1422\u001b[0m \u001b[0;34m\u001b[0m\u001b[0m\n\u001b[1;32m   1423\u001b[0m         \u001b[0;32mif\u001b[0m \u001b[0;32mnot\u001b[0m \u001b[0misinstance\u001b[0m\u001b[0;34m(\u001b[0m\u001b[0mfunc\u001b[0m\u001b[0;34m,\u001b[0m \u001b[0mstr\u001b[0m\u001b[0;34m)\u001b[0m\u001b[0;34m:\u001b[0m\u001b[0;34m\u001b[0m\u001b[0;34m\u001b[0m\u001b[0m\n\u001b[0;32m-> 1424\u001b[0;31m             \u001b[0;32mreturn\u001b[0m \u001b[0mself\u001b[0m\u001b[0;34m.\u001b[0m\u001b[0m_transform_general\u001b[0m\u001b[0;34m(\u001b[0m\u001b[0mfunc\u001b[0m\u001b[0;34m,\u001b[0m \u001b[0;34m*\u001b[0m\u001b[0margs\u001b[0m\u001b[0;34m,\u001b[0m \u001b[0;34m**\u001b[0m\u001b[0mkwargs\u001b[0m\u001b[0;34m)\u001b[0m\u001b[0;34m\u001b[0m\u001b[0;34m\u001b[0m\u001b[0m\n\u001b[0m\u001b[1;32m   1425\u001b[0m \u001b[0;34m\u001b[0m\u001b[0m\n\u001b[1;32m   1426\u001b[0m         \u001b[0;32melif\u001b[0m \u001b[0mfunc\u001b[0m \u001b[0;32mnot\u001b[0m \u001b[0;32min\u001b[0m \u001b[0mbase\u001b[0m\u001b[0;34m.\u001b[0m\u001b[0mtransform_kernel_allowlist\u001b[0m\u001b[0;34m:\u001b[0m\u001b[0;34m\u001b[0m\u001b[0;34m\u001b[0m\u001b[0m\n",
      "\u001b[0;32m~/.local/lib/python3.9/site-packages/pandas/core/groupby/generic.py\u001b[0m in \u001b[0;36m_transform_general\u001b[0;34m(self, func, *args, **kwargs)\u001b[0m\n\u001b[1;32m    534\u001b[0m             \u001b[0;31m# this setattr is needed for test_transform_lambda_with_datetimetz\u001b[0m\u001b[0;34m\u001b[0m\u001b[0;34m\u001b[0m\u001b[0;34m\u001b[0m\u001b[0m\n\u001b[1;32m    535\u001b[0m             \u001b[0mobject\u001b[0m\u001b[0;34m.\u001b[0m\u001b[0m__setattr__\u001b[0m\u001b[0;34m(\u001b[0m\u001b[0mgroup\u001b[0m\u001b[0;34m,\u001b[0m \u001b[0;34m\"name\"\u001b[0m\u001b[0;34m,\u001b[0m \u001b[0mname\u001b[0m\u001b[0;34m)\u001b[0m\u001b[0;34m\u001b[0m\u001b[0;34m\u001b[0m\u001b[0m\n\u001b[0;32m--> 536\u001b[0;31m             \u001b[0mres\u001b[0m \u001b[0;34m=\u001b[0m \u001b[0mfunc\u001b[0m\u001b[0;34m(\u001b[0m\u001b[0mgroup\u001b[0m\u001b[0;34m,\u001b[0m \u001b[0;34m*\u001b[0m\u001b[0margs\u001b[0m\u001b[0;34m,\u001b[0m \u001b[0;34m**\u001b[0m\u001b[0mkwargs\u001b[0m\u001b[0;34m)\u001b[0m\u001b[0;34m\u001b[0m\u001b[0;34m\u001b[0m\u001b[0m\n\u001b[0m\u001b[1;32m    537\u001b[0m \u001b[0;34m\u001b[0m\u001b[0m\n\u001b[1;32m    538\u001b[0m             \u001b[0mresults\u001b[0m\u001b[0;34m.\u001b[0m\u001b[0mappend\u001b[0m\u001b[0;34m(\u001b[0m\u001b[0mklass\u001b[0m\u001b[0;34m(\u001b[0m\u001b[0mres\u001b[0m\u001b[0;34m,\u001b[0m \u001b[0mindex\u001b[0m\u001b[0;34m=\u001b[0m\u001b[0mgroup\u001b[0m\u001b[0;34m.\u001b[0m\u001b[0mindex\u001b[0m\u001b[0;34m)\u001b[0m\u001b[0;34m)\u001b[0m\u001b[0;34m\u001b[0m\u001b[0;34m\u001b[0m\u001b[0m\n",
      "\u001b[0;32m/tmp/ipykernel_4419/240575009.py\u001b[0m in \u001b[0;36m<lambda>\u001b[0;34m(g)\u001b[0m\n\u001b[1;32m      1\u001b[0m zdf['quant'] = (\n\u001b[1;32m      2\u001b[0m     \u001b[0mzdf\u001b[0m\u001b[0;34m.\u001b[0m\u001b[0mgroupby\u001b[0m\u001b[0;34m(\u001b[0m\u001b[0;34m'window'\u001b[0m\u001b[0;34m)\u001b[0m\u001b[0;34m[\u001b[0m\u001b[0;34m'rank'\u001b[0m\u001b[0;34m]\u001b[0m\u001b[0;34m\u001b[0m\u001b[0;34m\u001b[0m\u001b[0m\n\u001b[0;32m----> 3\u001b[0;31m         \u001b[0;34m.\u001b[0m\u001b[0mtransform\u001b[0m\u001b[0;34m(\u001b[0m\u001b[0;32mlambda\u001b[0m \u001b[0mg\u001b[0m\u001b[0;34m:\u001b[0m \u001b[0mpd\u001b[0m\u001b[0;34m.\u001b[0m\u001b[0mqcut\u001b[0m\u001b[0;34m(\u001b[0m\u001b[0mg\u001b[0m\u001b[0;34m,\u001b[0m \u001b[0mq\u001b[0m\u001b[0;34m=\u001b[0m\u001b[0;36m4\u001b[0m\u001b[0;34m,\u001b[0m \u001b[0mlabels\u001b[0m\u001b[0;34m=\u001b[0m\u001b[0;32mFalse\u001b[0m\u001b[0;34m)\u001b[0m\u001b[0;34m)\u001b[0m\u001b[0;34m\u001b[0m\u001b[0;34m\u001b[0m\u001b[0m\n\u001b[0m\u001b[1;32m      4\u001b[0m )\n",
      "\u001b[0;32m~/.local/lib/python3.9/site-packages/pandas/core/reshape/tile.py\u001b[0m in \u001b[0;36mqcut\u001b[0;34m(x, q, labels, retbins, precision, duplicates)\u001b[0m\n\u001b[1;32m    370\u001b[0m         \u001b[0mquantiles\u001b[0m \u001b[0;34m=\u001b[0m \u001b[0mq\u001b[0m\u001b[0;34m\u001b[0m\u001b[0;34m\u001b[0m\u001b[0m\n\u001b[1;32m    371\u001b[0m     \u001b[0mbins\u001b[0m \u001b[0;34m=\u001b[0m \u001b[0malgos\u001b[0m\u001b[0;34m.\u001b[0m\u001b[0mquantile\u001b[0m\u001b[0;34m(\u001b[0m\u001b[0mx\u001b[0m\u001b[0;34m,\u001b[0m \u001b[0mquantiles\u001b[0m\u001b[0;34m)\u001b[0m\u001b[0;34m\u001b[0m\u001b[0;34m\u001b[0m\u001b[0m\n\u001b[0;32m--> 372\u001b[0;31m     fac, bins = _bins_to_cuts(\n\u001b[0m\u001b[1;32m    373\u001b[0m         \u001b[0mx\u001b[0m\u001b[0;34m,\u001b[0m\u001b[0;34m\u001b[0m\u001b[0;34m\u001b[0m\u001b[0m\n\u001b[1;32m    374\u001b[0m         \u001b[0mbins\u001b[0m\u001b[0;34m,\u001b[0m\u001b[0;34m\u001b[0m\u001b[0;34m\u001b[0m\u001b[0m\n",
      "\u001b[0;32m~/.local/lib/python3.9/site-packages/pandas/core/reshape/tile.py\u001b[0m in \u001b[0;36m_bins_to_cuts\u001b[0;34m(x, bins, right, labels, precision, include_lowest, dtype, duplicates, ordered)\u001b[0m\n\u001b[1;32m    411\u001b[0m     \u001b[0;32mif\u001b[0m \u001b[0mlen\u001b[0m\u001b[0;34m(\u001b[0m\u001b[0munique_bins\u001b[0m\u001b[0;34m)\u001b[0m \u001b[0;34m<\u001b[0m \u001b[0mlen\u001b[0m\u001b[0;34m(\u001b[0m\u001b[0mbins\u001b[0m\u001b[0;34m)\u001b[0m \u001b[0;32mand\u001b[0m \u001b[0mlen\u001b[0m\u001b[0;34m(\u001b[0m\u001b[0mbins\u001b[0m\u001b[0;34m)\u001b[0m \u001b[0;34m!=\u001b[0m \u001b[0;36m2\u001b[0m\u001b[0;34m:\u001b[0m\u001b[0;34m\u001b[0m\u001b[0;34m\u001b[0m\u001b[0m\n\u001b[1;32m    412\u001b[0m         \u001b[0;32mif\u001b[0m \u001b[0mduplicates\u001b[0m \u001b[0;34m==\u001b[0m \u001b[0;34m\"raise\"\u001b[0m\u001b[0;34m:\u001b[0m\u001b[0;34m\u001b[0m\u001b[0;34m\u001b[0m\u001b[0m\n\u001b[0;32m--> 413\u001b[0;31m             raise ValueError(\n\u001b[0m\u001b[1;32m    414\u001b[0m                 \u001b[0;34mf\"Bin edges must be unique: {repr(bins)}.\\n\"\u001b[0m\u001b[0;34m\u001b[0m\u001b[0;34m\u001b[0m\u001b[0m\n\u001b[1;32m    415\u001b[0m                 \u001b[0;34mf\"You can drop duplicate edges by setting the 'duplicates' kwarg\"\u001b[0m\u001b[0;34m\u001b[0m\u001b[0;34m\u001b[0m\u001b[0m\n",
      "\u001b[0;31mValueError\u001b[0m: Bin edges must be unique: array([1., 1., 1., 1., 1.]).\nYou can drop duplicate edges by setting the 'duplicates' kwarg"
     ]
    }
   ],
   "source": [
    "zdf['quant'] = (\n",
    "    zdf.groupby('window')['rank']\n",
    "        .transform(lambda g: pd.qcut(g, q=4, labels=False))\n",
    ")\n"
   ]
  },
  {
   "cell_type": "code",
   "execution_count": 61,
   "id": "8de8badc",
   "metadata": {
    "ExecuteTime": {
     "end_time": "2022-06-20T21:06:45.246701Z",
     "start_time": "2022-06-20T21:06:14.203628Z"
    }
   },
   "outputs": [
    {
     "ename": "KeyError",
     "evalue": "'rank'",
     "output_type": "error",
     "traceback": [
      "\u001b[0;31m---------------------------------------------------------------------------\u001b[0m",
      "\u001b[0;31mKeyError\u001b[0m                                  Traceback (most recent call last)",
      "\u001b[0;32m~/.local/lib/python3.9/site-packages/pandas/core/indexes/base.py\u001b[0m in \u001b[0;36mget_loc\u001b[0;34m(self, key, method, tolerance)\u001b[0m\n\u001b[1;32m   3360\u001b[0m             \u001b[0;32mtry\u001b[0m\u001b[0;34m:\u001b[0m\u001b[0;34m\u001b[0m\u001b[0;34m\u001b[0m\u001b[0m\n\u001b[0;32m-> 3361\u001b[0;31m                 \u001b[0;32mreturn\u001b[0m \u001b[0mself\u001b[0m\u001b[0;34m.\u001b[0m\u001b[0m_engine\u001b[0m\u001b[0;34m.\u001b[0m\u001b[0mget_loc\u001b[0m\u001b[0;34m(\u001b[0m\u001b[0mcasted_key\u001b[0m\u001b[0;34m)\u001b[0m\u001b[0;34m\u001b[0m\u001b[0;34m\u001b[0m\u001b[0m\n\u001b[0m\u001b[1;32m   3362\u001b[0m             \u001b[0;32mexcept\u001b[0m \u001b[0mKeyError\u001b[0m \u001b[0;32mas\u001b[0m \u001b[0merr\u001b[0m\u001b[0;34m:\u001b[0m\u001b[0;34m\u001b[0m\u001b[0;34m\u001b[0m\u001b[0m\n",
      "\u001b[0;32m~/.local/lib/python3.9/site-packages/pandas/_libs/index.pyx\u001b[0m in \u001b[0;36mpandas._libs.index.IndexEngine.get_loc\u001b[0;34m()\u001b[0m\n",
      "\u001b[0;32mpandas/_libs/index_class_helper.pxi\u001b[0m in \u001b[0;36mpandas._libs.index.Int64Engine._check_type\u001b[0;34m()\u001b[0m\n",
      "\u001b[0;32mpandas/_libs/index_class_helper.pxi\u001b[0m in \u001b[0;36mpandas._libs.index.Int64Engine._check_type\u001b[0;34m()\u001b[0m\n",
      "\u001b[0;31mKeyError\u001b[0m: 'rank'",
      "\nThe above exception was the direct cause of the following exception:\n",
      "\u001b[0;31mKeyError\u001b[0m                                  Traceback (most recent call last)",
      "\u001b[0;32m/tmp/ipykernel_4419/1839683864.py\u001b[0m in \u001b[0;36m<module>\u001b[0;34m\u001b[0m\n\u001b[0;32m----> 1\u001b[0;31m \u001b[0mzdf\u001b[0m\u001b[0;34m.\u001b[0m\u001b[0mgroupby\u001b[0m\u001b[0;34m(\u001b[0m\u001b[0;34m'window'\u001b[0m\u001b[0;34m)\u001b[0m\u001b[0;34m.\u001b[0m\u001b[0mtransform\u001b[0m\u001b[0;34m(\u001b[0m\u001b[0;32mlambda\u001b[0m \u001b[0mg\u001b[0m\u001b[0;34m:\u001b[0m \u001b[0mpd\u001b[0m\u001b[0;34m.\u001b[0m\u001b[0mqcut\u001b[0m\u001b[0;34m(\u001b[0m\u001b[0mg\u001b[0m\u001b[0;34m[\u001b[0m\u001b[0;34m\"rank\"\u001b[0m\u001b[0;34m]\u001b[0m\u001b[0;34m,\u001b[0m \u001b[0mq\u001b[0m\u001b[0;34m=\u001b[0m\u001b[0;36m4\u001b[0m\u001b[0;34m,\u001b[0m \u001b[0mlabels\u001b[0m\u001b[0;34m=\u001b[0m\u001b[0;32mFalse\u001b[0m\u001b[0;34m)\u001b[0m\u001b[0;34m)\u001b[0m\u001b[0;34m\u001b[0m\u001b[0;34m\u001b[0m\u001b[0m\n\u001b[0m",
      "\u001b[0;32m~/.local/lib/python3.9/site-packages/pandas/core/groupby/generic.py\u001b[0m in \u001b[0;36mtransform\u001b[0;34m(self, func, engine, engine_kwargs, *args, **kwargs)\u001b[0m\n\u001b[1;32m   1355\u001b[0m     \u001b[0;34m@\u001b[0m\u001b[0mAppender\u001b[0m\u001b[0;34m(\u001b[0m\u001b[0m_transform_template\u001b[0m\u001b[0;34m)\u001b[0m\u001b[0;34m\u001b[0m\u001b[0;34m\u001b[0m\u001b[0m\n\u001b[1;32m   1356\u001b[0m     \u001b[0;32mdef\u001b[0m \u001b[0mtransform\u001b[0m\u001b[0;34m(\u001b[0m\u001b[0mself\u001b[0m\u001b[0;34m,\u001b[0m \u001b[0mfunc\u001b[0m\u001b[0;34m,\u001b[0m \u001b[0;34m*\u001b[0m\u001b[0margs\u001b[0m\u001b[0;34m,\u001b[0m \u001b[0mengine\u001b[0m\u001b[0;34m=\u001b[0m\u001b[0;32mNone\u001b[0m\u001b[0;34m,\u001b[0m \u001b[0mengine_kwargs\u001b[0m\u001b[0;34m=\u001b[0m\u001b[0;32mNone\u001b[0m\u001b[0;34m,\u001b[0m \u001b[0;34m**\u001b[0m\u001b[0mkwargs\u001b[0m\u001b[0;34m)\u001b[0m\u001b[0;34m:\u001b[0m\u001b[0;34m\u001b[0m\u001b[0;34m\u001b[0m\u001b[0m\n\u001b[0;32m-> 1357\u001b[0;31m         return self._transform(\n\u001b[0m\u001b[1;32m   1358\u001b[0m             \u001b[0mfunc\u001b[0m\u001b[0;34m,\u001b[0m \u001b[0;34m*\u001b[0m\u001b[0margs\u001b[0m\u001b[0;34m,\u001b[0m \u001b[0mengine\u001b[0m\u001b[0;34m=\u001b[0m\u001b[0mengine\u001b[0m\u001b[0;34m,\u001b[0m \u001b[0mengine_kwargs\u001b[0m\u001b[0;34m=\u001b[0m\u001b[0mengine_kwargs\u001b[0m\u001b[0;34m,\u001b[0m \u001b[0;34m**\u001b[0m\u001b[0mkwargs\u001b[0m\u001b[0;34m\u001b[0m\u001b[0;34m\u001b[0m\u001b[0m\n\u001b[1;32m   1359\u001b[0m         )\n",
      "\u001b[0;32m~/.local/lib/python3.9/site-packages/pandas/core/groupby/groupby.py\u001b[0m in \u001b[0;36m_transform\u001b[0;34m(self, func, engine, engine_kwargs, *args, **kwargs)\u001b[0m\n\u001b[1;32m   1422\u001b[0m \u001b[0;34m\u001b[0m\u001b[0m\n\u001b[1;32m   1423\u001b[0m         \u001b[0;32mif\u001b[0m \u001b[0;32mnot\u001b[0m \u001b[0misinstance\u001b[0m\u001b[0;34m(\u001b[0m\u001b[0mfunc\u001b[0m\u001b[0;34m,\u001b[0m \u001b[0mstr\u001b[0m\u001b[0;34m)\u001b[0m\u001b[0;34m:\u001b[0m\u001b[0;34m\u001b[0m\u001b[0;34m\u001b[0m\u001b[0m\n\u001b[0;32m-> 1424\u001b[0;31m             \u001b[0;32mreturn\u001b[0m \u001b[0mself\u001b[0m\u001b[0;34m.\u001b[0m\u001b[0m_transform_general\u001b[0m\u001b[0;34m(\u001b[0m\u001b[0mfunc\u001b[0m\u001b[0;34m,\u001b[0m \u001b[0;34m*\u001b[0m\u001b[0margs\u001b[0m\u001b[0;34m,\u001b[0m \u001b[0;34m**\u001b[0m\u001b[0mkwargs\u001b[0m\u001b[0;34m)\u001b[0m\u001b[0;34m\u001b[0m\u001b[0;34m\u001b[0m\u001b[0m\n\u001b[0m\u001b[1;32m   1425\u001b[0m \u001b[0;34m\u001b[0m\u001b[0m\n\u001b[1;32m   1426\u001b[0m         \u001b[0;32melif\u001b[0m \u001b[0mfunc\u001b[0m \u001b[0;32mnot\u001b[0m \u001b[0;32min\u001b[0m \u001b[0mbase\u001b[0m\u001b[0;34m.\u001b[0m\u001b[0mtransform_kernel_allowlist\u001b[0m\u001b[0;34m:\u001b[0m\u001b[0;34m\u001b[0m\u001b[0;34m\u001b[0m\u001b[0m\n",
      "\u001b[0;32m~/.local/lib/python3.9/site-packages/pandas/core/groupby/generic.py\u001b[0m in \u001b[0;36m_transform_general\u001b[0;34m(self, func, *args, **kwargs)\u001b[0m\n\u001b[1;32m   1315\u001b[0m             \u001b[0;31m# Try slow path and fast path.\u001b[0m\u001b[0;34m\u001b[0m\u001b[0;34m\u001b[0m\u001b[0;34m\u001b[0m\u001b[0m\n\u001b[1;32m   1316\u001b[0m             \u001b[0;32mtry\u001b[0m\u001b[0;34m:\u001b[0m\u001b[0;34m\u001b[0m\u001b[0;34m\u001b[0m\u001b[0m\n\u001b[0;32m-> 1317\u001b[0;31m                 \u001b[0mpath\u001b[0m\u001b[0;34m,\u001b[0m \u001b[0mres\u001b[0m \u001b[0;34m=\u001b[0m \u001b[0mself\u001b[0m\u001b[0;34m.\u001b[0m\u001b[0m_choose_path\u001b[0m\u001b[0;34m(\u001b[0m\u001b[0mfast_path\u001b[0m\u001b[0;34m,\u001b[0m \u001b[0mslow_path\u001b[0m\u001b[0;34m,\u001b[0m \u001b[0mgroup\u001b[0m\u001b[0;34m)\u001b[0m\u001b[0;34m\u001b[0m\u001b[0;34m\u001b[0m\u001b[0m\n\u001b[0m\u001b[1;32m   1318\u001b[0m             \u001b[0;32mexcept\u001b[0m \u001b[0mTypeError\u001b[0m\u001b[0;34m:\u001b[0m\u001b[0;34m\u001b[0m\u001b[0;34m\u001b[0m\u001b[0m\n\u001b[1;32m   1319\u001b[0m                 \u001b[0;32mreturn\u001b[0m \u001b[0mself\u001b[0m\u001b[0;34m.\u001b[0m\u001b[0m_transform_item_by_item\u001b[0m\u001b[0;34m(\u001b[0m\u001b[0mobj\u001b[0m\u001b[0;34m,\u001b[0m \u001b[0mfast_path\u001b[0m\u001b[0;34m)\u001b[0m\u001b[0;34m\u001b[0m\u001b[0;34m\u001b[0m\u001b[0m\n",
      "\u001b[0;32m~/.local/lib/python3.9/site-packages/pandas/core/groupby/generic.py\u001b[0m in \u001b[0;36m_choose_path\u001b[0;34m(self, fast_path, slow_path, group)\u001b[0m\n\u001b[1;32m   1392\u001b[0m     \u001b[0;32mdef\u001b[0m \u001b[0m_choose_path\u001b[0m\u001b[0;34m(\u001b[0m\u001b[0mself\u001b[0m\u001b[0;34m,\u001b[0m \u001b[0mfast_path\u001b[0m\u001b[0;34m:\u001b[0m \u001b[0mCallable\u001b[0m\u001b[0;34m,\u001b[0m \u001b[0mslow_path\u001b[0m\u001b[0;34m:\u001b[0m \u001b[0mCallable\u001b[0m\u001b[0;34m,\u001b[0m \u001b[0mgroup\u001b[0m\u001b[0;34m:\u001b[0m \u001b[0mDataFrame\u001b[0m\u001b[0;34m)\u001b[0m\u001b[0;34m:\u001b[0m\u001b[0;34m\u001b[0m\u001b[0;34m\u001b[0m\u001b[0m\n\u001b[1;32m   1393\u001b[0m         \u001b[0mpath\u001b[0m \u001b[0;34m=\u001b[0m \u001b[0mslow_path\u001b[0m\u001b[0;34m\u001b[0m\u001b[0;34m\u001b[0m\u001b[0m\n\u001b[0;32m-> 1394\u001b[0;31m         \u001b[0mres\u001b[0m \u001b[0;34m=\u001b[0m \u001b[0mslow_path\u001b[0m\u001b[0;34m(\u001b[0m\u001b[0mgroup\u001b[0m\u001b[0;34m)\u001b[0m\u001b[0;34m\u001b[0m\u001b[0;34m\u001b[0m\u001b[0m\n\u001b[0m\u001b[1;32m   1395\u001b[0m \u001b[0;34m\u001b[0m\u001b[0m\n\u001b[1;32m   1396\u001b[0m         \u001b[0;31m# if we make it here, test if we can use the fast path\u001b[0m\u001b[0;34m\u001b[0m\u001b[0;34m\u001b[0m\u001b[0;34m\u001b[0m\u001b[0m\n",
      "\u001b[0;32m~/.local/lib/python3.9/site-packages/pandas/core/groupby/generic.py\u001b[0m in \u001b[0;36m<lambda>\u001b[0;34m(group)\u001b[0m\n\u001b[1;32m   1385\u001b[0m         \u001b[0;32melse\u001b[0m\u001b[0;34m:\u001b[0m\u001b[0;34m\u001b[0m\u001b[0;34m\u001b[0m\u001b[0m\n\u001b[1;32m   1386\u001b[0m             \u001b[0mfast_path\u001b[0m \u001b[0;34m=\u001b[0m \u001b[0;32mlambda\u001b[0m \u001b[0mgroup\u001b[0m\u001b[0;34m:\u001b[0m \u001b[0mfunc\u001b[0m\u001b[0;34m(\u001b[0m\u001b[0mgroup\u001b[0m\u001b[0;34m,\u001b[0m \u001b[0;34m*\u001b[0m\u001b[0margs\u001b[0m\u001b[0;34m,\u001b[0m \u001b[0;34m**\u001b[0m\u001b[0mkwargs\u001b[0m\u001b[0;34m)\u001b[0m\u001b[0;34m\u001b[0m\u001b[0;34m\u001b[0m\u001b[0m\n\u001b[0;32m-> 1387\u001b[0;31m             slow_path = lambda group: group.apply(\n\u001b[0m\u001b[1;32m   1388\u001b[0m                 \u001b[0;32mlambda\u001b[0m \u001b[0mx\u001b[0m\u001b[0;34m:\u001b[0m \u001b[0mfunc\u001b[0m\u001b[0;34m(\u001b[0m\u001b[0mx\u001b[0m\u001b[0;34m,\u001b[0m \u001b[0;34m*\u001b[0m\u001b[0margs\u001b[0m\u001b[0;34m,\u001b[0m \u001b[0;34m**\u001b[0m\u001b[0mkwargs\u001b[0m\u001b[0;34m)\u001b[0m\u001b[0;34m,\u001b[0m \u001b[0maxis\u001b[0m\u001b[0;34m=\u001b[0m\u001b[0mself\u001b[0m\u001b[0;34m.\u001b[0m\u001b[0maxis\u001b[0m\u001b[0;34m\u001b[0m\u001b[0;34m\u001b[0m\u001b[0m\n\u001b[1;32m   1389\u001b[0m             )\n",
      "\u001b[0;32m~/.local/lib/python3.9/site-packages/pandas/core/frame.py\u001b[0m in \u001b[0;36mapply\u001b[0;34m(self, func, axis, raw, result_type, args, **kwargs)\u001b[0m\n\u001b[1;32m   8734\u001b[0m             \u001b[0mkwargs\u001b[0m\u001b[0;34m=\u001b[0m\u001b[0mkwargs\u001b[0m\u001b[0;34m,\u001b[0m\u001b[0;34m\u001b[0m\u001b[0;34m\u001b[0m\u001b[0m\n\u001b[1;32m   8735\u001b[0m         )\n\u001b[0;32m-> 8736\u001b[0;31m         \u001b[0;32mreturn\u001b[0m \u001b[0mop\u001b[0m\u001b[0;34m.\u001b[0m\u001b[0mapply\u001b[0m\u001b[0;34m(\u001b[0m\u001b[0;34m)\u001b[0m\u001b[0;34m\u001b[0m\u001b[0;34m\u001b[0m\u001b[0m\n\u001b[0m\u001b[1;32m   8737\u001b[0m \u001b[0;34m\u001b[0m\u001b[0m\n\u001b[1;32m   8738\u001b[0m     def applymap(\n",
      "\u001b[0;32m~/.local/lib/python3.9/site-packages/pandas/core/apply.py\u001b[0m in \u001b[0;36mapply\u001b[0;34m(self)\u001b[0m\n\u001b[1;32m    686\u001b[0m             \u001b[0;32mreturn\u001b[0m \u001b[0mself\u001b[0m\u001b[0;34m.\u001b[0m\u001b[0mapply_raw\u001b[0m\u001b[0;34m(\u001b[0m\u001b[0;34m)\u001b[0m\u001b[0;34m\u001b[0m\u001b[0;34m\u001b[0m\u001b[0m\n\u001b[1;32m    687\u001b[0m \u001b[0;34m\u001b[0m\u001b[0m\n\u001b[0;32m--> 688\u001b[0;31m         \u001b[0;32mreturn\u001b[0m \u001b[0mself\u001b[0m\u001b[0;34m.\u001b[0m\u001b[0mapply_standard\u001b[0m\u001b[0;34m(\u001b[0m\u001b[0;34m)\u001b[0m\u001b[0;34m\u001b[0m\u001b[0;34m\u001b[0m\u001b[0m\n\u001b[0m\u001b[1;32m    689\u001b[0m \u001b[0;34m\u001b[0m\u001b[0m\n\u001b[1;32m    690\u001b[0m     \u001b[0;32mdef\u001b[0m \u001b[0magg\u001b[0m\u001b[0;34m(\u001b[0m\u001b[0mself\u001b[0m\u001b[0;34m)\u001b[0m\u001b[0;34m:\u001b[0m\u001b[0;34m\u001b[0m\u001b[0;34m\u001b[0m\u001b[0m\n",
      "\u001b[0;32m~/.local/lib/python3.9/site-packages/pandas/core/apply.py\u001b[0m in \u001b[0;36mapply_standard\u001b[0;34m(self)\u001b[0m\n\u001b[1;32m    803\u001b[0m \u001b[0;34m\u001b[0m\u001b[0m\n\u001b[1;32m    804\u001b[0m     \u001b[0;32mdef\u001b[0m \u001b[0mapply_standard\u001b[0m\u001b[0;34m(\u001b[0m\u001b[0mself\u001b[0m\u001b[0;34m)\u001b[0m\u001b[0;34m:\u001b[0m\u001b[0;34m\u001b[0m\u001b[0;34m\u001b[0m\u001b[0m\n\u001b[0;32m--> 805\u001b[0;31m         \u001b[0mresults\u001b[0m\u001b[0;34m,\u001b[0m \u001b[0mres_index\u001b[0m \u001b[0;34m=\u001b[0m \u001b[0mself\u001b[0m\u001b[0;34m.\u001b[0m\u001b[0mapply_series_generator\u001b[0m\u001b[0;34m(\u001b[0m\u001b[0;34m)\u001b[0m\u001b[0;34m\u001b[0m\u001b[0;34m\u001b[0m\u001b[0m\n\u001b[0m\u001b[1;32m    806\u001b[0m \u001b[0;34m\u001b[0m\u001b[0m\n\u001b[1;32m    807\u001b[0m         \u001b[0;31m# wrap results\u001b[0m\u001b[0;34m\u001b[0m\u001b[0;34m\u001b[0m\u001b[0;34m\u001b[0m\u001b[0m\n",
      "\u001b[0;32m~/.local/lib/python3.9/site-packages/pandas/core/apply.py\u001b[0m in \u001b[0;36mapply_series_generator\u001b[0;34m(self)\u001b[0m\n\u001b[1;32m    819\u001b[0m             \u001b[0;32mfor\u001b[0m \u001b[0mi\u001b[0m\u001b[0;34m,\u001b[0m \u001b[0mv\u001b[0m \u001b[0;32min\u001b[0m \u001b[0menumerate\u001b[0m\u001b[0;34m(\u001b[0m\u001b[0mseries_gen\u001b[0m\u001b[0;34m)\u001b[0m\u001b[0;34m:\u001b[0m\u001b[0;34m\u001b[0m\u001b[0;34m\u001b[0m\u001b[0m\n\u001b[1;32m    820\u001b[0m                 \u001b[0;31m# ignore SettingWithCopy here in case the user mutates\u001b[0m\u001b[0;34m\u001b[0m\u001b[0;34m\u001b[0m\u001b[0;34m\u001b[0m\u001b[0m\n\u001b[0;32m--> 821\u001b[0;31m                 \u001b[0mresults\u001b[0m\u001b[0;34m[\u001b[0m\u001b[0mi\u001b[0m\u001b[0;34m]\u001b[0m \u001b[0;34m=\u001b[0m \u001b[0mself\u001b[0m\u001b[0;34m.\u001b[0m\u001b[0mf\u001b[0m\u001b[0;34m(\u001b[0m\u001b[0mv\u001b[0m\u001b[0;34m)\u001b[0m\u001b[0;34m\u001b[0m\u001b[0;34m\u001b[0m\u001b[0m\n\u001b[0m\u001b[1;32m    822\u001b[0m                 \u001b[0;32mif\u001b[0m \u001b[0misinstance\u001b[0m\u001b[0;34m(\u001b[0m\u001b[0mresults\u001b[0m\u001b[0;34m[\u001b[0m\u001b[0mi\u001b[0m\u001b[0;34m]\u001b[0m\u001b[0;34m,\u001b[0m \u001b[0mABCSeries\u001b[0m\u001b[0;34m)\u001b[0m\u001b[0;34m:\u001b[0m\u001b[0;34m\u001b[0m\u001b[0;34m\u001b[0m\u001b[0m\n\u001b[1;32m    823\u001b[0m                     \u001b[0;31m# If we have a view on v, we need to make a copy because\u001b[0m\u001b[0;34m\u001b[0m\u001b[0;34m\u001b[0m\u001b[0;34m\u001b[0m\u001b[0m\n",
      "\u001b[0;32m~/.local/lib/python3.9/site-packages/pandas/core/groupby/generic.py\u001b[0m in \u001b[0;36m<lambda>\u001b[0;34m(x)\u001b[0m\n\u001b[1;32m   1386\u001b[0m             \u001b[0mfast_path\u001b[0m \u001b[0;34m=\u001b[0m \u001b[0;32mlambda\u001b[0m \u001b[0mgroup\u001b[0m\u001b[0;34m:\u001b[0m \u001b[0mfunc\u001b[0m\u001b[0;34m(\u001b[0m\u001b[0mgroup\u001b[0m\u001b[0;34m,\u001b[0m \u001b[0;34m*\u001b[0m\u001b[0margs\u001b[0m\u001b[0;34m,\u001b[0m \u001b[0;34m**\u001b[0m\u001b[0mkwargs\u001b[0m\u001b[0;34m)\u001b[0m\u001b[0;34m\u001b[0m\u001b[0;34m\u001b[0m\u001b[0m\n\u001b[1;32m   1387\u001b[0m             slow_path = lambda group: group.apply(\n\u001b[0;32m-> 1388\u001b[0;31m                 \u001b[0;32mlambda\u001b[0m \u001b[0mx\u001b[0m\u001b[0;34m:\u001b[0m \u001b[0mfunc\u001b[0m\u001b[0;34m(\u001b[0m\u001b[0mx\u001b[0m\u001b[0;34m,\u001b[0m \u001b[0;34m*\u001b[0m\u001b[0margs\u001b[0m\u001b[0;34m,\u001b[0m \u001b[0;34m**\u001b[0m\u001b[0mkwargs\u001b[0m\u001b[0;34m)\u001b[0m\u001b[0;34m,\u001b[0m \u001b[0maxis\u001b[0m\u001b[0;34m=\u001b[0m\u001b[0mself\u001b[0m\u001b[0;34m.\u001b[0m\u001b[0maxis\u001b[0m\u001b[0;34m\u001b[0m\u001b[0;34m\u001b[0m\u001b[0m\n\u001b[0m\u001b[1;32m   1389\u001b[0m             )\n\u001b[1;32m   1390\u001b[0m         \u001b[0;32mreturn\u001b[0m \u001b[0mfast_path\u001b[0m\u001b[0;34m,\u001b[0m \u001b[0mslow_path\u001b[0m\u001b[0;34m\u001b[0m\u001b[0;34m\u001b[0m\u001b[0m\n",
      "\u001b[0;32m/tmp/ipykernel_4419/1839683864.py\u001b[0m in \u001b[0;36m<lambda>\u001b[0;34m(g)\u001b[0m\n\u001b[0;32m----> 1\u001b[0;31m \u001b[0mzdf\u001b[0m\u001b[0;34m.\u001b[0m\u001b[0mgroupby\u001b[0m\u001b[0;34m(\u001b[0m\u001b[0;34m'window'\u001b[0m\u001b[0;34m)\u001b[0m\u001b[0;34m.\u001b[0m\u001b[0mtransform\u001b[0m\u001b[0;34m(\u001b[0m\u001b[0;32mlambda\u001b[0m \u001b[0mg\u001b[0m\u001b[0;34m:\u001b[0m \u001b[0mpd\u001b[0m\u001b[0;34m.\u001b[0m\u001b[0mqcut\u001b[0m\u001b[0;34m(\u001b[0m\u001b[0mg\u001b[0m\u001b[0;34m[\u001b[0m\u001b[0;34m\"rank\"\u001b[0m\u001b[0;34m]\u001b[0m\u001b[0;34m,\u001b[0m \u001b[0mq\u001b[0m\u001b[0;34m=\u001b[0m\u001b[0;36m4\u001b[0m\u001b[0;34m,\u001b[0m \u001b[0mlabels\u001b[0m\u001b[0;34m=\u001b[0m\u001b[0;32mFalse\u001b[0m\u001b[0;34m)\u001b[0m\u001b[0;34m)\u001b[0m\u001b[0;34m\u001b[0m\u001b[0;34m\u001b[0m\u001b[0m\n\u001b[0m",
      "\u001b[0;32m~/.local/lib/python3.9/site-packages/pandas/core/series.py\u001b[0m in \u001b[0;36m__getitem__\u001b[0;34m(self, key)\u001b[0m\n\u001b[1;32m    940\u001b[0m \u001b[0;34m\u001b[0m\u001b[0m\n\u001b[1;32m    941\u001b[0m         \u001b[0;32melif\u001b[0m \u001b[0mkey_is_scalar\u001b[0m\u001b[0;34m:\u001b[0m\u001b[0;34m\u001b[0m\u001b[0;34m\u001b[0m\u001b[0m\n\u001b[0;32m--> 942\u001b[0;31m             \u001b[0;32mreturn\u001b[0m \u001b[0mself\u001b[0m\u001b[0;34m.\u001b[0m\u001b[0m_get_value\u001b[0m\u001b[0;34m(\u001b[0m\u001b[0mkey\u001b[0m\u001b[0;34m)\u001b[0m\u001b[0;34m\u001b[0m\u001b[0;34m\u001b[0m\u001b[0m\n\u001b[0m\u001b[1;32m    943\u001b[0m \u001b[0;34m\u001b[0m\u001b[0m\n\u001b[1;32m    944\u001b[0m         \u001b[0;32mif\u001b[0m \u001b[0mis_hashable\u001b[0m\u001b[0;34m(\u001b[0m\u001b[0mkey\u001b[0m\u001b[0;34m)\u001b[0m\u001b[0;34m:\u001b[0m\u001b[0;34m\u001b[0m\u001b[0;34m\u001b[0m\u001b[0m\n",
      "\u001b[0;32m~/.local/lib/python3.9/site-packages/pandas/core/series.py\u001b[0m in \u001b[0;36m_get_value\u001b[0;34m(self, label, takeable)\u001b[0m\n\u001b[1;32m   1049\u001b[0m \u001b[0;34m\u001b[0m\u001b[0m\n\u001b[1;32m   1050\u001b[0m         \u001b[0;31m# Similar to Index.get_value, but we do not fall back to positional\u001b[0m\u001b[0;34m\u001b[0m\u001b[0;34m\u001b[0m\u001b[0;34m\u001b[0m\u001b[0m\n\u001b[0;32m-> 1051\u001b[0;31m         \u001b[0mloc\u001b[0m \u001b[0;34m=\u001b[0m \u001b[0mself\u001b[0m\u001b[0;34m.\u001b[0m\u001b[0mindex\u001b[0m\u001b[0;34m.\u001b[0m\u001b[0mget_loc\u001b[0m\u001b[0;34m(\u001b[0m\u001b[0mlabel\u001b[0m\u001b[0;34m)\u001b[0m\u001b[0;34m\u001b[0m\u001b[0;34m\u001b[0m\u001b[0m\n\u001b[0m\u001b[1;32m   1052\u001b[0m         \u001b[0;32mreturn\u001b[0m \u001b[0mself\u001b[0m\u001b[0;34m.\u001b[0m\u001b[0mindex\u001b[0m\u001b[0;34m.\u001b[0m\u001b[0m_get_values_for_loc\u001b[0m\u001b[0;34m(\u001b[0m\u001b[0mself\u001b[0m\u001b[0;34m,\u001b[0m \u001b[0mloc\u001b[0m\u001b[0;34m,\u001b[0m \u001b[0mlabel\u001b[0m\u001b[0;34m)\u001b[0m\u001b[0;34m\u001b[0m\u001b[0;34m\u001b[0m\u001b[0m\n\u001b[1;32m   1053\u001b[0m \u001b[0;34m\u001b[0m\u001b[0m\n",
      "\u001b[0;32m~/.local/lib/python3.9/site-packages/pandas/core/indexes/base.py\u001b[0m in \u001b[0;36mget_loc\u001b[0;34m(self, key, method, tolerance)\u001b[0m\n\u001b[1;32m   3361\u001b[0m                 \u001b[0;32mreturn\u001b[0m \u001b[0mself\u001b[0m\u001b[0;34m.\u001b[0m\u001b[0m_engine\u001b[0m\u001b[0;34m.\u001b[0m\u001b[0mget_loc\u001b[0m\u001b[0;34m(\u001b[0m\u001b[0mcasted_key\u001b[0m\u001b[0;34m)\u001b[0m\u001b[0;34m\u001b[0m\u001b[0;34m\u001b[0m\u001b[0m\n\u001b[1;32m   3362\u001b[0m             \u001b[0;32mexcept\u001b[0m \u001b[0mKeyError\u001b[0m \u001b[0;32mas\u001b[0m \u001b[0merr\u001b[0m\u001b[0;34m:\u001b[0m\u001b[0;34m\u001b[0m\u001b[0;34m\u001b[0m\u001b[0m\n\u001b[0;32m-> 3363\u001b[0;31m                 \u001b[0;32mraise\u001b[0m \u001b[0mKeyError\u001b[0m\u001b[0;34m(\u001b[0m\u001b[0mkey\u001b[0m\u001b[0;34m)\u001b[0m \u001b[0;32mfrom\u001b[0m \u001b[0merr\u001b[0m\u001b[0;34m\u001b[0m\u001b[0;34m\u001b[0m\u001b[0m\n\u001b[0m\u001b[1;32m   3364\u001b[0m \u001b[0;34m\u001b[0m\u001b[0m\n\u001b[1;32m   3365\u001b[0m         \u001b[0;32mif\u001b[0m \u001b[0mis_scalar\u001b[0m\u001b[0;34m(\u001b[0m\u001b[0mkey\u001b[0m\u001b[0;34m)\u001b[0m \u001b[0;32mand\u001b[0m \u001b[0misna\u001b[0m\u001b[0;34m(\u001b[0m\u001b[0mkey\u001b[0m\u001b[0;34m)\u001b[0m \u001b[0;32mand\u001b[0m \u001b[0;32mnot\u001b[0m \u001b[0mself\u001b[0m\u001b[0;34m.\u001b[0m\u001b[0mhasnans\u001b[0m\u001b[0;34m:\u001b[0m\u001b[0;34m\u001b[0m\u001b[0;34m\u001b[0m\u001b[0m\n",
      "\u001b[0;31mKeyError\u001b[0m: 'rank'"
     ]
    }
   ],
   "source": [
    "zdf.groupby('window').transform(lambda g: pd.qcut(g[\"rank\"], q=4, labels=False))"
   ]
  },
  {
   "cell_type": "code",
   "execution_count": 65,
   "id": "63f50736",
   "metadata": {
    "ExecuteTime": {
     "end_time": "2022-06-20T21:07:45.676569Z",
     "start_time": "2022-06-20T21:07:45.663617Z"
    }
   },
   "outputs": [
    {
     "data": {
      "text/plain": [
       "0    1191\n",
       "3    1191\n",
       "1    1190\n",
       "2    1190\n",
       "Name: z_scaled, dtype: int64"
      ]
     },
     "execution_count": 65,
     "metadata": {},
     "output_type": "execute_result"
    }
   ],
   "source": [
    "pd.qcut(temp[\"z_scaled\"],q=4,labels=False).value_counts()"
   ]
  },
  {
   "cell_type": "code",
   "execution_count": 59,
   "id": "3568e58f",
   "metadata": {
    "ExecuteTime": {
     "end_time": "2022-06-20T21:04:47.695686Z",
     "start_time": "2022-06-20T21:04:47.674356Z"
    }
   },
   "outputs": [
    {
     "data": {
      "text/plain": [
       "7627486    (3571.75, 4762.0]\n",
       "7578196     (0.999, 1191.25]\n",
       "7113619    (2381.5, 3571.75]\n",
       "7660283    (3571.75, 4762.0]\n",
       "7610805    (2381.5, 3571.75]\n",
       "                 ...        \n",
       "7604318    (2381.5, 3571.75]\n",
       "7624509     (0.999, 1191.25]\n",
       "7091414     (0.999, 1191.25]\n",
       "7611430    (3571.75, 4762.0]\n",
       "7268751    (1191.25, 2381.5]\n",
       "Name: rank, Length: 4762, dtype: category\n",
       "Categories (4, interval[float64, right]): [(0.999, 1191.25] < (1191.25, 2381.5] < (2381.5, 3571.75] < (3571.75, 4762.0]]"
      ]
     },
     "execution_count": 59,
     "metadata": {},
     "output_type": "execute_result"
    }
   ],
   "source": [
    "pd.qcut(temp[\"rank\"], 4)"
   ]
  },
  {
   "cell_type": "code",
   "execution_count": 52,
   "id": "0a0eb0f9",
   "metadata": {
    "ExecuteTime": {
     "end_time": "2022-06-20T21:01:29.407285Z",
     "start_time": "2022-06-20T21:01:29.396017Z"
    }
   },
   "outputs": [
    {
     "data": {
      "text/plain": [
       "4281.0    1\n",
       "2705.0    1\n",
       "3954.0    1\n",
       "3876.0    1\n",
       "1808.0    1\n",
       "         ..\n",
       "2237.0    1\n",
       "3225.0    1\n",
       "2711.0    1\n",
       "4240.0    1\n",
       "1782.0    1\n",
       "Name: rank, Length: 4762, dtype: int64"
      ]
     },
     "execution_count": 52,
     "metadata": {},
     "output_type": "execute_result"
    }
   ],
   "source": [
    "temp[\"rank\"].value_counts()\n",
    "pd.qcut(temp, q=4, labels=False)"
   ]
  },
  {
   "cell_type": "code",
   "execution_count": 56,
   "id": "bc8f1044",
   "metadata": {
    "ExecuteTime": {
     "end_time": "2022-06-20T21:02:28.952128Z",
     "start_time": "2022-06-20T21:02:28.940708Z"
    }
   },
   "outputs": [
    {
     "data": {
      "text/plain": [
       "0    1191\n",
       "3    1191\n",
       "1    1190\n",
       "2    1190\n",
       "Name: z_scaled, dtype: int64"
      ]
     },
     "execution_count": 56,
     "metadata": {},
     "output_type": "execute_result"
    }
   ],
   "source": [
    "pd.qcut(temp[\"z_scaled\"],q=4,labels=False).value_counts()"
   ]
  },
  {
   "cell_type": "code",
   "execution_count": 8,
   "id": "30dfab09",
   "metadata": {
    "ExecuteTime": {
     "end_time": "2022-06-20T18:52:21.008686Z",
     "start_time": "2022-06-20T18:52:19.675408Z"
    }
   },
   "outputs": [
    {
     "data": {
      "text/plain": [
       "chr10_6283_minus    1\n",
       "chr5_28781_plus     1\n",
       "chr4_25870_plus     1\n",
       "chr4_27859_plus     1\n",
       "chr4_30455_plus     1\n",
       "                   ..\n",
       "chr17_4949_plus     1\n",
       "chr17_4979_plus     1\n",
       "chr17_7054_plus     1\n",
       "chr17_7970_plus     1\n",
       "chrX_12237_plus     1\n",
       "Name: window, Length: 226, dtype: int64"
      ]
     },
     "execution_count": 8,
     "metadata": {},
     "output_type": "execute_result"
    }
   ],
   "source": [
    "zdf[zdf[\"cell_id\"]==\"V1_Mouse_Brain_Sagittal_Anterior_AAACAACGAATAGTTC\"][\"window\"].value_counts()"
   ]
  },
  {
   "cell_type": "code",
   "execution_count": 37,
   "id": "62aeb848",
   "metadata": {
    "ExecuteTime": {
     "end_time": "2022-06-20T20:54:03.392247Z",
     "start_time": "2022-06-20T20:54:03.256565Z"
    }
   },
   "outputs": [
    {
     "ename": "KeyError",
     "evalue": "'rank'",
     "output_type": "error",
     "traceback": [
      "\u001b[0;31m---------------------------------------------------------------------------\u001b[0m",
      "\u001b[0;31mKeyError\u001b[0m                                  Traceback (most recent call last)",
      "\u001b[0;32m~/.local/lib/python3.9/site-packages/pandas/core/indexes/base.py\u001b[0m in \u001b[0;36mget_loc\u001b[0;34m(self, key, method, tolerance)\u001b[0m\n\u001b[1;32m   3360\u001b[0m             \u001b[0;32mtry\u001b[0m\u001b[0;34m:\u001b[0m\u001b[0;34m\u001b[0m\u001b[0;34m\u001b[0m\u001b[0m\n\u001b[0;32m-> 3361\u001b[0;31m                 \u001b[0;32mreturn\u001b[0m \u001b[0mself\u001b[0m\u001b[0;34m.\u001b[0m\u001b[0m_engine\u001b[0m\u001b[0;34m.\u001b[0m\u001b[0mget_loc\u001b[0m\u001b[0;34m(\u001b[0m\u001b[0mcasted_key\u001b[0m\u001b[0;34m)\u001b[0m\u001b[0;34m\u001b[0m\u001b[0;34m\u001b[0m\u001b[0m\n\u001b[0m\u001b[1;32m   3362\u001b[0m             \u001b[0;32mexcept\u001b[0m \u001b[0mKeyError\u001b[0m \u001b[0;32mas\u001b[0m \u001b[0merr\u001b[0m\u001b[0;34m:\u001b[0m\u001b[0;34m\u001b[0m\u001b[0;34m\u001b[0m\u001b[0m\n",
      "\u001b[0;32m~/.local/lib/python3.9/site-packages/pandas/_libs/index.pyx\u001b[0m in \u001b[0;36mpandas._libs.index.IndexEngine.get_loc\u001b[0;34m()\u001b[0m\n",
      "\u001b[0;32m~/.local/lib/python3.9/site-packages/pandas/_libs/index.pyx\u001b[0m in \u001b[0;36mpandas._libs.index.IndexEngine.get_loc\u001b[0;34m()\u001b[0m\n",
      "\u001b[0;32mpandas/_libs/hashtable_class_helper.pxi\u001b[0m in \u001b[0;36mpandas._libs.hashtable.PyObjectHashTable.get_item\u001b[0;34m()\u001b[0m\n",
      "\u001b[0;32mpandas/_libs/hashtable_class_helper.pxi\u001b[0m in \u001b[0;36mpandas._libs.hashtable.PyObjectHashTable.get_item\u001b[0;34m()\u001b[0m\n",
      "\u001b[0;31mKeyError\u001b[0m: 'rank'",
      "\nThe above exception was the direct cause of the following exception:\n",
      "\u001b[0;31mKeyError\u001b[0m                                  Traceback (most recent call last)",
      "\u001b[0;32m/tmp/ipykernel_4419/390399231.py\u001b[0m in \u001b[0;36m<module>\u001b[0;34m\u001b[0m\n\u001b[0;32m----> 1\u001b[0;31m \u001b[0mtemp\u001b[0m\u001b[0;34m[\u001b[0m\u001b[0;34m\"rank\"\u001b[0m\u001b[0;34m]\u001b[0m\u001b[0;34m\u001b[0m\u001b[0;34m\u001b[0m\u001b[0m\n\u001b[0m",
      "\u001b[0;32m~/.local/lib/python3.9/site-packages/pandas/core/frame.py\u001b[0m in \u001b[0;36m__getitem__\u001b[0;34m(self, key)\u001b[0m\n\u001b[1;32m   3453\u001b[0m             \u001b[0;32mif\u001b[0m \u001b[0mself\u001b[0m\u001b[0;34m.\u001b[0m\u001b[0mcolumns\u001b[0m\u001b[0;34m.\u001b[0m\u001b[0mnlevels\u001b[0m \u001b[0;34m>\u001b[0m \u001b[0;36m1\u001b[0m\u001b[0;34m:\u001b[0m\u001b[0;34m\u001b[0m\u001b[0;34m\u001b[0m\u001b[0m\n\u001b[1;32m   3454\u001b[0m                 \u001b[0;32mreturn\u001b[0m \u001b[0mself\u001b[0m\u001b[0;34m.\u001b[0m\u001b[0m_getitem_multilevel\u001b[0m\u001b[0;34m(\u001b[0m\u001b[0mkey\u001b[0m\u001b[0;34m)\u001b[0m\u001b[0;34m\u001b[0m\u001b[0;34m\u001b[0m\u001b[0m\n\u001b[0;32m-> 3455\u001b[0;31m             \u001b[0mindexer\u001b[0m \u001b[0;34m=\u001b[0m \u001b[0mself\u001b[0m\u001b[0;34m.\u001b[0m\u001b[0mcolumns\u001b[0m\u001b[0;34m.\u001b[0m\u001b[0mget_loc\u001b[0m\u001b[0;34m(\u001b[0m\u001b[0mkey\u001b[0m\u001b[0;34m)\u001b[0m\u001b[0;34m\u001b[0m\u001b[0;34m\u001b[0m\u001b[0m\n\u001b[0m\u001b[1;32m   3456\u001b[0m             \u001b[0;32mif\u001b[0m \u001b[0mis_integer\u001b[0m\u001b[0;34m(\u001b[0m\u001b[0mindexer\u001b[0m\u001b[0;34m)\u001b[0m\u001b[0;34m:\u001b[0m\u001b[0;34m\u001b[0m\u001b[0;34m\u001b[0m\u001b[0m\n\u001b[1;32m   3457\u001b[0m                 \u001b[0mindexer\u001b[0m \u001b[0;34m=\u001b[0m \u001b[0;34m[\u001b[0m\u001b[0mindexer\u001b[0m\u001b[0;34m]\u001b[0m\u001b[0;34m\u001b[0m\u001b[0;34m\u001b[0m\u001b[0m\n",
      "\u001b[0;32m~/.local/lib/python3.9/site-packages/pandas/core/indexes/base.py\u001b[0m in \u001b[0;36mget_loc\u001b[0;34m(self, key, method, tolerance)\u001b[0m\n\u001b[1;32m   3361\u001b[0m                 \u001b[0;32mreturn\u001b[0m \u001b[0mself\u001b[0m\u001b[0;34m.\u001b[0m\u001b[0m_engine\u001b[0m\u001b[0;34m.\u001b[0m\u001b[0mget_loc\u001b[0m\u001b[0;34m(\u001b[0m\u001b[0mcasted_key\u001b[0m\u001b[0;34m)\u001b[0m\u001b[0;34m\u001b[0m\u001b[0;34m\u001b[0m\u001b[0m\n\u001b[1;32m   3362\u001b[0m             \u001b[0;32mexcept\u001b[0m \u001b[0mKeyError\u001b[0m \u001b[0;32mas\u001b[0m \u001b[0merr\u001b[0m\u001b[0;34m:\u001b[0m\u001b[0;34m\u001b[0m\u001b[0;34m\u001b[0m\u001b[0m\n\u001b[0;32m-> 3363\u001b[0;31m                 \u001b[0;32mraise\u001b[0m \u001b[0mKeyError\u001b[0m\u001b[0;34m(\u001b[0m\u001b[0mkey\u001b[0m\u001b[0;34m)\u001b[0m \u001b[0;32mfrom\u001b[0m \u001b[0merr\u001b[0m\u001b[0;34m\u001b[0m\u001b[0;34m\u001b[0m\u001b[0m\n\u001b[0m\u001b[1;32m   3364\u001b[0m \u001b[0;34m\u001b[0m\u001b[0m\n\u001b[1;32m   3365\u001b[0m         \u001b[0;32mif\u001b[0m \u001b[0mis_scalar\u001b[0m\u001b[0;34m(\u001b[0m\u001b[0mkey\u001b[0m\u001b[0;34m)\u001b[0m \u001b[0;32mand\u001b[0m \u001b[0misna\u001b[0m\u001b[0;34m(\u001b[0m\u001b[0mkey\u001b[0m\u001b[0;34m)\u001b[0m \u001b[0;32mand\u001b[0m \u001b[0;32mnot\u001b[0m \u001b[0mself\u001b[0m\u001b[0;34m.\u001b[0m\u001b[0mhasnans\u001b[0m\u001b[0;34m:\u001b[0m\u001b[0;34m\u001b[0m\u001b[0;34m\u001b[0m\u001b[0m\n",
      "\u001b[0;31mKeyError\u001b[0m: 'rank'"
     ]
    }
   ],
   "source": [
    "temp[\"rank\"]"
   ]
  },
  {
   "cell_type": "code",
   "execution_count": 25,
   "id": "734542be",
   "metadata": {
    "ExecuteTime": {
     "end_time": "2022-06-20T19:01:12.918393Z",
     "start_time": "2022-06-20T19:01:12.876618Z"
    }
   },
   "outputs": [
    {
     "data": {
      "text/html": [
       "<div>\n",
       "<style scoped>\n",
       "    .dataframe tbody tr th:only-of-type {\n",
       "        vertical-align: middle;\n",
       "    }\n",
       "\n",
       "    .dataframe tbody tr th {\n",
       "        vertical-align: top;\n",
       "    }\n",
       "\n",
       "    .dataframe thead th {\n",
       "        text-align: right;\n",
       "    }\n",
       "</style>\n",
       "<table border=\"1\" class=\"dataframe\">\n",
       "  <thead>\n",
       "    <tr style=\"text-align: right;\">\n",
       "      <th></th>\n",
       "      <th>cell_id</th>\n",
       "      <th>chrom</th>\n",
       "      <th>read_strand</th>\n",
       "      <th>window</th>\n",
       "      <th>channel</th>\n",
       "      <th>z_scaled</th>\n",
       "      <th>count</th>\n",
       "      <th>barcode</th>\n",
       "      <th>in_tissue</th>\n",
       "      <th>array_row</th>\n",
       "      <th>...</th>\n",
       "      <th>xcoord</th>\n",
       "      <th>ycoord</th>\n",
       "      <th>plot_xcoord</th>\n",
       "      <th>plot_ycoord</th>\n",
       "      <th>pixval</th>\n",
       "      <th>pixquant</th>\n",
       "      <th>0.25_quant</th>\n",
       "      <th>0.5_quant</th>\n",
       "      <th>0.75_quant</th>\n",
       "      <th>quant</th>\n",
       "    </tr>\n",
       "  </thead>\n",
       "  <tbody>\n",
       "    <tr>\n",
       "      <th>7055582</th>\n",
       "      <td>V1_Mouse_Brain_Sagittal_Anterior_AAACAACGAATAGTTC</td>\n",
       "      <td>chr19</td>\n",
       "      <td>+</td>\n",
       "      <td>chr19_1997_plus</td>\n",
       "      <td>V1_Mouse_Brain_Sagittal_Anterior</td>\n",
       "      <td>-0.060256</td>\n",
       "      <td>1</td>\n",
       "      <td>NaN</td>\n",
       "      <td>NaN</td>\n",
       "      <td>NaN</td>\n",
       "      <td>...</td>\n",
       "      <td>NaN</td>\n",
       "      <td>NaN</td>\n",
       "      <td>NaN</td>\n",
       "      <td>NaN</td>\n",
       "      <td>NaN</td>\n",
       "      <td>NaN</td>\n",
       "      <td>-0.114249</td>\n",
       "      <td>0.006656</td>\n",
       "      <td>0.105122</td>\n",
       "      <td>0</td>\n",
       "    </tr>\n",
       "    <tr>\n",
       "      <th>7055691</th>\n",
       "      <td>V1_Mouse_Brain_Sagittal_Anterior_AAACAAGTATCTCCCA</td>\n",
       "      <td>chr19</td>\n",
       "      <td>+</td>\n",
       "      <td>chr19_1997_plus</td>\n",
       "      <td>V1_Mouse_Brain_Sagittal_Anterior</td>\n",
       "      <td>-0.025352</td>\n",
       "      <td>92</td>\n",
       "      <td>AAACAAGTATCTCCCA-1</td>\n",
       "      <td>1.0</td>\n",
       "      <td>50.0</td>\n",
       "      <td>...</td>\n",
       "      <td>7474.0</td>\n",
       "      <td>8500.0</td>\n",
       "      <td>8500.0</td>\n",
       "      <td>-7474.0</td>\n",
       "      <td>133.0</td>\n",
       "      <td>2.0</td>\n",
       "      <td>-0.114249</td>\n",
       "      <td>0.006656</td>\n",
       "      <td>0.105122</td>\n",
       "      <td>0</td>\n",
       "    </tr>\n",
       "    <tr>\n",
       "      <th>7055730</th>\n",
       "      <td>V1_Mouse_Brain_Sagittal_Anterior_AAACAATCTACTAGCA</td>\n",
       "      <td>chr19</td>\n",
       "      <td>+</td>\n",
       "      <td>chr19_1997_plus</td>\n",
       "      <td>V1_Mouse_Brain_Sagittal_Anterior</td>\n",
       "      <td>0.101456</td>\n",
       "      <td>1</td>\n",
       "      <td>NaN</td>\n",
       "      <td>NaN</td>\n",
       "      <td>NaN</td>\n",
       "      <td>...</td>\n",
       "      <td>NaN</td>\n",
       "      <td>NaN</td>\n",
       "      <td>NaN</td>\n",
       "      <td>NaN</td>\n",
       "      <td>NaN</td>\n",
       "      <td>NaN</td>\n",
       "      <td>-0.114249</td>\n",
       "      <td>0.006656</td>\n",
       "      <td>0.105122</td>\n",
       "      <td>0</td>\n",
       "    </tr>\n",
       "    <tr>\n",
       "      <th>7055931</th>\n",
       "      <td>V1_Mouse_Brain_Sagittal_Anterior_AAACACCAATAACTGC</td>\n",
       "      <td>chr19</td>\n",
       "      <td>+</td>\n",
       "      <td>chr19_1997_plus</td>\n",
       "      <td>V1_Mouse_Brain_Sagittal_Anterior</td>\n",
       "      <td>0.031015</td>\n",
       "      <td>61</td>\n",
       "      <td>AAACACCAATAACTGC-1</td>\n",
       "      <td>1.0</td>\n",
       "      <td>59.0</td>\n",
       "      <td>...</td>\n",
       "      <td>8552.0</td>\n",
       "      <td>2788.0</td>\n",
       "      <td>2788.0</td>\n",
       "      <td>-8552.0</td>\n",
       "      <td>139.0</td>\n",
       "      <td>7.0</td>\n",
       "      <td>-0.114249</td>\n",
       "      <td>0.006656</td>\n",
       "      <td>0.105122</td>\n",
       "      <td>0</td>\n",
       "    </tr>\n",
       "    <tr>\n",
       "      <th>7056195</th>\n",
       "      <td>V1_Mouse_Brain_Sagittal_Anterior_AAACAGAGCGACTCCT</td>\n",
       "      <td>chr19</td>\n",
       "      <td>+</td>\n",
       "      <td>chr19_1997_plus</td>\n",
       "      <td>V1_Mouse_Brain_Sagittal_Anterior</td>\n",
       "      <td>-0.024695</td>\n",
       "      <td>89</td>\n",
       "      <td>AAACAGAGCGACTCCT-1</td>\n",
       "      <td>1.0</td>\n",
       "      <td>14.0</td>\n",
       "      <td>...</td>\n",
       "      <td>3163.0</td>\n",
       "      <td>7950.0</td>\n",
       "      <td>7950.0</td>\n",
       "      <td>-3163.0</td>\n",
       "      <td>133.0</td>\n",
       "      <td>2.0</td>\n",
       "      <td>-0.114249</td>\n",
       "      <td>0.006656</td>\n",
       "      <td>0.105122</td>\n",
       "      <td>0</td>\n",
       "    </tr>\n",
       "    <tr>\n",
       "      <th>...</th>\n",
       "      <td>...</td>\n",
       "      <td>...</td>\n",
       "      <td>...</td>\n",
       "      <td>...</td>\n",
       "      <td>...</td>\n",
       "      <td>...</td>\n",
       "      <td>...</td>\n",
       "      <td>...</td>\n",
       "      <td>...</td>\n",
       "      <td>...</td>\n",
       "      <td>...</td>\n",
       "      <td>...</td>\n",
       "      <td>...</td>\n",
       "      <td>...</td>\n",
       "      <td>...</td>\n",
       "      <td>...</td>\n",
       "      <td>...</td>\n",
       "      <td>...</td>\n",
       "      <td>...</td>\n",
       "      <td>...</td>\n",
       "      <td>...</td>\n",
       "    </tr>\n",
       "    <tr>\n",
       "      <th>7674017</th>\n",
       "      <td>V1_Mouse_Brain_Sagittal_Anterior_TTGTTTCACATCCAGG</td>\n",
       "      <td>chr19</td>\n",
       "      <td>+</td>\n",
       "      <td>chr19_1997_plus</td>\n",
       "      <td>V1_Mouse_Brain_Sagittal_Anterior</td>\n",
       "      <td>-0.018524</td>\n",
       "      <td>31</td>\n",
       "      <td>TTGTTTCACATCCAGG-1</td>\n",
       "      <td>1.0</td>\n",
       "      <td>58.0</td>\n",
       "      <td>...</td>\n",
       "      <td>8433.0</td>\n",
       "      <td>4371.0</td>\n",
       "      <td>4371.0</td>\n",
       "      <td>-8433.0</td>\n",
       "      <td>133.0</td>\n",
       "      <td>2.0</td>\n",
       "      <td>-0.114249</td>\n",
       "      <td>0.006656</td>\n",
       "      <td>0.105122</td>\n",
       "      <td>0</td>\n",
       "    </tr>\n",
       "    <tr>\n",
       "      <th>7674109</th>\n",
       "      <td>V1_Mouse_Brain_Sagittal_Anterior_TTGTTTCATTAGTCTA</td>\n",
       "      <td>chr19</td>\n",
       "      <td>+</td>\n",
       "      <td>chr19_1997_plus</td>\n",
       "      <td>V1_Mouse_Brain_Sagittal_Anterior</td>\n",
       "      <td>-0.268171</td>\n",
       "      <td>16</td>\n",
       "      <td>NaN</td>\n",
       "      <td>NaN</td>\n",
       "      <td>NaN</td>\n",
       "      <td>...</td>\n",
       "      <td>NaN</td>\n",
       "      <td>NaN</td>\n",
       "      <td>NaN</td>\n",
       "      <td>NaN</td>\n",
       "      <td>NaN</td>\n",
       "      <td>NaN</td>\n",
       "      <td>-0.114249</td>\n",
       "      <td>0.006656</td>\n",
       "      <td>0.105122</td>\n",
       "      <td>0</td>\n",
       "    </tr>\n",
       "    <tr>\n",
       "      <th>7674243</th>\n",
       "      <td>V1_Mouse_Brain_Sagittal_Anterior_TTGTTTCCATACAACT</td>\n",
       "      <td>chr19</td>\n",
       "      <td>+</td>\n",
       "      <td>chr19_1997_plus</td>\n",
       "      <td>V1_Mouse_Brain_Sagittal_Anterior</td>\n",
       "      <td>-0.118780</td>\n",
       "      <td>45</td>\n",
       "      <td>TTGTTTCCATACAACT-1</td>\n",
       "      <td>1.0</td>\n",
       "      <td>45.0</td>\n",
       "      <td>...</td>\n",
       "      <td>6876.0</td>\n",
       "      <td>3339.0</td>\n",
       "      <td>3339.0</td>\n",
       "      <td>-6876.0</td>\n",
       "      <td>150.0</td>\n",
       "      <td>9.0</td>\n",
       "      <td>-0.114249</td>\n",
       "      <td>0.006656</td>\n",
       "      <td>0.105122</td>\n",
       "      <td>0</td>\n",
       "    </tr>\n",
       "    <tr>\n",
       "      <th>7674308</th>\n",
       "      <td>V1_Mouse_Brain_Sagittal_Anterior_TTGTTTGTATTACACG</td>\n",
       "      <td>chr19</td>\n",
       "      <td>+</td>\n",
       "      <td>chr19_1997_plus</td>\n",
       "      <td>V1_Mouse_Brain_Sagittal_Anterior</td>\n",
       "      <td>-0.044855</td>\n",
       "      <td>3</td>\n",
       "      <td>NaN</td>\n",
       "      <td>NaN</td>\n",
       "      <td>NaN</td>\n",
       "      <td>...</td>\n",
       "      <td>NaN</td>\n",
       "      <td>NaN</td>\n",
       "      <td>NaN</td>\n",
       "      <td>NaN</td>\n",
       "      <td>NaN</td>\n",
       "      <td>NaN</td>\n",
       "      <td>-0.114249</td>\n",
       "      <td>0.006656</td>\n",
       "      <td>0.105122</td>\n",
       "      <td>0</td>\n",
       "    </tr>\n",
       "    <tr>\n",
       "      <th>7674321</th>\n",
       "      <td>V1_Mouse_Brain_Sagittal_Anterior_TTGTTTGTGTAAATTC</td>\n",
       "      <td>chr19</td>\n",
       "      <td>+</td>\n",
       "      <td>chr19_1997_plus</td>\n",
       "      <td>V1_Mouse_Brain_Sagittal_Anterior</td>\n",
       "      <td>-1.307745</td>\n",
       "      <td>1</td>\n",
       "      <td>NaN</td>\n",
       "      <td>NaN</td>\n",
       "      <td>NaN</td>\n",
       "      <td>...</td>\n",
       "      <td>NaN</td>\n",
       "      <td>NaN</td>\n",
       "      <td>NaN</td>\n",
       "      <td>NaN</td>\n",
       "      <td>NaN</td>\n",
       "      <td>NaN</td>\n",
       "      <td>-0.114249</td>\n",
       "      <td>0.006656</td>\n",
       "      <td>0.105122</td>\n",
       "      <td>0</td>\n",
       "    </tr>\n",
       "  </tbody>\n",
       "</table>\n",
       "<p>4762 rows × 21 columns</p>\n",
       "</div>"
      ],
      "text/plain": [
       "                                                   cell_id  chrom read_strand  \\\n",
       "7055582  V1_Mouse_Brain_Sagittal_Anterior_AAACAACGAATAGTTC  chr19           +   \n",
       "7055691  V1_Mouse_Brain_Sagittal_Anterior_AAACAAGTATCTCCCA  chr19           +   \n",
       "7055730  V1_Mouse_Brain_Sagittal_Anterior_AAACAATCTACTAGCA  chr19           +   \n",
       "7055931  V1_Mouse_Brain_Sagittal_Anterior_AAACACCAATAACTGC  chr19           +   \n",
       "7056195  V1_Mouse_Brain_Sagittal_Anterior_AAACAGAGCGACTCCT  chr19           +   \n",
       "...                                                    ...    ...         ...   \n",
       "7674017  V1_Mouse_Brain_Sagittal_Anterior_TTGTTTCACATCCAGG  chr19           +   \n",
       "7674109  V1_Mouse_Brain_Sagittal_Anterior_TTGTTTCATTAGTCTA  chr19           +   \n",
       "7674243  V1_Mouse_Brain_Sagittal_Anterior_TTGTTTCCATACAACT  chr19           +   \n",
       "7674308  V1_Mouse_Brain_Sagittal_Anterior_TTGTTTGTATTACACG  chr19           +   \n",
       "7674321  V1_Mouse_Brain_Sagittal_Anterior_TTGTTTGTGTAAATTC  chr19           +   \n",
       "\n",
       "                  window                           channel  z_scaled  count  \\\n",
       "7055582  chr19_1997_plus  V1_Mouse_Brain_Sagittal_Anterior -0.060256      1   \n",
       "7055691  chr19_1997_plus  V1_Mouse_Brain_Sagittal_Anterior -0.025352     92   \n",
       "7055730  chr19_1997_plus  V1_Mouse_Brain_Sagittal_Anterior  0.101456      1   \n",
       "7055931  chr19_1997_plus  V1_Mouse_Brain_Sagittal_Anterior  0.031015     61   \n",
       "7056195  chr19_1997_plus  V1_Mouse_Brain_Sagittal_Anterior -0.024695     89   \n",
       "...                  ...                               ...       ...    ...   \n",
       "7674017  chr19_1997_plus  V1_Mouse_Brain_Sagittal_Anterior -0.018524     31   \n",
       "7674109  chr19_1997_plus  V1_Mouse_Brain_Sagittal_Anterior -0.268171     16   \n",
       "7674243  chr19_1997_plus  V1_Mouse_Brain_Sagittal_Anterior -0.118780     45   \n",
       "7674308  chr19_1997_plus  V1_Mouse_Brain_Sagittal_Anterior -0.044855      3   \n",
       "7674321  chr19_1997_plus  V1_Mouse_Brain_Sagittal_Anterior -1.307745      1   \n",
       "\n",
       "                    barcode  in_tissue  array_row  ...  xcoord  ycoord  \\\n",
       "7055582                 NaN        NaN        NaN  ...     NaN     NaN   \n",
       "7055691  AAACAAGTATCTCCCA-1        1.0       50.0  ...  7474.0  8500.0   \n",
       "7055730                 NaN        NaN        NaN  ...     NaN     NaN   \n",
       "7055931  AAACACCAATAACTGC-1        1.0       59.0  ...  8552.0  2788.0   \n",
       "7056195  AAACAGAGCGACTCCT-1        1.0       14.0  ...  3163.0  7950.0   \n",
       "...                     ...        ...        ...  ...     ...     ...   \n",
       "7674017  TTGTTTCACATCCAGG-1        1.0       58.0  ...  8433.0  4371.0   \n",
       "7674109                 NaN        NaN        NaN  ...     NaN     NaN   \n",
       "7674243  TTGTTTCCATACAACT-1        1.0       45.0  ...  6876.0  3339.0   \n",
       "7674308                 NaN        NaN        NaN  ...     NaN     NaN   \n",
       "7674321                 NaN        NaN        NaN  ...     NaN     NaN   \n",
       "\n",
       "         plot_xcoord  plot_ycoord  pixval  pixquant  0.25_quant  0.5_quant  \\\n",
       "7055582          NaN          NaN     NaN       NaN   -0.114249   0.006656   \n",
       "7055691       8500.0      -7474.0   133.0       2.0   -0.114249   0.006656   \n",
       "7055730          NaN          NaN     NaN       NaN   -0.114249   0.006656   \n",
       "7055931       2788.0      -8552.0   139.0       7.0   -0.114249   0.006656   \n",
       "7056195       7950.0      -3163.0   133.0       2.0   -0.114249   0.006656   \n",
       "...              ...          ...     ...       ...         ...        ...   \n",
       "7674017       4371.0      -8433.0   133.0       2.0   -0.114249   0.006656   \n",
       "7674109          NaN          NaN     NaN       NaN   -0.114249   0.006656   \n",
       "7674243       3339.0      -6876.0   150.0       9.0   -0.114249   0.006656   \n",
       "7674308          NaN          NaN     NaN       NaN   -0.114249   0.006656   \n",
       "7674321          NaN          NaN     NaN       NaN   -0.114249   0.006656   \n",
       "\n",
       "         0.75_quant  quant  \n",
       "7055582    0.105122      0  \n",
       "7055691    0.105122      0  \n",
       "7055730    0.105122      0  \n",
       "7055931    0.105122      0  \n",
       "7056195    0.105122      0  \n",
       "...             ...    ...  \n",
       "7674017    0.105122      0  \n",
       "7674109    0.105122      0  \n",
       "7674243    0.105122      0  \n",
       "7674308    0.105122      0  \n",
       "7674321    0.105122      0  \n",
       "\n",
       "[4762 rows x 21 columns]"
      ]
     },
     "execution_count": 25,
     "metadata": {},
     "output_type": "execute_result"
    }
   ],
   "source": [
    "temp"
   ]
  },
  {
   "cell_type": "code",
   "execution_count": 31,
   "id": "26a5679a",
   "metadata": {
    "ExecuteTime": {
     "end_time": "2022-06-20T19:04:31.123460Z",
     "start_time": "2022-06-20T19:04:20.022452Z"
    }
   },
   "outputs": [
    {
     "data": {
      "text/html": [
       "<div>\n",
       "<style scoped>\n",
       "    .dataframe tbody tr th:only-of-type {\n",
       "        vertical-align: middle;\n",
       "    }\n",
       "\n",
       "    .dataframe tbody tr th {\n",
       "        vertical-align: top;\n",
       "    }\n",
       "\n",
       "    .dataframe thead th {\n",
       "        text-align: right;\n",
       "    }\n",
       "</style>\n",
       "<table border=\"1\" class=\"dataframe\">\n",
       "  <thead>\n",
       "    <tr style=\"text-align: right;\">\n",
       "      <th></th>\n",
       "      <th>cell_id</th>\n",
       "      <th>chrom</th>\n",
       "      <th>read_strand</th>\n",
       "      <th>window</th>\n",
       "      <th>channel</th>\n",
       "      <th>z_scaled</th>\n",
       "      <th>count</th>\n",
       "      <th>barcode</th>\n",
       "      <th>in_tissue</th>\n",
       "      <th>array_row</th>\n",
       "      <th>...</th>\n",
       "      <th>ycoord</th>\n",
       "      <th>plot_xcoord</th>\n",
       "      <th>plot_ycoord</th>\n",
       "      <th>pixval</th>\n",
       "      <th>pixquant</th>\n",
       "      <th>0.25_quant</th>\n",
       "      <th>0.5_quant</th>\n",
       "      <th>0.75_quant</th>\n",
       "      <th>quant</th>\n",
       "      <th>rank</th>\n",
       "    </tr>\n",
       "  </thead>\n",
       "  <tbody>\n",
       "    <tr>\n",
       "      <th>0</th>\n",
       "      <td>V1_Mouse_Brain_Sagittal_Anterior_AAACAACGAATAGTTC</td>\n",
       "      <td>chr10</td>\n",
       "      <td>-</td>\n",
       "      <td>chr10_6283_minus</td>\n",
       "      <td>V1_Mouse_Brain_Sagittal_Anterior</td>\n",
       "      <td>2.831787</td>\n",
       "      <td>1</td>\n",
       "      <td>NaN</td>\n",
       "      <td>NaN</td>\n",
       "      <td>NaN</td>\n",
       "      <td>...</td>\n",
       "      <td>NaN</td>\n",
       "      <td>NaN</td>\n",
       "      <td>NaN</td>\n",
       "      <td>NaN</td>\n",
       "      <td>NaN</td>\n",
       "      <td>-0.684897</td>\n",
       "      <td>-0.098783</td>\n",
       "      <td>0.682702</td>\n",
       "      <td>3</td>\n",
       "      <td>5.0</td>\n",
       "    </tr>\n",
       "    <tr>\n",
       "      <th>1</th>\n",
       "      <td>V1_Mouse_Brain_Sagittal_Anterior_AAACAACGAATAGTTC</td>\n",
       "      <td>chr10</td>\n",
       "      <td>-</td>\n",
       "      <td>chr10_11504_minus</td>\n",
       "      <td>V1_Mouse_Brain_Sagittal_Anterior</td>\n",
       "      <td>-0.370127</td>\n",
       "      <td>1</td>\n",
       "      <td>NaN</td>\n",
       "      <td>NaN</td>\n",
       "      <td>NaN</td>\n",
       "      <td>...</td>\n",
       "      <td>NaN</td>\n",
       "      <td>NaN</td>\n",
       "      <td>NaN</td>\n",
       "      <td>NaN</td>\n",
       "      <td>NaN</td>\n",
       "      <td>-0.215545</td>\n",
       "      <td>-0.072838</td>\n",
       "      <td>0.123008</td>\n",
       "      <td>0</td>\n",
       "      <td>2099.0</td>\n",
       "    </tr>\n",
       "    <tr>\n",
       "      <th>2</th>\n",
       "      <td>V1_Mouse_Brain_Sagittal_Anterior_AAACAACGAATAGTTC</td>\n",
       "      <td>chr10</td>\n",
       "      <td>-</td>\n",
       "      <td>chr10_15983_minus</td>\n",
       "      <td>V1_Mouse_Brain_Sagittal_Anterior</td>\n",
       "      <td>-1.625137</td>\n",
       "      <td>1</td>\n",
       "      <td>NaN</td>\n",
       "      <td>NaN</td>\n",
       "      <td>NaN</td>\n",
       "      <td>...</td>\n",
       "      <td>NaN</td>\n",
       "      <td>NaN</td>\n",
       "      <td>NaN</td>\n",
       "      <td>NaN</td>\n",
       "      <td>NaN</td>\n",
       "      <td>-0.442472</td>\n",
       "      <td>-0.095057</td>\n",
       "      <td>0.304860</td>\n",
       "      <td>0</td>\n",
       "      <td>653.0</td>\n",
       "    </tr>\n",
       "    <tr>\n",
       "      <th>3</th>\n",
       "      <td>V1_Mouse_Brain_Sagittal_Anterior_AAACAACGAATAGTTC</td>\n",
       "      <td>chr10</td>\n",
       "      <td>-</td>\n",
       "      <td>chr10_21700_minus</td>\n",
       "      <td>V1_Mouse_Brain_Sagittal_Anterior</td>\n",
       "      <td>-0.254456</td>\n",
       "      <td>1</td>\n",
       "      <td>NaN</td>\n",
       "      <td>NaN</td>\n",
       "      <td>NaN</td>\n",
       "      <td>...</td>\n",
       "      <td>NaN</td>\n",
       "      <td>NaN</td>\n",
       "      <td>NaN</td>\n",
       "      <td>NaN</td>\n",
       "      <td>NaN</td>\n",
       "      <td>-0.236312</td>\n",
       "      <td>-0.068488</td>\n",
       "      <td>0.158627</td>\n",
       "      <td>0</td>\n",
       "      <td>1745.0</td>\n",
       "    </tr>\n",
       "    <tr>\n",
       "      <th>4</th>\n",
       "      <td>V1_Mouse_Brain_Sagittal_Anterior_AAACAACGAATAGTTC</td>\n",
       "      <td>chr10</td>\n",
       "      <td>-</td>\n",
       "      <td>chr10_25699_minus</td>\n",
       "      <td>V1_Mouse_Brain_Sagittal_Anterior</td>\n",
       "      <td>-0.449421</td>\n",
       "      <td>1</td>\n",
       "      <td>NaN</td>\n",
       "      <td>NaN</td>\n",
       "      <td>NaN</td>\n",
       "      <td>...</td>\n",
       "      <td>NaN</td>\n",
       "      <td>NaN</td>\n",
       "      <td>NaN</td>\n",
       "      <td>NaN</td>\n",
       "      <td>NaN</td>\n",
       "      <td>-0.326976</td>\n",
       "      <td>-0.224938</td>\n",
       "      <td>0.143126</td>\n",
       "      <td>0</td>\n",
       "      <td>1841.0</td>\n",
       "    </tr>\n",
       "    <tr>\n",
       "      <th>...</th>\n",
       "      <td>...</td>\n",
       "      <td>...</td>\n",
       "      <td>...</td>\n",
       "      <td>...</td>\n",
       "      <td>...</td>\n",
       "      <td>...</td>\n",
       "      <td>...</td>\n",
       "      <td>...</td>\n",
       "      <td>...</td>\n",
       "      <td>...</td>\n",
       "      <td>...</td>\n",
       "      <td>...</td>\n",
       "      <td>...</td>\n",
       "      <td>...</td>\n",
       "      <td>...</td>\n",
       "      <td>...</td>\n",
       "      <td>...</td>\n",
       "      <td>...</td>\n",
       "      <td>...</td>\n",
       "      <td>...</td>\n",
       "      <td>...</td>\n",
       "    </tr>\n",
       "    <tr>\n",
       "      <th>18201829</th>\n",
       "      <td>V1_Mouse_Brain_Sagittal_Anterior_TTGTTTCACATCCAGG</td>\n",
       "      <td>chrY</td>\n",
       "      <td>+</td>\n",
       "      <td>chrY_18159_plus</td>\n",
       "      <td>V1_Mouse_Brain_Sagittal_Anterior</td>\n",
       "      <td>1.027378</td>\n",
       "      <td>1</td>\n",
       "      <td>TTGTTTCACATCCAGG-1</td>\n",
       "      <td>1.0</td>\n",
       "      <td>58.0</td>\n",
       "      <td>...</td>\n",
       "      <td>4371.0</td>\n",
       "      <td>4371.0</td>\n",
       "      <td>-8433.0</td>\n",
       "      <td>133.0</td>\n",
       "      <td>2.0</td>\n",
       "      <td>-0.292065</td>\n",
       "      <td>0.173933</td>\n",
       "      <td>0.492608</td>\n",
       "      <td>3</td>\n",
       "      <td>7.0</td>\n",
       "    </tr>\n",
       "    <tr>\n",
       "      <th>18201830</th>\n",
       "      <td>V1_Mouse_Brain_Sagittal_Anterior_TTGTTTCACATCCAGG</td>\n",
       "      <td>chrY</td>\n",
       "      <td>-</td>\n",
       "      <td>chrY_18151_minus</td>\n",
       "      <td>V1_Mouse_Brain_Sagittal_Anterior</td>\n",
       "      <td>0.402300</td>\n",
       "      <td>1</td>\n",
       "      <td>TTGTTTCACATCCAGG-1</td>\n",
       "      <td>1.0</td>\n",
       "      <td>58.0</td>\n",
       "      <td>...</td>\n",
       "      <td>4371.0</td>\n",
       "      <td>4371.0</td>\n",
       "      <td>-8433.0</td>\n",
       "      <td>133.0</td>\n",
       "      <td>2.0</td>\n",
       "      <td>-0.631908</td>\n",
       "      <td>-0.076967</td>\n",
       "      <td>0.629321</td>\n",
       "      <td>1</td>\n",
       "      <td>99.0</td>\n",
       "    </tr>\n",
       "    <tr>\n",
       "      <th>18201831</th>\n",
       "      <td>V1_Mouse_Brain_Sagittal_Anterior_TTGTTTCATTAGTCTA</td>\n",
       "      <td>chrY</td>\n",
       "      <td>+</td>\n",
       "      <td>chrY_206_plus</td>\n",
       "      <td>V1_Mouse_Brain_Sagittal_Anterior</td>\n",
       "      <td>-0.487519</td>\n",
       "      <td>2</td>\n",
       "      <td>NaN</td>\n",
       "      <td>NaN</td>\n",
       "      <td>NaN</td>\n",
       "      <td>...</td>\n",
       "      <td>NaN</td>\n",
       "      <td>NaN</td>\n",
       "      <td>NaN</td>\n",
       "      <td>NaN</td>\n",
       "      <td>NaN</td>\n",
       "      <td>-0.527907</td>\n",
       "      <td>0.017324</td>\n",
       "      <td>0.501973</td>\n",
       "      <td>0</td>\n",
       "      <td>262.0</td>\n",
       "    </tr>\n",
       "    <tr>\n",
       "      <th>18201832</th>\n",
       "      <td>V1_Mouse_Brain_Sagittal_Anterior_TTGTTTCATTAGTCTA</td>\n",
       "      <td>chrY</td>\n",
       "      <td>+</td>\n",
       "      <td>chrY_18159_plus</td>\n",
       "      <td>V1_Mouse_Brain_Sagittal_Anterior</td>\n",
       "      <td>-1.021899</td>\n",
       "      <td>2</td>\n",
       "      <td>NaN</td>\n",
       "      <td>NaN</td>\n",
       "      <td>NaN</td>\n",
       "      <td>...</td>\n",
       "      <td>NaN</td>\n",
       "      <td>NaN</td>\n",
       "      <td>NaN</td>\n",
       "      <td>NaN</td>\n",
       "      <td>NaN</td>\n",
       "      <td>-0.292065</td>\n",
       "      <td>0.173933</td>\n",
       "      <td>0.492608</td>\n",
       "      <td>0</td>\n",
       "      <td>707.0</td>\n",
       "    </tr>\n",
       "    <tr>\n",
       "      <th>18201833</th>\n",
       "      <td>V1_Mouse_Brain_Sagittal_Anterior_TTGTTTCCATACAACT</td>\n",
       "      <td>chrY</td>\n",
       "      <td>+</td>\n",
       "      <td>chrY_18148_plus</td>\n",
       "      <td>V1_Mouse_Brain_Sagittal_Anterior</td>\n",
       "      <td>1.665366</td>\n",
       "      <td>1</td>\n",
       "      <td>TTGTTTCCATACAACT-1</td>\n",
       "      <td>1.0</td>\n",
       "      <td>45.0</td>\n",
       "      <td>...</td>\n",
       "      <td>3339.0</td>\n",
       "      <td>3339.0</td>\n",
       "      <td>-6876.0</td>\n",
       "      <td>150.0</td>\n",
       "      <td>9.0</td>\n",
       "      <td>-0.618706</td>\n",
       "      <td>0.103732</td>\n",
       "      <td>0.676575</td>\n",
       "      <td>3</td>\n",
       "      <td>4.0</td>\n",
       "    </tr>\n",
       "  </tbody>\n",
       "</table>\n",
       "<p>18201834 rows × 22 columns</p>\n",
       "</div>"
      ],
      "text/plain": [
       "                                                    cell_id  chrom  \\\n",
       "0         V1_Mouse_Brain_Sagittal_Anterior_AAACAACGAATAGTTC  chr10   \n",
       "1         V1_Mouse_Brain_Sagittal_Anterior_AAACAACGAATAGTTC  chr10   \n",
       "2         V1_Mouse_Brain_Sagittal_Anterior_AAACAACGAATAGTTC  chr10   \n",
       "3         V1_Mouse_Brain_Sagittal_Anterior_AAACAACGAATAGTTC  chr10   \n",
       "4         V1_Mouse_Brain_Sagittal_Anterior_AAACAACGAATAGTTC  chr10   \n",
       "...                                                     ...    ...   \n",
       "18201829  V1_Mouse_Brain_Sagittal_Anterior_TTGTTTCACATCCAGG   chrY   \n",
       "18201830  V1_Mouse_Brain_Sagittal_Anterior_TTGTTTCACATCCAGG   chrY   \n",
       "18201831  V1_Mouse_Brain_Sagittal_Anterior_TTGTTTCATTAGTCTA   chrY   \n",
       "18201832  V1_Mouse_Brain_Sagittal_Anterior_TTGTTTCATTAGTCTA   chrY   \n",
       "18201833  V1_Mouse_Brain_Sagittal_Anterior_TTGTTTCCATACAACT   chrY   \n",
       "\n",
       "         read_strand             window                           channel  \\\n",
       "0                  -   chr10_6283_minus  V1_Mouse_Brain_Sagittal_Anterior   \n",
       "1                  -  chr10_11504_minus  V1_Mouse_Brain_Sagittal_Anterior   \n",
       "2                  -  chr10_15983_minus  V1_Mouse_Brain_Sagittal_Anterior   \n",
       "3                  -  chr10_21700_minus  V1_Mouse_Brain_Sagittal_Anterior   \n",
       "4                  -  chr10_25699_minus  V1_Mouse_Brain_Sagittal_Anterior   \n",
       "...              ...                ...                               ...   \n",
       "18201829           +    chrY_18159_plus  V1_Mouse_Brain_Sagittal_Anterior   \n",
       "18201830           -   chrY_18151_minus  V1_Mouse_Brain_Sagittal_Anterior   \n",
       "18201831           +      chrY_206_plus  V1_Mouse_Brain_Sagittal_Anterior   \n",
       "18201832           +    chrY_18159_plus  V1_Mouse_Brain_Sagittal_Anterior   \n",
       "18201833           +    chrY_18148_plus  V1_Mouse_Brain_Sagittal_Anterior   \n",
       "\n",
       "          z_scaled  count             barcode  in_tissue  array_row  ...  \\\n",
       "0         2.831787      1                 NaN        NaN        NaN  ...   \n",
       "1        -0.370127      1                 NaN        NaN        NaN  ...   \n",
       "2        -1.625137      1                 NaN        NaN        NaN  ...   \n",
       "3        -0.254456      1                 NaN        NaN        NaN  ...   \n",
       "4        -0.449421      1                 NaN        NaN        NaN  ...   \n",
       "...            ...    ...                 ...        ...        ...  ...   \n",
       "18201829  1.027378      1  TTGTTTCACATCCAGG-1        1.0       58.0  ...   \n",
       "18201830  0.402300      1  TTGTTTCACATCCAGG-1        1.0       58.0  ...   \n",
       "18201831 -0.487519      2                 NaN        NaN        NaN  ...   \n",
       "18201832 -1.021899      2                 NaN        NaN        NaN  ...   \n",
       "18201833  1.665366      1  TTGTTTCCATACAACT-1        1.0       45.0  ...   \n",
       "\n",
       "          ycoord  plot_xcoord  plot_ycoord  pixval  pixquant  0.25_quant  \\\n",
       "0            NaN          NaN          NaN     NaN       NaN   -0.684897   \n",
       "1            NaN          NaN          NaN     NaN       NaN   -0.215545   \n",
       "2            NaN          NaN          NaN     NaN       NaN   -0.442472   \n",
       "3            NaN          NaN          NaN     NaN       NaN   -0.236312   \n",
       "4            NaN          NaN          NaN     NaN       NaN   -0.326976   \n",
       "...          ...          ...          ...     ...       ...         ...   \n",
       "18201829  4371.0       4371.0      -8433.0   133.0       2.0   -0.292065   \n",
       "18201830  4371.0       4371.0      -8433.0   133.0       2.0   -0.631908   \n",
       "18201831     NaN          NaN          NaN     NaN       NaN   -0.527907   \n",
       "18201832     NaN          NaN          NaN     NaN       NaN   -0.292065   \n",
       "18201833  3339.0       3339.0      -6876.0   150.0       9.0   -0.618706   \n",
       "\n",
       "          0.5_quant  0.75_quant  quant    rank  \n",
       "0         -0.098783    0.682702      3     5.0  \n",
       "1         -0.072838    0.123008      0  2099.0  \n",
       "2         -0.095057    0.304860      0   653.0  \n",
       "3         -0.068488    0.158627      0  1745.0  \n",
       "4         -0.224938    0.143126      0  1841.0  \n",
       "...             ...         ...    ...     ...  \n",
       "18201829   0.173933    0.492608      3     7.0  \n",
       "18201830  -0.076967    0.629321      1    99.0  \n",
       "18201831   0.017324    0.501973      0   262.0  \n",
       "18201832   0.173933    0.492608      0   707.0  \n",
       "18201833   0.103732    0.676575      3     4.0  \n",
       "\n",
       "[18201834 rows x 22 columns]"
      ]
     },
     "execution_count": 31,
     "metadata": {},
     "output_type": "execute_result"
    }
   ],
   "source": [
    "zdf"
   ]
  },
  {
   "cell_type": "code",
   "execution_count": 29,
   "id": "5ebbf784",
   "metadata": {
    "ExecuteTime": {
     "end_time": "2022-06-20T19:02:12.808956Z",
     "start_time": "2022-06-20T19:02:12.632128Z"
    }
   },
   "outputs": [
    {
     "data": {
      "image/png": "[encoded data removed]",
      "text/plain": [
       "<Figure size 432x288 with 1 Axes>"
      ]
     },
     "metadata": {
      "needs_background": "light"
     },
     "output_type": "display_data"
    }
   ],
   "source": [
    "plt.hist(temp[\"z_scaled\"])\n",
    "for q in qs:\n",
    "  plt.axvline(x=temp[\"{}_quant\".format(q)].iloc[0])\n",
    "plt.show()"
   ]
  },
  {
   "cell_type": "code",
   "execution_count": null,
   "id": "f2648615",
   "metadata": {},
   "outputs": [],
   "source": []
  },
  {
   "cell_type": "code",
   "execution_count": 19,
   "id": "97fdfec1",
   "metadata": {
    "ExecuteTime": {
     "end_time": "2022-06-20T18:59:46.207012Z",
     "start_time": "2022-06-20T18:59:46.137903Z"
    }
   },
   "outputs": [
    {
     "data": {
      "text/plain": [
       "0"
      ]
     },
     "execution_count": 19,
     "metadata": {},
     "output_type": "execute_result"
    }
   ],
   "source": []
  },
  {
   "cell_type": "code",
   "execution_count": 18,
   "id": "b4776b71",
   "metadata": {
    "ExecuteTime": {
     "end_time": "2022-06-20T18:59:03.936378Z",
     "start_time": "2022-06-20T18:59:03.800056Z"
    }
   },
   "outputs": [
    {
     "data": {
      "text/plain": [
       "0    11552421\n",
       "3     3100612\n",
       "1     2040084\n",
       "2     1508717\n",
       "Name: quant, dtype: int64"
      ]
     },
     "execution_count": 18,
     "metadata": {},
     "output_type": "execute_result"
    }
   ],
   "source": [
    "zdf[\"quant\"].value_counts()"
   ]
  },
  {
   "cell_type": "code",
   "execution_count": null,
   "id": "747381a0",
   "metadata": {},
   "outputs": [],
   "source": []
  }
 ],
 "metadata": {
  "kernelspec": {
   "display_name": "jup_env",
   "language": "python",
   "name": "jup_env"
  },
  "language_info": {
   "codemirror_mode": {
    "name": "ipython",
    "version": 3
   },
   "file_extension": ".py",
   "mimetype": "text/x-python",
   "name": "python",
   "nbconvert_exporter": "python",
   "pygments_lexer": "ipython3",
   "version": "3.9.6"
  },
  "varInspector": {
   "cols": {
    "lenName": 16,
    "lenType": 16,
    "lenVar": 40
   },
   "kernels_config": {
    "python": {
     "delete_cmd_postfix": "",
     "delete_cmd_prefix": "del ",
     "library": "var_list.py",
     "varRefreshCmd": "print(var_dic_list())"
    },
    "r": {
     "delete_cmd_postfix": ") ",
     "delete_cmd_prefix": "rm(",
     "library": "var_list.r",
     "varRefreshCmd": "cat(var_dic_list()) "
    }
   },
   "types_to_exclude": [
    "module",
    "function",
    "builtin_function_or_method",
    "instance",
    "_Feature"
   ],
   "window_display": false
  }
 },
 "nbformat": 4,
 "nbformat_minor": 5
}
