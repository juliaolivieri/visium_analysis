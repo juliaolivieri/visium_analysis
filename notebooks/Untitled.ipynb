{
 "cells": [
  {
   "cell_type": "code",
   "execution_count": 1,
   "id": "945238be",
   "metadata": {
    "ExecuteTime": {
     "end_time": "2022-04-15T17:36:44.135085Z",
     "start_time": "2022-04-15T17:36:42.363262Z"
    }
   },
   "outputs": [],
   "source": [
    "import pandas as pd\n",
    "from scipy.stats import spearmanr"
   ]
  },
  {
   "cell_type": "code",
   "execution_count": 2,
   "id": "ac612baf",
   "metadata": {
    "ExecuteTime": {
     "end_time": "2022-04-15T17:37:33.635465Z",
     "start_time": "2022-04-15T17:37:32.966599Z"
    }
   },
   "outputs": [],
   "source": [
    "supdir = \"/oak/stanford/groups/horence/JuliaO/nf-spliz-output/run_dir/visium/\"\n",
    "dataname = \"cta_ucsf-1-5_liver\"\n",
    "spliz_path = \"{}{}/SpliZ_values/{}_sym_SVD_normdonor_S_0.1_z_0.0_b_5_r_0.01_subcol.tsv\".format(supdir,dataname,dataname)\n",
    "\n",
    "if spliz_path.endswith(\".pq\"):\n",
    "  spliz_df = pd.read_parquet(spliz_path)\n",
    "else:\n",
    "  spliz_df = pd.read_csv(spliz_path,sep=\"\\t\")\n",
    "  \n",
    "if dataname == \"cta_ucsf-1-5_liver\":\n",
    "  filt_bc_name = \"/oak/stanford/groups/horence/JuliaO/data/visium/Biohub_covid_liver/cta_ucsf-1-5_liver/outs/filtered_feature_bc_matrix/barcodes.tsv.gz\"\n",
    "  filt_bc = pd.read_csv(filt_bc_name,names=[\"barcode\"])\n",
    "  \n",
    "  spliz_df = spliz_df[spliz_df[\"barcode\"].isin(set(filt_bc[\"barcode\"]))]\n"
   ]
  },
  {
   "cell_type": "code",
   "execution_count": 14,
   "id": "aaef610d",
   "metadata": {
    "ExecuteTime": {
     "end_time": "2022-04-15T17:40:39.351337Z",
     "start_time": "2022-04-15T17:40:39.328482Z"
    }
   },
   "outputs": [],
   "source": [
    "vc = spliz_df[\"gene\"].value_counts()"
   ]
  },
  {
   "cell_type": "code",
   "execution_count": 20,
   "id": "e68fee86",
   "metadata": {
    "ExecuteTime": {
     "end_time": "2022-04-15T17:43:49.576809Z",
     "start_time": "2022-04-15T17:43:48.122308Z"
    }
   },
   "outputs": [
    {
     "name": "stdout",
     "output_type": "stream",
     "text": [
      "ORM1\n",
      "ALB\n",
      "SAA2-SAA4,SAA2\n",
      "SAA1\n",
      "SERPINA1\n",
      "MT2A\n",
      "KLRG1,A2M-AS1,A2M\n",
      "MT1G\n",
      "AMBP\n",
      "TXNL4B,HP\n",
      "RPL28\n",
      "APOH\n",
      "MT1E\n",
      "APOA2\n",
      "RARRES2\n",
      "APOC1\n",
      "RPS28\n",
      "MT1M\n",
      "SNHG25\n",
      "DCXR\n",
      "VTN\n",
      "RPLP2\n",
      "HPS3,CP\n",
      "RPL35\n",
      "RPLP1\n",
      "MT1F\n",
      "ASL\n",
      "MT1X\n",
      "unknown_GL000220.1_100000\n",
      "APOC3\n",
      "RPS5\n",
      "MT1A\n",
      "ITIH4\n",
      "RPS24\n",
      "MT1H\n",
      "C4B\n",
      "APOC4-APOC2,APOC2\n",
      "MYL6\n",
      "ATP5ME\n",
      "RPL24\n",
      "SLBP\n",
      "RPL37\n",
      "HMGA2\n",
      "RPS27\n",
      "MASP2\n",
      "SETD3\n",
      "RACK1\n",
      "TF\n",
      "RPS9\n",
      "UQCR11\n",
      "unknown_KI270733.1_100000\n",
      "COX7C\n",
      "RNA45SN2,RNA28SN2\n",
      "RPL10\n",
      "unknown_chr12_66000000\n",
      "FAU\n",
      "FGB\n",
      "RNA45SN1,RNA28SN1\n",
      "HMG20A\n",
      "MT1L\n",
      "RNA45SN3,RNA28SN3\n",
      "IGF2R\n",
      "RPS16\n",
      "RPS21\n",
      "RPSAP52\n",
      "NDUFA3\n",
      "PPP4R4\n",
      "PEAK1\n",
      "NAPRT\n",
      "SCO2,TYMP\n",
      "LOC105370906\n",
      "LOC105370906,LINGO1\n",
      "SERPINA3\n",
      "RPS20\n",
      "TTC39C\n",
      "MT1DP\n",
      "HMGA2,HMGA2-AS1\n",
      "RPS10-NUDT3,RPS10\n",
      "LOC107985690\n",
      "unknown_chr12_65900000\n",
      "C8G\n",
      "ELOB\n",
      "TMEM219\n",
      "GC\n",
      "TXNL4B,HPR\n",
      "FTL\n",
      "HPX\n",
      "ATP5MF-PTCD1,ATP5MF\n",
      "FTCD\n",
      "ASPG\n",
      "RPL26\n",
      "RPS19\n",
      "RPL41\n",
      "RPL27\n",
      "UXT\n",
      "COG5\n",
      "RPL39\n",
      "ATP5F1D\n",
      "RPS15A\n",
      "CYP2E1\n",
      "ORM2\n",
      "IFITM1\n",
      "unknown_chr12_65700000\n",
      "RNA45SN3,RNA28SN3,LOC112268284\n",
      "UQCRQ\n",
      "C3P1\n",
      "GPX4\n",
      "RPS15\n",
      "ACTB\n",
      "STXBP2\n",
      "TNRC18\n",
      "COX6B1\n",
      "IQCG,RPL35A\n",
      "PET100\n",
      "HSP90B1\n",
      "RPL34\n",
      "SLC26A4\n",
      "SFPQ\n",
      "unknown_chr13_57100000\n",
      "HSP90AA1\n",
      "ATOX1\n",
      "SLC26A3\n",
      "ATP5F1C,LOC105376392\n",
      "PTOV1\n",
      "TMEM176A\n",
      "FXYD2,FXYD6-FXYD2\n",
      "MT1JP\n",
      "unknown_chr21_8200000\n",
      "SAA4,SAA2-SAA4\n",
      "EIF3L\n",
      "COX17\n",
      "SLC29A4\n",
      "MELK\n",
      "LOC105370214\n",
      "RNA45SN3\n",
      "COPE\n",
      "RPL22\n",
      "SLC22A1\n",
      "RNA45SN1,RNA18SN1\n",
      "MZT2B\n",
      "RPL9\n",
      "SNHG5\n",
      "AKR1C1\n",
      "EDF1\n",
      "ODF3B\n",
      "RPL5,DIPK1A\n",
      "RABAC1\n",
      "unknown_chr22_22900000\n",
      "RPL36\n",
      "RPL13\n",
      "LGALS1\n",
      "MRPL52\n",
      "COX7A2\n",
      "DOCK6,ANGPTL8\n",
      "RPS18\n",
      "DUS4L-BCAP29,BCAP29\n",
      "RPS12\n",
      "IGF2,INS-IGF2\n",
      "RPS6\n",
      "CBLL1\n",
      "UQCRB\n",
      "CRP\n",
      "OS9\n",
      "LOC101929457\n",
      "GAS5\n",
      "CP\n",
      "RPL30\n",
      "PTMA\n",
      "RNF181\n",
      "SLIRP\n",
      "unknown_chr2_88800000\n",
      "PBRM1\n",
      "MMRN2,ADIRF\n"
     ]
    },
    {
     "data": {
      "text/html": [
       "<div>\n",
       "<style scoped>\n",
       "    .dataframe tbody tr th:only-of-type {\n",
       "        vertical-align: middle;\n",
       "    }\n",
       "\n",
       "    .dataframe tbody tr th {\n",
       "        vertical-align: top;\n",
       "    }\n",
       "\n",
       "    .dataframe thead th {\n",
       "        text-align: right;\n",
       "    }\n",
       "</style>\n",
       "<table border=\"1\" class=\"dataframe\">\n",
       "  <thead>\n",
       "    <tr style=\"text-align: right;\">\n",
       "      <th></th>\n",
       "      <th>corr</th>\n",
       "      <th>gene</th>\n",
       "      <th>pval</th>\n",
       "    </tr>\n",
       "  </thead>\n",
       "  <tbody>\n",
       "    <tr>\n",
       "      <th>73</th>\n",
       "      <td>0.180971</td>\n",
       "      <td>RPS20</td>\n",
       "      <td>0.003347</td>\n",
       "    </tr>\n",
       "    <tr>\n",
       "      <th>157</th>\n",
       "      <td>0.758407</td>\n",
       "      <td>IGF2,INS-IGF2</td>\n",
       "      <td>0.004249</td>\n",
       "    </tr>\n",
       "    <tr>\n",
       "      <th>80</th>\n",
       "      <td>-0.176877</td>\n",
       "      <td>C8G</td>\n",
       "      <td>0.017221</td>\n",
       "    </tr>\n",
       "    <tr>\n",
       "      <th>59</th>\n",
       "      <td>0.105280</td>\n",
       "      <td>MT1L</td>\n",
       "      <td>0.023937</td>\n",
       "    </tr>\n",
       "    <tr>\n",
       "      <th>72</th>\n",
       "      <td>-0.133071</td>\n",
       "      <td>SERPINA3</td>\n",
       "      <td>0.030977</td>\n",
       "    </tr>\n",
       "    <tr>\n",
       "      <th>...</th>\n",
       "      <td>...</td>\n",
       "      <td>...</td>\n",
       "      <td>...</td>\n",
       "    </tr>\n",
       "    <tr>\n",
       "      <th>170</th>\n",
       "      <td>0.018182</td>\n",
       "      <td>unknown_chr2_88800000</td>\n",
       "      <td>0.957685</td>\n",
       "    </tr>\n",
       "    <tr>\n",
       "      <th>31</th>\n",
       "      <td>0.001233</td>\n",
       "      <td>MT1A</td>\n",
       "      <td>0.962197</td>\n",
       "    </tr>\n",
       "    <tr>\n",
       "      <th>43</th>\n",
       "      <td>0.001209</td>\n",
       "      <td>RPS27</td>\n",
       "      <td>0.970291</td>\n",
       "    </tr>\n",
       "    <tr>\n",
       "      <th>77</th>\n",
       "      <td>0.000948</td>\n",
       "      <td>RPS10-NUDT3,RPS10</td>\n",
       "      <td>0.988640</td>\n",
       "    </tr>\n",
       "    <tr>\n",
       "      <th>147</th>\n",
       "      <td>0.000000</td>\n",
       "      <td>unknown_chr22_22900000</td>\n",
       "      <td>1.000000</td>\n",
       "    </tr>\n",
       "  </tbody>\n",
       "</table>\n",
       "<p>173 rows × 3 columns</p>\n",
       "</div>"
      ],
      "text/plain": [
       "         corr                    gene      pval\n",
       "73   0.180971                   RPS20  0.003347\n",
       "157  0.758407           IGF2,INS-IGF2  0.004249\n",
       "80  -0.176877                     C8G  0.017221\n",
       "59   0.105280                    MT1L  0.023937\n",
       "72  -0.133071                SERPINA3  0.030977\n",
       "..        ...                     ...       ...\n",
       "170  0.018182   unknown_chr2_88800000  0.957685\n",
       "31   0.001233                    MT1A  0.962197\n",
       "43   0.001209                   RPS27  0.970291\n",
       "77   0.000948       RPS10-NUDT3,RPS10  0.988640\n",
       "147  0.000000  unknown_chr22_22900000  1.000000\n",
       "\n",
       "[173 rows x 3 columns]"
      ]
     },
     "execution_count": 20,
     "metadata": {},
     "output_type": "execute_result"
    }
   ],
   "source": [
    "out = {\"corr\" : [],\"gene\" : [],\"pval\" : []}\n",
    "for gene in vc[vc > 10].index:\n",
    "  print(gene)\n",
    "  gene_df = spliz_df[spliz_df[\"gene\"] == gene]\n",
    "  corr_out = spearmanr(gene_df[\"scZ\"],gene_df[\"pixval\"])\n",
    "  out[\"gene\"].append(gene)\n",
    "  out[\"corr\"].append(corr_out.correlation)\n",
    "  out[\"pval\"].append(corr_out.pvalue)\n",
    "out = pd.DataFrame.from_dict(out)\n",
    "out.sort_values(\"pval\")"
   ]
  },
  {
   "cell_type": "code",
   "execution_count": 23,
   "id": "535174f0",
   "metadata": {
    "ExecuteTime": {
     "end_time": "2022-04-15T17:44:24.315302Z",
     "start_time": "2022-04-15T17:44:24.306219Z"
    }
   },
   "outputs": [
    {
     "data": {
      "text/plain": [
       "['RPS20',\n",
       " 'IGF2,INS-IGF2',\n",
       " 'C8G',\n",
       " 'MT1L',\n",
       " 'SERPINA3',\n",
       " 'SERPINA1',\n",
       " 'FAU',\n",
       " 'RPL34',\n",
       " 'MRPL52',\n",
       " 'RPLP1',\n",
       " 'SLC26A3',\n",
       " 'LOC105370906',\n",
       " 'EDF1',\n",
       " 'RPL10',\n",
       " 'unknown_chr13_57100000',\n",
       " 'TXNL4B,HPR',\n",
       " 'IFITM1',\n",
       " 'MMRN2,ADIRF',\n",
       " 'CBLL1',\n",
       " 'SAA2-SAA4,SAA2']"
      ]
     },
     "execution_count": 23,
     "metadata": {},
     "output_type": "execute_result"
    }
   ],
   "source": [
    "list(out.sort_values(\"pval\").head(20)[\"gene\"])"
   ]
  },
  {
   "cell_type": "code",
   "execution_count": 17,
   "id": "f4456c80",
   "metadata": {
    "ExecuteTime": {
     "end_time": "2022-04-15T17:41:11.123261Z",
     "start_time": "2022-04-15T17:41:11.114534Z"
    }
   },
   "outputs": [
    {
     "data": {
      "text/plain": [
       "92532    135.0\n",
       "92533    111.0\n",
       "92534    153.0\n",
       "92535     88.0\n",
       "92536    136.0\n",
       "         ...  \n",
       "96942     95.0\n",
       "96949    112.0\n",
       "96995    151.0\n",
       "97014    169.0\n",
       "97090     65.0\n",
       "Name: pixval, Length: 2281, dtype: float64"
      ]
     },
     "execution_count": 17,
     "metadata": {},
     "output_type": "execute_result"
    }
   ],
   "source": [
    "gene_df[\"pixval\"]"
   ]
  },
  {
   "cell_type": "code",
   "execution_count": 13,
   "id": "95ad24d4",
   "metadata": {
    "ExecuteTime": {
     "end_time": "2022-04-15T17:40:36.623351Z",
     "start_time": "2022-04-15T17:40:36.614714Z"
    }
   },
   "outputs": [
    {
     "data": {
      "text/plain": [
       " 0.031047    1971\n",
       "-0.065574    1615\n",
       " 0.072389    1596\n",
       " 0.028023    1531\n",
       "-0.046774    1228\n",
       "             ... \n",
       "-0.181841      11\n",
       "-0.245581      11\n",
       "-0.065640      11\n",
       " 0.219380      11\n",
       " 0.274627      11\n",
       "Name: scZ, Length: 516, dtype: int64"
      ]
     },
     "execution_count": 13,
     "metadata": {},
     "output_type": "execute_result"
    }
   ],
   "source": [
    "vc[vc > 10]"
   ]
  },
  {
   "cell_type": "code",
   "execution_count": null,
   "id": "6f78d82e",
   "metadata": {},
   "outputs": [],
   "source": []
  }
 ],
 "metadata": {
  "kernelspec": {
   "display_name": "jup_env",
   "language": "python",
   "name": "jup_env"
  },
  "language_info": {
   "codemirror_mode": {
    "name": "ipython",
    "version": 3
   },
   "file_extension": ".py",
   "mimetype": "text/x-python",
   "name": "python",
   "nbconvert_exporter": "python",
   "pygments_lexer": "ipython3",
   "version": "3.9.6"
  },
  "varInspector": {
   "cols": {
    "lenName": 16,
    "lenType": 16,
    "lenVar": 40
   },
   "kernels_config": {
    "python": {
     "delete_cmd_postfix": "",
     "delete_cmd_prefix": "del ",
     "library": "var_list.py",
     "varRefreshCmd": "print(var_dic_list())"
    },
    "r": {
     "delete_cmd_postfix": ") ",
     "delete_cmd_prefix": "rm(",
     "library": "var_list.r",
     "varRefreshCmd": "cat(var_dic_list()) "
    }
   },
   "types_to_exclude": [
    "module",
    "function",
    "builtin_function_or_method",
    "instance",
    "_Feature"
   ],
   "window_display": false
  }
 },
 "nbformat": 4,
 "nbformat_minor": 5
}
