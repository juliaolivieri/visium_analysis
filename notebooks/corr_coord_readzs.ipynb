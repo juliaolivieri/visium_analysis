{
 "cells": [
  {
   "cell_type": "code",
   "execution_count": 27,
   "id": "58609c65",
   "metadata": {
    "ExecuteTime": {
     "end_time": "2022-12-06T16:34:33.281272Z",
     "start_time": "2022-12-06T16:34:32.739822Z"
    }
   },
   "outputs": [],
   "source": [
    "import pandas as pd\n",
    "import matplotlib.pyplot as plt"
   ]
  },
  {
   "cell_type": "code",
   "execution_count": 3,
   "id": "b06c2d1d",
   "metadata": {
    "ExecuteTime": {
     "end_time": "2022-12-06T16:25:17.426383Z",
     "start_time": "2022-12-06T16:24:57.134748Z"
    }
   },
   "outputs": [],
   "source": [
    "zdf = pd.read_csv(\"/oak/stanford/groups/horence/JuliaO/nf-readzs/visium/V1_Mouse_Kidney/zscore/V1_Mouse_Kidney.zscore\",sep=\"\\t\")"
   ]
  },
  {
   "cell_type": "code",
   "execution_count": 14,
   "id": "52fb9eca",
   "metadata": {
    "ExecuteTime": {
     "end_time": "2022-12-06T16:31:34.597336Z",
     "start_time": "2022-12-06T16:31:04.335386Z"
    }
   },
   "outputs": [],
   "source": [
    "countdf = pd.read_csv(\"/oak/stanford/groups/horence/JuliaO/nf-readzs/visium/V1_Mouse_Kidney/counts/V1_Mouse_Kidney_all_counts.txt\",sep=\"\\t\",names = [\"cell_id\", \"chr\", \"coord\", \"sign\", \"count\",\"dataset\", \"window\"])"
   ]
  },
  {
   "cell_type": "code",
   "execution_count": 35,
   "id": "e90e900f",
   "metadata": {
    "ExecuteTime": {
     "end_time": "2022-12-06T16:36:27.310309Z",
     "start_time": "2022-12-06T16:36:26.316761Z"
    }
   },
   "outputs": [],
   "source": [
    "window = \"chr5_28581_minus\"\n",
    "temp_zdf = zdf[zdf[\"window\"] == window]"
   ]
  },
  {
   "cell_type": "code",
   "execution_count": 36,
   "id": "c7a3fdc5",
   "metadata": {
    "ExecuteTime": {
     "end_time": "2022-12-06T16:36:30.456139Z",
     "start_time": "2022-12-06T16:36:27.430436Z"
    }
   },
   "outputs": [],
   "source": [
    "temp_countdf = countdf[countdf[\"window\"] == window]"
   ]
  },
  {
   "cell_type": "code",
   "execution_count": 37,
   "id": "6f9579d1",
   "metadata": {
    "ExecuteTime": {
     "end_time": "2022-12-06T16:36:30.597387Z",
     "start_time": "2022-12-06T16:36:30.585407Z"
    }
   },
   "outputs": [],
   "source": [
    "for cell, celldf in temp_countdf.groupby(\"cell_id\"):\n",
    "  break"
   ]
  },
  {
   "cell_type": "code",
   "execution_count": 38,
   "id": "7c896c12",
   "metadata": {
    "ExecuteTime": {
     "end_time": "2022-12-06T16:36:30.733851Z",
     "start_time": "2022-12-06T16:36:30.720950Z"
    }
   },
   "outputs": [
    {
     "name": "stderr",
     "output_type": "stream",
     "text": [
      "/home/users/jolivier/.local/lib/python3.9/site-packages/pandas/core/frame.py:3607: SettingWithCopyWarning: \n",
      "A value is trying to be set on a copy of a slice from a DataFrame.\n",
      "Try using .loc[row_indexer,col_indexer] = value instead\n",
      "\n",
      "See the caveats in the documentation: https://pandas.pydata.org/pandas-docs/stable/user_guide/indexing.html#returning-a-view-versus-a-copy\n",
      "  self._set_item(key, value)\n"
     ]
    }
   ],
   "source": [
    "temp_zdf[\"med_coord\"] = temp_zdf[\"cell_id\"].map(temp_countdf.groupby(\"cell_id\")[\"coord\"].median())"
   ]
  },
  {
   "cell_type": "code",
   "execution_count": 39,
   "id": "cc2fb6d2",
   "metadata": {
    "ExecuteTime": {
     "end_time": "2022-12-06T16:36:31.048515Z",
     "start_time": "2022-12-06T16:36:30.857721Z"
    }
   },
   "outputs": [
    {
     "data": {
      "image/png": "[encoded data removed]",
      "text/plain": [
       "<Figure size 432x288 with 1 Axes>"
      ]
     },
     "metadata": {
      "needs_background": "light"
     },
     "output_type": "display_data"
    }
   ],
   "source": [
    "plt.plot(temp_zdf[\"z_scaled\"],temp_zdf[\"med_coord\"],marker=\"o\",linestyle=\"\")\n",
    "plt.show()"
   ]
  },
  {
   "cell_type": "code",
   "execution_count": null,
   "id": "cbeef4d5",
   "metadata": {},
   "outputs": [],
   "source": []
  }
 ],
 "metadata": {
  "kernelspec": {
   "display_name": "jup_env",
   "language": "python",
   "name": "jup_env"
  },
  "language_info": {
   "codemirror_mode": {
    "name": "ipython",
    "version": 3
   },
   "file_extension": ".py",
   "mimetype": "text/x-python",
   "name": "python",
   "nbconvert_exporter": "python",
   "pygments_lexer": "ipython3",
   "version": "3.9.6"
  },
  "varInspector": {
   "cols": {
    "lenName": 16,
    "lenType": 16,
    "lenVar": 40
   },
   "kernels_config": {
    "python": {
     "delete_cmd_postfix": "",
     "delete_cmd_prefix": "del ",
     "library": "var_list.py",
     "varRefreshCmd": "print(var_dic_list())"
    },
    "r": {
     "delete_cmd_postfix": ") ",
     "delete_cmd_prefix": "rm(",
     "library": "var_list.r",
     "varRefreshCmd": "cat(var_dic_list()) "
    }
   },
   "types_to_exclude": [
    "module",
    "function",
    "builtin_function_or_method",
    "instance",
    "_Feature"
   ],
   "window_display": false
  }
 },
 "nbformat": 4,
 "nbformat_minor": 5
}
